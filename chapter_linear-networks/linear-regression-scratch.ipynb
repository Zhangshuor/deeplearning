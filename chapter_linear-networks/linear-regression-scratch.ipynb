{
  "cells": [
    {
      "cell_type": "markdown",
      "metadata": {
        "id": "vVpAGWv0Z1oR"
      },
      "source": [
        "The following additional libraries are needed to run this\n",
        "notebook. Note that running on Colab is experimental, please report a Github\n",
        "issue if you have any problem."
      ]
    },
    {
      "cell_type": "code",
      "execution_count": 3,
      "metadata": {
        "id": "ApE_a1aaZ1oS",
        "outputId": "04d2f13d-1845-4ce0-8602-e81e5a3fb48c",
        "colab": {
          "base_uri": "https://localhost:8080/"
        }
      },
      "outputs": [
        {
          "metadata": {
            "tags": null
          },
          "name": "stdout",
          "output_type": "stream",
          "text": [
            "Collecting git+https://github.com/d2l-ai/d2l-zh@release\n",
            "  Cloning https://github.com/d2l-ai/d2l-zh (to revision release) to /tmp/pip-req-build-qb3a5aow\n",
            "  Running command git clone -q https://github.com/d2l-ai/d2l-zh /tmp/pip-req-build-qb3a5aow\n",
            "  Running command git checkout -b release --track origin/release\n",
            "  Switched to a new branch 'release'\n",
            "  Branch 'release' set up to track remote branch 'release' from 'origin'.\n",
            "  Running command git submodule update --init --recursive -q\n",
            "Requirement already satisfied: jupyter in /usr/local/lib/python3.7/dist-packages (from d2l==2.0.0b0) (1.0.0)\n",
            "Requirement already satisfied: numpy in /usr/local/lib/python3.7/dist-packages (from d2l==2.0.0b0) (1.19.5)\n",
            "Requirement already satisfied: matplotlib in /usr/local/lib/python3.7/dist-packages (from d2l==2.0.0b0) (3.2.2)\n",
            "Requirement already satisfied: requests in /usr/local/lib/python3.7/dist-packages (from d2l==2.0.0b0) (2.23.0)\n",
            "Requirement already satisfied: pandas in /usr/local/lib/python3.7/dist-packages (from d2l==2.0.0b0) (1.3.5)\n",
            "Requirement already satisfied: jupyter-console in /usr/local/lib/python3.7/dist-packages (from jupyter->d2l==2.0.0b0) (5.2.0)\n",
            "Requirement already satisfied: qtconsole in /usr/local/lib/python3.7/dist-packages (from jupyter->d2l==2.0.0b0) (5.2.2)\n",
            "Requirement already satisfied: ipykernel in /usr/local/lib/python3.7/dist-packages (from jupyter->d2l==2.0.0b0) (4.10.1)\n",
            "Requirement already satisfied: ipywidgets in /usr/local/lib/python3.7/dist-packages (from jupyter->d2l==2.0.0b0) (7.6.5)\n",
            "Requirement already satisfied: notebook in /usr/local/lib/python3.7/dist-packages (from jupyter->d2l==2.0.0b0) (5.3.1)\n",
            "Requirement already satisfied: nbconvert in /usr/local/lib/python3.7/dist-packages (from jupyter->d2l==2.0.0b0) (5.6.1)\n",
            "Requirement already satisfied: jupyter-client in /usr/local/lib/python3.7/dist-packages (from ipykernel->jupyter->d2l==2.0.0b0) (5.3.5)\n",
            "Requirement already satisfied: ipython>=4.0.0 in /usr/local/lib/python3.7/dist-packages (from ipykernel->jupyter->d2l==2.0.0b0) (5.5.0)\n",
            "Requirement already satisfied: traitlets>=4.1.0 in /usr/local/lib/python3.7/dist-packages (from ipykernel->jupyter->d2l==2.0.0b0) (5.1.1)\n",
            "Requirement already satisfied: tornado>=4.0 in /usr/local/lib/python3.7/dist-packages (from ipykernel->jupyter->d2l==2.0.0b0) (5.1.1)\n",
            "Requirement already satisfied: pickleshare in /usr/local/lib/python3.7/dist-packages (from ipython>=4.0.0->ipykernel->jupyter->d2l==2.0.0b0) (0.7.5)\n",
            "Requirement already satisfied: simplegeneric>0.8 in /usr/local/lib/python3.7/dist-packages (from ipython>=4.0.0->ipykernel->jupyter->d2l==2.0.0b0) (0.8.1)\n",
            "Requirement already satisfied: prompt-toolkit<2.0.0,>=1.0.4 in /usr/local/lib/python3.7/dist-packages (from ipython>=4.0.0->ipykernel->jupyter->d2l==2.0.0b0) (1.0.18)\n",
            "Requirement already satisfied: decorator in /usr/local/lib/python3.7/dist-packages (from ipython>=4.0.0->ipykernel->jupyter->d2l==2.0.0b0) (4.4.2)\n",
            "Requirement already satisfied: pygments in /usr/local/lib/python3.7/dist-packages (from ipython>=4.0.0->ipykernel->jupyter->d2l==2.0.0b0) (2.6.1)\n",
            "Requirement already satisfied: setuptools>=18.5 in /usr/local/lib/python3.7/dist-packages (from ipython>=4.0.0->ipykernel->jupyter->d2l==2.0.0b0) (57.4.0)\n",
            "Requirement already satisfied: pexpect in /usr/local/lib/python3.7/dist-packages (from ipython>=4.0.0->ipykernel->jupyter->d2l==2.0.0b0) (4.8.0)\n",
            "Requirement already satisfied: six>=1.9.0 in /usr/local/lib/python3.7/dist-packages (from prompt-toolkit<2.0.0,>=1.0.4->ipython>=4.0.0->ipykernel->jupyter->d2l==2.0.0b0) (1.15.0)\n",
            "Requirement already satisfied: wcwidth in /usr/local/lib/python3.7/dist-packages (from prompt-toolkit<2.0.0,>=1.0.4->ipython>=4.0.0->ipykernel->jupyter->d2l==2.0.0b0) (0.2.5)\n",
            "Requirement already satisfied: nbformat>=4.2.0 in /usr/local/lib/python3.7/dist-packages (from ipywidgets->jupyter->d2l==2.0.0b0) (5.1.3)\n",
            "Requirement already satisfied: widgetsnbextension~=3.5.0 in /usr/local/lib/python3.7/dist-packages (from ipywidgets->jupyter->d2l==2.0.0b0) (3.5.2)\n",
            "Requirement already satisfied: jupyterlab-widgets>=1.0.0 in /usr/local/lib/python3.7/dist-packages (from ipywidgets->jupyter->d2l==2.0.0b0) (1.0.2)\n",
            "Requirement already satisfied: ipython-genutils~=0.2.0 in /usr/local/lib/python3.7/dist-packages (from ipywidgets->jupyter->d2l==2.0.0b0) (0.2.0)\n",
            "Requirement already satisfied: jsonschema!=2.5.0,>=2.4 in /usr/local/lib/python3.7/dist-packages (from nbformat>=4.2.0->ipywidgets->jupyter->d2l==2.0.0b0) (4.3.3)\n",
            "Requirement already satisfied: jupyter-core in /usr/local/lib/python3.7/dist-packages (from nbformat>=4.2.0->ipywidgets->jupyter->d2l==2.0.0b0) (4.9.1)\n",
            "Requirement already satisfied: attrs>=17.4.0 in /usr/local/lib/python3.7/dist-packages (from jsonschema!=2.5.0,>=2.4->nbformat>=4.2.0->ipywidgets->jupyter->d2l==2.0.0b0) (21.4.0)\n",
            "Requirement already satisfied: typing-extensions in /usr/local/lib/python3.7/dist-packages (from jsonschema!=2.5.0,>=2.4->nbformat>=4.2.0->ipywidgets->jupyter->d2l==2.0.0b0) (3.10.0.2)\n",
            "Requirement already satisfied: importlib-resources>=1.4.0 in /usr/local/lib/python3.7/dist-packages (from jsonschema!=2.5.0,>=2.4->nbformat>=4.2.0->ipywidgets->jupyter->d2l==2.0.0b0) (5.4.0)\n",
            "Requirement already satisfied: importlib-metadata in /usr/local/lib/python3.7/dist-packages (from jsonschema!=2.5.0,>=2.4->nbformat>=4.2.0->ipywidgets->jupyter->d2l==2.0.0b0) (4.10.1)\n",
            "Requirement already satisfied: pyrsistent!=0.17.0,!=0.17.1,!=0.17.2,>=0.14.0 in /usr/local/lib/python3.7/dist-packages (from jsonschema!=2.5.0,>=2.4->nbformat>=4.2.0->ipywidgets->jupyter->d2l==2.0.0b0) (0.18.1)\n",
            "Requirement already satisfied: zipp>=3.1.0 in /usr/local/lib/python3.7/dist-packages (from importlib-resources>=1.4.0->jsonschema!=2.5.0,>=2.4->nbformat>=4.2.0->ipywidgets->jupyter->d2l==2.0.0b0) (3.7.0)\n",
            "Requirement already satisfied: Send2Trash in /usr/local/lib/python3.7/dist-packages (from notebook->jupyter->d2l==2.0.0b0) (1.8.0)\n",
            "Requirement already satisfied: jinja2 in /usr/local/lib/python3.7/dist-packages (from notebook->jupyter->d2l==2.0.0b0) (2.11.3)\n",
            "Requirement already satisfied: terminado>=0.8.1 in /usr/local/lib/python3.7/dist-packages (from notebook->jupyter->d2l==2.0.0b0) (0.13.1)\n",
            "Requirement already satisfied: pyzmq>=13 in /usr/local/lib/python3.7/dist-packages (from jupyter-client->ipykernel->jupyter->d2l==2.0.0b0) (22.3.0)\n",
            "Requirement already satisfied: python-dateutil>=2.1 in /usr/local/lib/python3.7/dist-packages (from jupyter-client->ipykernel->jupyter->d2l==2.0.0b0) (2.8.2)\n",
            "Requirement already satisfied: ptyprocess in /usr/local/lib/python3.7/dist-packages (from terminado>=0.8.1->notebook->jupyter->d2l==2.0.0b0) (0.7.0)\n",
            "Requirement already satisfied: MarkupSafe>=0.23 in /usr/local/lib/python3.7/dist-packages (from jinja2->notebook->jupyter->d2l==2.0.0b0) (2.0.1)\n",
            "Requirement already satisfied: cycler>=0.10 in /usr/local/lib/python3.7/dist-packages (from matplotlib->d2l==2.0.0b0) (0.11.0)\n",
            "Requirement already satisfied: kiwisolver>=1.0.1 in /usr/local/lib/python3.7/dist-packages (from matplotlib->d2l==2.0.0b0) (1.3.2)\n",
            "Requirement already satisfied: pyparsing!=2.0.4,!=2.1.2,!=2.1.6,>=2.0.1 in /usr/local/lib/python3.7/dist-packages (from matplotlib->d2l==2.0.0b0) (3.0.7)\n",
            "Requirement already satisfied: pandocfilters>=1.4.1 in /usr/local/lib/python3.7/dist-packages (from nbconvert->jupyter->d2l==2.0.0b0) (1.5.0)\n",
            "Requirement already satisfied: testpath in /usr/local/lib/python3.7/dist-packages (from nbconvert->jupyter->d2l==2.0.0b0) (0.5.0)\n",
            "Requirement already satisfied: bleach in /usr/local/lib/python3.7/dist-packages (from nbconvert->jupyter->d2l==2.0.0b0) (4.1.0)\n",
            "Requirement already satisfied: defusedxml in /usr/local/lib/python3.7/dist-packages (from nbconvert->jupyter->d2l==2.0.0b0) (0.7.1)\n",
            "Requirement already satisfied: entrypoints>=0.2.2 in /usr/local/lib/python3.7/dist-packages (from nbconvert->jupyter->d2l==2.0.0b0) (0.4)\n",
            "Requirement already satisfied: mistune<2,>=0.8.1 in /usr/local/lib/python3.7/dist-packages (from nbconvert->jupyter->d2l==2.0.0b0) (0.8.4)\n",
            "Requirement already satisfied: webencodings in /usr/local/lib/python3.7/dist-packages (from bleach->nbconvert->jupyter->d2l==2.0.0b0) (0.5.1)\n",
            "Requirement already satisfied: packaging in /usr/local/lib/python3.7/dist-packages (from bleach->nbconvert->jupyter->d2l==2.0.0b0) (21.3)\n",
            "Requirement already satisfied: pytz>=2017.3 in /usr/local/lib/python3.7/dist-packages (from pandas->d2l==2.0.0b0) (2018.9)\n",
            "Requirement already satisfied: qtpy in /usr/local/lib/python3.7/dist-packages (from qtconsole->jupyter->d2l==2.0.0b0) (2.0.1)\n",
            "Requirement already satisfied: idna<3,>=2.5 in /usr/local/lib/python3.7/dist-packages (from requests->d2l==2.0.0b0) (2.10)\n",
            "Requirement already satisfied: urllib3!=1.25.0,!=1.25.1,<1.26,>=1.21.1 in /usr/local/lib/python3.7/dist-packages (from requests->d2l==2.0.0b0) (1.24.3)\n",
            "Requirement already satisfied: chardet<4,>=3.0.2 in /usr/local/lib/python3.7/dist-packages (from requests->d2l==2.0.0b0) (3.0.4)\n",
            "Requirement already satisfied: certifi>=2017.4.17 in /usr/local/lib/python3.7/dist-packages (from requests->d2l==2.0.0b0) (2021.10.8)\n",
            "Building wheels for collected packages: d2l\n",
            "  Building wheel for d2l (setup.py) ... \u001b[?25l\u001b[?25hdone\n",
            "  Created wheel for d2l: filename=d2l-2.0.0b0-py3-none-any.whl size=80071 sha256=d294bb3fc05fbcfc12311d465e01cd35270b57121105faac161a73fe9ff770bc\n",
            "  Stored in directory: /tmp/pip-ephem-wheel-cache-3ea0gr14/wheels/73/f4/42/d2b85ca46d85a241d6aa57c1c24027de2d2258202bb67945f9\n",
            "Successfully built d2l\n",
            "Installing collected packages: d2l\n",
            "Successfully installed d2l-2.0.0b0\n"
          ]
        }
      ],
      "source": [
        "!pip install git+https://github.com/d2l-ai/d2l-zh@release  # installing d2l\n"
      ]
    },
    {
      "cell_type": "markdown",
      "metadata": {
        "origin_pos": 0,
        "id": "jqdqUD56Z1oT"
      },
      "source": [
        "# 线性回归的从零开始实现\n",
        ":label:`sec_linear_scratch`\n",
        "\n",
        "在了解线性回归的关键思想之后，我们可以开始通过代码来动手实现线性回归了。\n",
        "在这一节中，(**我们将从零开始实现整个方法，\n",
        "包括数据流水线、模型、损失函数和小批量随机梯度下降优化器**)。\n",
        "虽然现代的深度学习框架几乎可以自动化地进行所有这些工作，但从零开始实现可以确保你真正知道自己在做什么。\n",
        "同时，了解更细致的工作原理将方便我们自定义模型、自定义层或自定义损失函数。\n",
        "在这一节中，我们将只使用张量和自动求导。\n",
        "在之后的章节中，我们会充分利用深度学习框架的优势，介绍更简洁的实现方式。\n"
      ]
    },
    {
      "cell_type": "code",
      "execution_count": 1,
      "metadata": {
        "origin_pos": 2,
        "tab": [
          "pytorch"
        ],
        "id": "oOZVTCdMZ1oT"
      },
      "outputs": [],
      "source": [
        "%matplotlib inline\n",
        "import random\n",
        "import torch\n",
        "from d2l import torch as d2l"
      ]
    },
    {
      "cell_type": "markdown",
      "metadata": {
        "origin_pos": 4,
        "id": "tClvhvC9Z1oU"
      },
      "source": [
        "## 生成数据集\n",
        "\n",
        "为了简单起见，我们将[**根据带有噪声的线性模型构造一个人造数据集。**]\n",
        "我们的任务是使用这个有限样本的数据集来恢复这个模型的参数。\n",
        "我们将使用低维数据，这样可以很容易地将其可视化。\n",
        "在下面的代码中，我们生成一个包含1000个样本的数据集，\n",
        "每个样本包含从标准正态分布中采样的2个特征。\n",
        "我们的合成数据集是一个矩阵$\\mathbf{X}\\in \\mathbb{R}^{1000 \\times 2}$。\n",
        "\n",
        "(**我们使用线性模型参数$\\mathbf{w} = [2, -3.4]^\\top$、$b = 4.2$\n",
        "和噪声项$\\epsilon$生成数据集及其标签：\n",
        "\n",
        "$$\\mathbf{y}= \\mathbf{X} \\mathbf{w} + b + \\mathbf\\epsilon.$$\n",
        "**)\n",
        "\n",
        "你可以将$\\epsilon$视为模型预测和标签时的潜在观测误差。\n",
        "在这里我们认为标准假设成立，即$\\epsilon$服从均值为0的正态分布。\n",
        "为了简化问题，我们将标准差设为0.01。\n",
        "下面的代码生成合成数据集。\n"
      ]
    },
    {
      "cell_type": "code",
      "execution_count": 2,
      "metadata": {
        "origin_pos": 5,
        "tab": [
          "pytorch"
        ],
        "id": "6txif_TrZ1oY"
      },
      "outputs": [],
      "source": [
        "def synthetic_data(w, b, num_examples):  #w:权重，b偏移量,num_examples:样本数\n",
        "    \"\"\"生成y=Xw+b+噪声\"\"\"\n",
        "    X = torch.normal(0, 1, (num_examples, len(w)))#生成x，均值0，方差1；行数：num_examples；列数：权重的长度\n",
        "    y = torch.matmul(X, w) + b#torch.matmul是tensor的乘法，输入可以是高维的。\n",
        "    y += torch.normal(0, 0.01, y.shape)#添加一个噪声\n",
        "    return X, y.reshape((-1, 1))#reshape中-1表示自动计算，即列向量为1（不然y是标量，没有列数）"
      ]
    },
    {
      "cell_type": "code",
      "source": [
        "from google.colab import drive\n",
        "drive.mount('/content/drive')"
      ],
      "metadata": {
        "id": "EnCrpZoscBom",
        "outputId": "3b1d6738-3099-4323-830e-72caefe75247",
        "colab": {
          "base_uri": "https://localhost:8080/"
        }
      },
      "execution_count": 3,
      "outputs": [
        {
          "output_type": "stream",
          "name": "stdout",
          "text": [
            "Mounted at /content/drive\n"
          ]
        }
      ]
    },
    {
      "cell_type": "code",
      "execution_count": 4,
      "metadata": {
        "origin_pos": 7,
        "tab": [
          "pytorch"
        ],
        "id": "uCAzu0GDZ1oY"
      },
      "outputs": [],
      "source": [
        "#给出真实值\n",
        "true_w = torch.tensor([2, -3.4])\n",
        "true_b = 4.2\n",
        "#生成特征和标号\n",
        "features, labels = synthetic_data(true_w, true_b, 1000)"
      ]
    },
    {
      "cell_type": "markdown",
      "metadata": {
        "origin_pos": 8,
        "id": "9uDEEdkiZ1oZ"
      },
      "source": [
        "注意，[**`features`中的每一行都包含一个二维数据样本，\n",
        "`labels`中的每一行都包含一维标签值（一个标量）**]。\n"
      ]
    },
    {
      "cell_type": "code",
      "execution_count": 5,
      "metadata": {
        "origin_pos": 9,
        "tab": [
          "pytorch"
        ],
        "id": "FhD-tg-HZ1oZ",
        "outputId": "7f994607-e975-4f69-90ab-4191aea10720",
        "colab": {
          "base_uri": "https://localhost:8080/"
        }
      },
      "outputs": [
        {
          "output_type": "stream",
          "name": "stdout",
          "text": [
            "features: tensor([ 0.9354, -0.6562]) \n",
            "label: tensor([8.3179])\n"
          ]
        }
      ],
      "source": [
        "print('features:', features[0],'\\nlabel:', labels[0])"
      ]
    },
    {
      "cell_type": "markdown",
      "metadata": {
        "origin_pos": 10,
        "id": "2NuIiJADZ1oa"
      },
      "source": [
        "通过生成第二个特征`features[:, 1]`和`labels`的散点图，\n",
        "可以直观观察到两者之间的线性关系。\n"
      ]
    },
    {
      "cell_type": "code",
      "execution_count": 6,
      "metadata": {
        "origin_pos": 11,
        "tab": [
          "pytorch"
        ],
        "id": "1TVh7ZOJZ1oa",
        "outputId": "8a4ba02e-567d-40fe-c2d1-a4da0b0758f0",
        "colab": {
          "base_uri": "https://localhost:8080/",
          "height": 244
        }
      },
      "outputs": [
        {
          "output_type": "display_data",
          "data": {
            "text/plain": [
              "<Figure size 252x180 with 1 Axes>"
            ],
            "image/svg+xml": "<?xml version=\"1.0\" encoding=\"utf-8\" standalone=\"no\"?>\n<!DOCTYPE svg PUBLIC \"-//W3C//DTD SVG 1.1//EN\"\n  \"http://www.w3.org/Graphics/SVG/1.1/DTD/svg11.dtd\">\n<!-- Created with matplotlib (https://matplotlib.org/) -->\n<svg height=\"166.978125pt\" version=\"1.1\" viewBox=\"0 0 237.804688 166.978125\" width=\"237.804688pt\" xmlns=\"http://www.w3.org/2000/svg\" xmlns:xlink=\"http://www.w3.org/1999/xlink\">\n <defs>\n  <style type=\"text/css\">\n*{stroke-linecap:butt;stroke-linejoin:round;}\n  </style>\n </defs>\n <g id=\"figure_1\">\n  <g id=\"patch_1\">\n   <path d=\"M 0 166.978125 \nL 237.804688 166.978125 \nL 237.804688 0 \nL 0 0 \nz\n\" style=\"fill:none;\"/>\n  </g>\n  <g id=\"axes_1\">\n   <g id=\"patch_2\">\n    <path d=\"M 35.304688 143.1 \nL 230.604688 143.1 \nL 230.604688 7.2 \nL 35.304688 7.2 \nz\n\" style=\"fill:#ffffff;\"/>\n   </g>\n   <g id=\"PathCollection_1\">\n    <defs>\n     <path d=\"M 0 0.5 \nC 0.132602 0.5 0.25979 0.447317 0.353553 0.353553 \nC 0.447317 0.25979 0.5 0.132602 0.5 0 \nC 0.5 -0.132602 0.447317 -0.25979 0.353553 -0.353553 \nC 0.25979 -0.447317 0.132602 -0.5 0 -0.5 \nC -0.132602 -0.5 -0.25979 -0.447317 -0.353553 -0.353553 \nC -0.447317 -0.25979 -0.5 -0.132602 -0.5 0 \nC -0.5 0.132602 -0.447317 0.25979 -0.353553 0.353553 \nC -0.25979 0.447317 -0.132602 0.5 0 0.5 \nz\n\" id=\"m89a9ee04b0\" style=\"stroke:#1f77b4;\"/>\n    </defs>\n    <g clip-path=\"url(#pb143fdf7d9)\">\n     <use style=\"fill:#1f77b4;stroke:#1f77b4;\" x=\"117.211949\" xlink:href=\"#m89a9ee04b0\" y=\"51.854986\"/>\n     <use style=\"fill:#1f77b4;stroke:#1f77b4;\" x=\"105.423654\" xlink:href=\"#m89a9ee04b0\" y=\"48.934958\"/>\n     <use style=\"fill:#1f77b4;stroke:#1f77b4;\" x=\"123.264058\" xlink:href=\"#m89a9ee04b0\" y=\"52.263163\"/>\n     <use style=\"fill:#1f77b4;stroke:#1f77b4;\" x=\"110.949941\" xlink:href=\"#m89a9ee04b0\" y=\"61.854178\"/>\n     <use style=\"fill:#1f77b4;stroke:#1f77b4;\" x=\"140.046114\" xlink:href=\"#m89a9ee04b0\" y=\"77.341889\"/>\n     <use style=\"fill:#1f77b4;stroke:#1f77b4;\" x=\"132.252562\" xlink:href=\"#m89a9ee04b0\" y=\"79.268015\"/>\n     <use style=\"fill:#1f77b4;stroke:#1f77b4;\" x=\"95.609307\" xlink:href=\"#m89a9ee04b0\" y=\"46.348868\"/>\n     <use style=\"fill:#1f77b4;stroke:#1f77b4;\" x=\"149.014497\" xlink:href=\"#m89a9ee04b0\" y=\"99.67444\"/>\n     <use style=\"fill:#1f77b4;stroke:#1f77b4;\" x=\"192.128333\" xlink:href=\"#m89a9ee04b0\" y=\"96.831249\"/>\n     <use style=\"fill:#1f77b4;stroke:#1f77b4;\" x=\"114.626575\" xlink:href=\"#m89a9ee04b0\" y=\"61.24567\"/>\n     <use style=\"fill:#1f77b4;stroke:#1f77b4;\" x=\"126.415116\" xlink:href=\"#m89a9ee04b0\" y=\"56.227677\"/>\n     <use style=\"fill:#1f77b4;stroke:#1f77b4;\" x=\"162.490539\" xlink:href=\"#m89a9ee04b0\" y=\"77.717229\"/>\n     <use style=\"fill:#1f77b4;stroke:#1f77b4;\" x=\"85.241917\" xlink:href=\"#m89a9ee04b0\" y=\"40.231047\"/>\n     <use style=\"fill:#1f77b4;stroke:#1f77b4;\" x=\"153.530514\" xlink:href=\"#m89a9ee04b0\" y=\"80.642189\"/>\n     <use style=\"fill:#1f77b4;stroke:#1f77b4;\" x=\"134.477503\" xlink:href=\"#m89a9ee04b0\" y=\"54.037076\"/>\n     <use style=\"fill:#1f77b4;stroke:#1f77b4;\" x=\"101.943135\" xlink:href=\"#m89a9ee04b0\" y=\"55.017771\"/>\n     <use style=\"fill:#1f77b4;stroke:#1f77b4;\" x=\"155.72722\" xlink:href=\"#m89a9ee04b0\" y=\"87.275024\"/>\n     <use style=\"fill:#1f77b4;stroke:#1f77b4;\" x=\"121.338183\" xlink:href=\"#m89a9ee04b0\" y=\"68.73364\"/>\n     <use style=\"fill:#1f77b4;stroke:#1f77b4;\" x=\"118.197553\" xlink:href=\"#m89a9ee04b0\" y=\"73.528248\"/>\n     <use style=\"fill:#1f77b4;stroke:#1f77b4;\" x=\"119.511568\" xlink:href=\"#m89a9ee04b0\" y=\"76.760867\"/>\n     <use style=\"fill:#1f77b4;stroke:#1f77b4;\" x=\"129.922156\" xlink:href=\"#m89a9ee04b0\" y=\"74.564422\"/>\n     <use style=\"fill:#1f77b4;stroke:#1f77b4;\" x=\"170.770541\" xlink:href=\"#m89a9ee04b0\" y=\"76.977698\"/>\n     <use style=\"fill:#1f77b4;stroke:#1f77b4;\" x=\"135.634068\" xlink:href=\"#m89a9ee04b0\" y=\"63.892772\"/>\n     <use style=\"fill:#1f77b4;stroke:#1f77b4;\" x=\"191.493101\" xlink:href=\"#m89a9ee04b0\" y=\"101.995372\"/>\n     <use style=\"fill:#1f77b4;stroke:#1f77b4;\" x=\"137.728229\" xlink:href=\"#m89a9ee04b0\" y=\"62.22999\"/>\n     <use style=\"fill:#1f77b4;stroke:#1f77b4;\" x=\"157.535395\" xlink:href=\"#m89a9ee04b0\" y=\"57.403675\"/>\n     <use style=\"fill:#1f77b4;stroke:#1f77b4;\" x=\"155.425107\" xlink:href=\"#m89a9ee04b0\" y=\"101.773319\"/>\n     <use style=\"fill:#1f77b4;stroke:#1f77b4;\" x=\"122.138612\" xlink:href=\"#m89a9ee04b0\" y=\"62.988201\"/>\n     <use style=\"fill:#1f77b4;stroke:#1f77b4;\" x=\"144.645051\" xlink:href=\"#m89a9ee04b0\" y=\"77.263929\"/>\n     <use style=\"fill:#1f77b4;stroke:#1f77b4;\" x=\"174.669992\" xlink:href=\"#m89a9ee04b0\" y=\"99.68044\"/>\n     <use style=\"fill:#1f77b4;stroke:#1f77b4;\" x=\"166.06632\" xlink:href=\"#m89a9ee04b0\" y=\"103.68919\"/>\n     <use style=\"fill:#1f77b4;stroke:#1f77b4;\" x=\"150.323412\" xlink:href=\"#m89a9ee04b0\" y=\"85.209113\"/>\n     <use style=\"fill:#1f77b4;stroke:#1f77b4;\" x=\"155.830733\" xlink:href=\"#m89a9ee04b0\" y=\"95.450612\"/>\n     <use style=\"fill:#1f77b4;stroke:#1f77b4;\" x=\"138.194549\" xlink:href=\"#m89a9ee04b0\" y=\"64.023591\"/>\n     <use style=\"fill:#1f77b4;stroke:#1f77b4;\" x=\"120.733985\" xlink:href=\"#m89a9ee04b0\" y=\"52.430268\"/>\n     <use style=\"fill:#1f77b4;stroke:#1f77b4;\" x=\"112.488999\" xlink:href=\"#m89a9ee04b0\" y=\"39.973542\"/>\n     <use style=\"fill:#1f77b4;stroke:#1f77b4;\" x=\"103.158945\" xlink:href=\"#m89a9ee04b0\" y=\"45.612012\"/>\n     <use style=\"fill:#1f77b4;stroke:#1f77b4;\" x=\"134.057515\" xlink:href=\"#m89a9ee04b0\" y=\"80.554835\"/>\n     <use style=\"fill:#1f77b4;stroke:#1f77b4;\" x=\"137.817285\" xlink:href=\"#m89a9ee04b0\" y=\"100.284414\"/>\n     <use style=\"fill:#1f77b4;stroke:#1f77b4;\" x=\"114.296267\" xlink:href=\"#m89a9ee04b0\" y=\"66.093348\"/>\n     <use style=\"fill:#1f77b4;stroke:#1f77b4;\" x=\"137.880643\" xlink:href=\"#m89a9ee04b0\" y=\"58.463341\"/>\n     <use style=\"fill:#1f77b4;stroke:#1f77b4;\" x=\"163.280572\" xlink:href=\"#m89a9ee04b0\" y=\"113.445096\"/>\n     <use style=\"fill:#1f77b4;stroke:#1f77b4;\" x=\"155.552755\" xlink:href=\"#m89a9ee04b0\" y=\"84.317691\"/>\n     <use style=\"fill:#1f77b4;stroke:#1f77b4;\" x=\"68.35974\" xlink:href=\"#m89a9ee04b0\" y=\"38.078853\"/>\n     <use style=\"fill:#1f77b4;stroke:#1f77b4;\" x=\"188.370103\" xlink:href=\"#m89a9ee04b0\" y=\"92.560477\"/>\n     <use style=\"fill:#1f77b4;stroke:#1f77b4;\" x=\"133.638002\" xlink:href=\"#m89a9ee04b0\" y=\"77.328963\"/>\n     <use style=\"fill:#1f77b4;stroke:#1f77b4;\" x=\"128.977567\" xlink:href=\"#m89a9ee04b0\" y=\"72.428064\"/>\n     <use style=\"fill:#1f77b4;stroke:#1f77b4;\" x=\"170.175497\" xlink:href=\"#m89a9ee04b0\" y=\"91.678212\"/>\n     <use style=\"fill:#1f77b4;stroke:#1f77b4;\" x=\"110.354628\" xlink:href=\"#m89a9ee04b0\" y=\"42.463285\"/>\n     <use style=\"fill:#1f77b4;stroke:#1f77b4;\" x=\"117.877073\" xlink:href=\"#m89a9ee04b0\" y=\"55.527456\"/>\n     <use style=\"fill:#1f77b4;stroke:#1f77b4;\" x=\"161.471393\" xlink:href=\"#m89a9ee04b0\" y=\"72.337498\"/>\n     <use style=\"fill:#1f77b4;stroke:#1f77b4;\" x=\"126.652987\" xlink:href=\"#m89a9ee04b0\" y=\"62.825783\"/>\n     <use style=\"fill:#1f77b4;stroke:#1f77b4;\" x=\"207.558647\" xlink:href=\"#m89a9ee04b0\" y=\"129.329089\"/>\n     <use style=\"fill:#1f77b4;stroke:#1f77b4;\" x=\"97.595619\" xlink:href=\"#m89a9ee04b0\" y=\"55.321771\"/>\n     <use style=\"fill:#1f77b4;stroke:#1f77b4;\" x=\"102.383445\" xlink:href=\"#m89a9ee04b0\" y=\"39.011644\"/>\n     <use style=\"fill:#1f77b4;stroke:#1f77b4;\" x=\"99.842408\" xlink:href=\"#m89a9ee04b0\" y=\"58.608243\"/>\n     <use style=\"fill:#1f77b4;stroke:#1f77b4;\" x=\"136.107191\" xlink:href=\"#m89a9ee04b0\" y=\"72.455906\"/>\n     <use style=\"fill:#1f77b4;stroke:#1f77b4;\" x=\"134.20811\" xlink:href=\"#m89a9ee04b0\" y=\"85.762056\"/>\n     <use style=\"fill:#1f77b4;stroke:#1f77b4;\" x=\"154.773035\" xlink:href=\"#m89a9ee04b0\" y=\"85.262849\"/>\n     <use style=\"fill:#1f77b4;stroke:#1f77b4;\" x=\"152.740658\" xlink:href=\"#m89a9ee04b0\" y=\"70.260201\"/>\n     <use style=\"fill:#1f77b4;stroke:#1f77b4;\" x=\"134.258167\" xlink:href=\"#m89a9ee04b0\" y=\"69.87941\"/>\n     <use style=\"fill:#1f77b4;stroke:#1f77b4;\" x=\"124.698119\" xlink:href=\"#m89a9ee04b0\" y=\"56.034165\"/>\n     <use style=\"fill:#1f77b4;stroke:#1f77b4;\" x=\"114.034755\" xlink:href=\"#m89a9ee04b0\" y=\"54.746865\"/>\n     <use style=\"fill:#1f77b4;stroke:#1f77b4;\" x=\"143.777319\" xlink:href=\"#m89a9ee04b0\" y=\"79.483539\"/>\n     <use style=\"fill:#1f77b4;stroke:#1f77b4;\" x=\"182.045971\" xlink:href=\"#m89a9ee04b0\" y=\"108.229875\"/>\n     <use style=\"fill:#1f77b4;stroke:#1f77b4;\" x=\"138.665356\" xlink:href=\"#m89a9ee04b0\" y=\"87.643171\"/>\n     <use style=\"fill:#1f77b4;stroke:#1f77b4;\" x=\"173.227759\" xlink:href=\"#m89a9ee04b0\" y=\"87.871855\"/>\n     <use style=\"fill:#1f77b4;stroke:#1f77b4;\" x=\"154.778288\" xlink:href=\"#m89a9ee04b0\" y=\"86.365682\"/>\n     <use style=\"fill:#1f77b4;stroke:#1f77b4;\" x=\"195.426047\" xlink:href=\"#m89a9ee04b0\" y=\"80.981726\"/>\n     <use style=\"fill:#1f77b4;stroke:#1f77b4;\" x=\"132.124845\" xlink:href=\"#m89a9ee04b0\" y=\"60.738711\"/>\n     <use style=\"fill:#1f77b4;stroke:#1f77b4;\" x=\"105.998469\" xlink:href=\"#m89a9ee04b0\" y=\"66.22184\"/>\n     <use style=\"fill:#1f77b4;stroke:#1f77b4;\" x=\"148.124142\" xlink:href=\"#m89a9ee04b0\" y=\"90.842833\"/>\n     <use style=\"fill:#1f77b4;stroke:#1f77b4;\" x=\"74.067916\" xlink:href=\"#m89a9ee04b0\" y=\"45.484781\"/>\n     <use style=\"fill:#1f77b4;stroke:#1f77b4;\" x=\"124.154848\" xlink:href=\"#m89a9ee04b0\" y=\"65.026943\"/>\n     <use style=\"fill:#1f77b4;stroke:#1f77b4;\" x=\"118.257064\" xlink:href=\"#m89a9ee04b0\" y=\"61.822893\"/>\n     <use style=\"fill:#1f77b4;stroke:#1f77b4;\" x=\"168.413969\" xlink:href=\"#m89a9ee04b0\" y=\"96.545768\"/>\n     <use style=\"fill:#1f77b4;stroke:#1f77b4;\" x=\"167.284017\" xlink:href=\"#m89a9ee04b0\" y=\"91.119585\"/>\n     <use style=\"fill:#1f77b4;stroke:#1f77b4;\" x=\"150.078999\" xlink:href=\"#m89a9ee04b0\" y=\"81.58988\"/>\n     <use style=\"fill:#1f77b4;stroke:#1f77b4;\" x=\"73.463593\" xlink:href=\"#m89a9ee04b0\" y=\"36.189169\"/>\n     <use style=\"fill:#1f77b4;stroke:#1f77b4;\" x=\"164.406207\" xlink:href=\"#m89a9ee04b0\" y=\"88.672022\"/>\n     <use style=\"fill:#1f77b4;stroke:#1f77b4;\" x=\"121.675489\" xlink:href=\"#m89a9ee04b0\" y=\"60.200133\"/>\n     <use style=\"fill:#1f77b4;stroke:#1f77b4;\" x=\"81.038292\" xlink:href=\"#m89a9ee04b0\" y=\"35.844617\"/>\n     <use style=\"fill:#1f77b4;stroke:#1f77b4;\" x=\"109.66772\" xlink:href=\"#m89a9ee04b0\" y=\"64.690637\"/>\n     <use style=\"fill:#1f77b4;stroke:#1f77b4;\" x=\"131.66075\" xlink:href=\"#m89a9ee04b0\" y=\"53.556006\"/>\n     <use style=\"fill:#1f77b4;stroke:#1f77b4;\" x=\"153.071665\" xlink:href=\"#m89a9ee04b0\" y=\"90.442815\"/>\n     <use style=\"fill:#1f77b4;stroke:#1f77b4;\" x=\"153.431316\" xlink:href=\"#m89a9ee04b0\" y=\"93.2365\"/>\n     <use style=\"fill:#1f77b4;stroke:#1f77b4;\" x=\"173.358024\" xlink:href=\"#m89a9ee04b0\" y=\"92.295927\"/>\n     <use style=\"fill:#1f77b4;stroke:#1f77b4;\" x=\"118.856961\" xlink:href=\"#m89a9ee04b0\" y=\"67.420581\"/>\n     <use style=\"fill:#1f77b4;stroke:#1f77b4;\" x=\"144.098668\" xlink:href=\"#m89a9ee04b0\" y=\"82.313384\"/>\n     <use style=\"fill:#1f77b4;stroke:#1f77b4;\" x=\"167.117282\" xlink:href=\"#m89a9ee04b0\" y=\"82.115311\"/>\n     <use style=\"fill:#1f77b4;stroke:#1f77b4;\" x=\"145.080107\" xlink:href=\"#m89a9ee04b0\" y=\"61.218379\"/>\n     <use style=\"fill:#1f77b4;stroke:#1f77b4;\" x=\"108.182753\" xlink:href=\"#m89a9ee04b0\" y=\"51.398456\"/>\n     <use style=\"fill:#1f77b4;stroke:#1f77b4;\" x=\"150.459681\" xlink:href=\"#m89a9ee04b0\" y=\"75.216245\"/>\n     <use style=\"fill:#1f77b4;stroke:#1f77b4;\" x=\"161.490442\" xlink:href=\"#m89a9ee04b0\" y=\"85.850619\"/>\n     <use style=\"fill:#1f77b4;stroke:#1f77b4;\" x=\"144.3907\" xlink:href=\"#m89a9ee04b0\" y=\"80.761059\"/>\n     <use style=\"fill:#1f77b4;stroke:#1f77b4;\" x=\"149.038804\" xlink:href=\"#m89a9ee04b0\" y=\"73.545091\"/>\n     <use style=\"fill:#1f77b4;stroke:#1f77b4;\" x=\"151.552535\" xlink:href=\"#m89a9ee04b0\" y=\"71.137465\"/>\n     <use style=\"fill:#1f77b4;stroke:#1f77b4;\" x=\"129.763003\" xlink:href=\"#m89a9ee04b0\" y=\"80.988732\"/>\n     <use style=\"fill:#1f77b4;stroke:#1f77b4;\" x=\"95.058984\" xlink:href=\"#m89a9ee04b0\" y=\"60.084182\"/>\n     <use style=\"fill:#1f77b4;stroke:#1f77b4;\" x=\"177.533803\" xlink:href=\"#m89a9ee04b0\" y=\"91.864837\"/>\n     <use style=\"fill:#1f77b4;stroke:#1f77b4;\" x=\"147.925806\" xlink:href=\"#m89a9ee04b0\" y=\"71.462131\"/>\n     <use style=\"fill:#1f77b4;stroke:#1f77b4;\" x=\"140.802495\" xlink:href=\"#m89a9ee04b0\" y=\"66.35204\"/>\n     <use style=\"fill:#1f77b4;stroke:#1f77b4;\" x=\"112.202003\" xlink:href=\"#m89a9ee04b0\" y=\"68.638649\"/>\n     <use style=\"fill:#1f77b4;stroke:#1f77b4;\" x=\"121.893542\" xlink:href=\"#m89a9ee04b0\" y=\"44.257514\"/>\n     <use style=\"fill:#1f77b4;stroke:#1f77b4;\" x=\"172.206223\" xlink:href=\"#m89a9ee04b0\" y=\"86.935718\"/>\n     <use style=\"fill:#1f77b4;stroke:#1f77b4;\" x=\"170.857339\" xlink:href=\"#m89a9ee04b0\" y=\"97.779889\"/>\n     <use style=\"fill:#1f77b4;stroke:#1f77b4;\" x=\"135.344804\" xlink:href=\"#m89a9ee04b0\" y=\"74.492864\"/>\n     <use style=\"fill:#1f77b4;stroke:#1f77b4;\" x=\"161.492278\" xlink:href=\"#m89a9ee04b0\" y=\"90.863876\"/>\n     <use style=\"fill:#1f77b4;stroke:#1f77b4;\" x=\"114.144172\" xlink:href=\"#m89a9ee04b0\" y=\"52.628275\"/>\n     <use style=\"fill:#1f77b4;stroke:#1f77b4;\" x=\"193.204628\" xlink:href=\"#m89a9ee04b0\" y=\"119.559656\"/>\n     <use style=\"fill:#1f77b4;stroke:#1f77b4;\" x=\"134.936469\" xlink:href=\"#m89a9ee04b0\" y=\"71.88327\"/>\n     <use style=\"fill:#1f77b4;stroke:#1f77b4;\" x=\"81.719446\" xlink:href=\"#m89a9ee04b0\" y=\"33.06747\"/>\n     <use style=\"fill:#1f77b4;stroke:#1f77b4;\" x=\"141.186363\" xlink:href=\"#m89a9ee04b0\" y=\"88.179092\"/>\n     <use style=\"fill:#1f77b4;stroke:#1f77b4;\" x=\"114.130098\" xlink:href=\"#m89a9ee04b0\" y=\"62.291413\"/>\n     <use style=\"fill:#1f77b4;stroke:#1f77b4;\" x=\"164.089558\" xlink:href=\"#m89a9ee04b0\" y=\"93.756359\"/>\n     <use style=\"fill:#1f77b4;stroke:#1f77b4;\" x=\"175.449587\" xlink:href=\"#m89a9ee04b0\" y=\"85.421882\"/>\n     <use style=\"fill:#1f77b4;stroke:#1f77b4;\" x=\"143.941337\" xlink:href=\"#m89a9ee04b0\" y=\"86.490024\"/>\n     <use style=\"fill:#1f77b4;stroke:#1f77b4;\" x=\"151.579524\" xlink:href=\"#m89a9ee04b0\" y=\"80.388885\"/>\n     <use style=\"fill:#1f77b4;stroke:#1f77b4;\" x=\"138.552801\" xlink:href=\"#m89a9ee04b0\" y=\"79.511738\"/>\n     <use style=\"fill:#1f77b4;stroke:#1f77b4;\" x=\"119.789099\" xlink:href=\"#m89a9ee04b0\" y=\"50.268511\"/>\n     <use style=\"fill:#1f77b4;stroke:#1f77b4;\" x=\"132.272493\" xlink:href=\"#m89a9ee04b0\" y=\"76.602379\"/>\n     <use style=\"fill:#1f77b4;stroke:#1f77b4;\" x=\"71.591751\" xlink:href=\"#m89a9ee04b0\" y=\"29.523601\"/>\n     <use style=\"fill:#1f77b4;stroke:#1f77b4;\" x=\"141.241753\" xlink:href=\"#m89a9ee04b0\" y=\"58.632917\"/>\n     <use style=\"fill:#1f77b4;stroke:#1f77b4;\" x=\"142.096124\" xlink:href=\"#m89a9ee04b0\" y=\"86.696709\"/>\n     <use style=\"fill:#1f77b4;stroke:#1f77b4;\" x=\"125.030158\" xlink:href=\"#m89a9ee04b0\" y=\"57.971038\"/>\n     <use style=\"fill:#1f77b4;stroke:#1f77b4;\" x=\"111.139966\" xlink:href=\"#m89a9ee04b0\" y=\"60.868281\"/>\n     <use style=\"fill:#1f77b4;stroke:#1f77b4;\" x=\"128.473904\" xlink:href=\"#m89a9ee04b0\" y=\"62.683048\"/>\n     <use style=\"fill:#1f77b4;stroke:#1f77b4;\" x=\"109.37514\" xlink:href=\"#m89a9ee04b0\" y=\"30.119237\"/>\n     <use style=\"fill:#1f77b4;stroke:#1f77b4;\" x=\"149.466398\" xlink:href=\"#m89a9ee04b0\" y=\"77.306679\"/>\n     <use style=\"fill:#1f77b4;stroke:#1f77b4;\" x=\"134.116175\" xlink:href=\"#m89a9ee04b0\" y=\"57.12707\"/>\n     <use style=\"fill:#1f77b4;stroke:#1f77b4;\" x=\"111.119965\" xlink:href=\"#m89a9ee04b0\" y=\"55.023589\"/>\n     <use style=\"fill:#1f77b4;stroke:#1f77b4;\" x=\"145.013569\" xlink:href=\"#m89a9ee04b0\" y=\"77.246376\"/>\n     <use style=\"fill:#1f77b4;stroke:#1f77b4;\" x=\"150.65589\" xlink:href=\"#m89a9ee04b0\" y=\"92.108628\"/>\n     <use style=\"fill:#1f77b4;stroke:#1f77b4;\" x=\"145.500403\" xlink:href=\"#m89a9ee04b0\" y=\"87.96094\"/>\n     <use style=\"fill:#1f77b4;stroke:#1f77b4;\" x=\"116.891434\" xlink:href=\"#m89a9ee04b0\" y=\"58.910765\"/>\n     <use style=\"fill:#1f77b4;stroke:#1f77b4;\" x=\"131.733826\" xlink:href=\"#m89a9ee04b0\" y=\"90.713548\"/>\n     <use style=\"fill:#1f77b4;stroke:#1f77b4;\" x=\"119.204507\" xlink:href=\"#m89a9ee04b0\" y=\"65.980633\"/>\n     <use style=\"fill:#1f77b4;stroke:#1f77b4;\" x=\"108.582715\" xlink:href=\"#m89a9ee04b0\" y=\"50.06435\"/>\n     <use style=\"fill:#1f77b4;stroke:#1f77b4;\" x=\"152.057717\" xlink:href=\"#m89a9ee04b0\" y=\"63.238312\"/>\n     <use style=\"fill:#1f77b4;stroke:#1f77b4;\" x=\"115.749586\" xlink:href=\"#m89a9ee04b0\" y=\"51.223542\"/>\n     <use style=\"fill:#1f77b4;stroke:#1f77b4;\" x=\"144.622617\" xlink:href=\"#m89a9ee04b0\" y=\"83.420561\"/>\n     <use style=\"fill:#1f77b4;stroke:#1f77b4;\" x=\"153.85377\" xlink:href=\"#m89a9ee04b0\" y=\"74.502638\"/>\n     <use style=\"fill:#1f77b4;stroke:#1f77b4;\" x=\"143.982419\" xlink:href=\"#m89a9ee04b0\" y=\"65.891122\"/>\n     <use style=\"fill:#1f77b4;stroke:#1f77b4;\" x=\"155.964201\" xlink:href=\"#m89a9ee04b0\" y=\"94.201676\"/>\n     <use style=\"fill:#1f77b4;stroke:#1f77b4;\" x=\"130.13824\" xlink:href=\"#m89a9ee04b0\" y=\"72.648384\"/>\n     <use style=\"fill:#1f77b4;stroke:#1f77b4;\" x=\"137.411928\" xlink:href=\"#m89a9ee04b0\" y=\"73.155714\"/>\n     <use style=\"fill:#1f77b4;stroke:#1f77b4;\" x=\"72.86692\" xlink:href=\"#m89a9ee04b0\" y=\"39.861113\"/>\n     <use style=\"fill:#1f77b4;stroke:#1f77b4;\" x=\"176.45157\" xlink:href=\"#m89a9ee04b0\" y=\"103.023685\"/>\n     <use style=\"fill:#1f77b4;stroke:#1f77b4;\" x=\"139.641898\" xlink:href=\"#m89a9ee04b0\" y=\"67.443407\"/>\n     <use style=\"fill:#1f77b4;stroke:#1f77b4;\" x=\"128.117348\" xlink:href=\"#m89a9ee04b0\" y=\"69.323285\"/>\n     <use style=\"fill:#1f77b4;stroke:#1f77b4;\" x=\"117.625677\" xlink:href=\"#m89a9ee04b0\" y=\"58.487131\"/>\n     <use style=\"fill:#1f77b4;stroke:#1f77b4;\" x=\"157.721144\" xlink:href=\"#m89a9ee04b0\" y=\"85.010261\"/>\n     <use style=\"fill:#1f77b4;stroke:#1f77b4;\" x=\"156.000769\" xlink:href=\"#m89a9ee04b0\" y=\"90.262594\"/>\n     <use style=\"fill:#1f77b4;stroke:#1f77b4;\" x=\"167.912074\" xlink:href=\"#m89a9ee04b0\" y=\"77.841658\"/>\n     <use style=\"fill:#1f77b4;stroke:#1f77b4;\" x=\"126.933311\" xlink:href=\"#m89a9ee04b0\" y=\"56.720897\"/>\n     <use style=\"fill:#1f77b4;stroke:#1f77b4;\" x=\"150.712454\" xlink:href=\"#m89a9ee04b0\" y=\"95.932455\"/>\n     <use style=\"fill:#1f77b4;stroke:#1f77b4;\" x=\"132.46765\" xlink:href=\"#m89a9ee04b0\" y=\"55.027674\"/>\n     <use style=\"fill:#1f77b4;stroke:#1f77b4;\" x=\"112.036638\" xlink:href=\"#m89a9ee04b0\" y=\"53.197623\"/>\n     <use style=\"fill:#1f77b4;stroke:#1f77b4;\" x=\"128.262767\" xlink:href=\"#m89a9ee04b0\" y=\"62.395381\"/>\n     <use style=\"fill:#1f77b4;stroke:#1f77b4;\" x=\"123.532826\" xlink:href=\"#m89a9ee04b0\" y=\"72.665432\"/>\n     <use style=\"fill:#1f77b4;stroke:#1f77b4;\" x=\"181.704981\" xlink:href=\"#m89a9ee04b0\" y=\"98.439258\"/>\n     <use style=\"fill:#1f77b4;stroke:#1f77b4;\" x=\"108.902968\" xlink:href=\"#m89a9ee04b0\" y=\"55.842798\"/>\n     <use style=\"fill:#1f77b4;stroke:#1f77b4;\" x=\"112.079903\" xlink:href=\"#m89a9ee04b0\" y=\"51.7752\"/>\n     <use style=\"fill:#1f77b4;stroke:#1f77b4;\" x=\"111.548875\" xlink:href=\"#m89a9ee04b0\" y=\"66.839662\"/>\n     <use style=\"fill:#1f77b4;stroke:#1f77b4;\" x=\"152.424801\" xlink:href=\"#m89a9ee04b0\" y=\"86.757252\"/>\n     <use style=\"fill:#1f77b4;stroke:#1f77b4;\" x=\"151.103275\" xlink:href=\"#m89a9ee04b0\" y=\"79.91566\"/>\n     <use style=\"fill:#1f77b4;stroke:#1f77b4;\" x=\"101.91084\" xlink:href=\"#m89a9ee04b0\" y=\"78.684674\"/>\n     <use style=\"fill:#1f77b4;stroke:#1f77b4;\" x=\"143.863878\" xlink:href=\"#m89a9ee04b0\" y=\"89.884897\"/>\n     <use style=\"fill:#1f77b4;stroke:#1f77b4;\" x=\"151.588316\" xlink:href=\"#m89a9ee04b0\" y=\"78.162418\"/>\n     <use style=\"fill:#1f77b4;stroke:#1f77b4;\" x=\"186.104004\" xlink:href=\"#m89a9ee04b0\" y=\"113.018477\"/>\n     <use style=\"fill:#1f77b4;stroke:#1f77b4;\" x=\"83.786076\" xlink:href=\"#m89a9ee04b0\" y=\"23.75647\"/>\n     <use style=\"fill:#1f77b4;stroke:#1f77b4;\" x=\"158.541848\" xlink:href=\"#m89a9ee04b0\" y=\"104.404299\"/>\n     <use style=\"fill:#1f77b4;stroke:#1f77b4;\" x=\"104.843516\" xlink:href=\"#m89a9ee04b0\" y=\"54.155509\"/>\n     <use style=\"fill:#1f77b4;stroke:#1f77b4;\" x=\"109.998126\" xlink:href=\"#m89a9ee04b0\" y=\"63.850018\"/>\n     <use style=\"fill:#1f77b4;stroke:#1f77b4;\" x=\"112.168524\" xlink:href=\"#m89a9ee04b0\" y=\"46.558784\"/>\n     <use style=\"fill:#1f77b4;stroke:#1f77b4;\" x=\"124.596919\" xlink:href=\"#m89a9ee04b0\" y=\"50.512626\"/>\n     <use style=\"fill:#1f77b4;stroke:#1f77b4;\" x=\"100.159761\" xlink:href=\"#m89a9ee04b0\" y=\"57.381703\"/>\n     <use style=\"fill:#1f77b4;stroke:#1f77b4;\" x=\"86.847597\" xlink:href=\"#m89a9ee04b0\" y=\"37.916124\"/>\n     <use style=\"fill:#1f77b4;stroke:#1f77b4;\" x=\"45.361597\" xlink:href=\"#m89a9ee04b0\" y=\"23.656005\"/>\n     <use style=\"fill:#1f77b4;stroke:#1f77b4;\" x=\"175.049052\" xlink:href=\"#m89a9ee04b0\" y=\"93.705408\"/>\n     <use style=\"fill:#1f77b4;stroke:#1f77b4;\" x=\"122.277101\" xlink:href=\"#m89a9ee04b0\" y=\"67.840524\"/>\n     <use style=\"fill:#1f77b4;stroke:#1f77b4;\" x=\"146.945315\" xlink:href=\"#m89a9ee04b0\" y=\"72.422485\"/>\n     <use style=\"fill:#1f77b4;stroke:#1f77b4;\" x=\"107.340306\" xlink:href=\"#m89a9ee04b0\" y=\"48.220177\"/>\n     <use style=\"fill:#1f77b4;stroke:#1f77b4;\" x=\"150.000476\" xlink:href=\"#m89a9ee04b0\" y=\"94.32224\"/>\n     <use style=\"fill:#1f77b4;stroke:#1f77b4;\" x=\"173.417765\" xlink:href=\"#m89a9ee04b0\" y=\"99.187069\"/>\n     <use style=\"fill:#1f77b4;stroke:#1f77b4;\" x=\"101.110716\" xlink:href=\"#m89a9ee04b0\" y=\"60.172268\"/>\n     <use style=\"fill:#1f77b4;stroke:#1f77b4;\" x=\"107.425334\" xlink:href=\"#m89a9ee04b0\" y=\"62.066616\"/>\n     <use style=\"fill:#1f77b4;stroke:#1f77b4;\" x=\"150.168957\" xlink:href=\"#m89a9ee04b0\" y=\"85.382506\"/>\n     <use style=\"fill:#1f77b4;stroke:#1f77b4;\" x=\"160.671274\" xlink:href=\"#m89a9ee04b0\" y=\"86.525708\"/>\n     <use style=\"fill:#1f77b4;stroke:#1f77b4;\" x=\"105.49889\" xlink:href=\"#m89a9ee04b0\" y=\"55.355269\"/>\n     <use style=\"fill:#1f77b4;stroke:#1f77b4;\" x=\"134.690584\" xlink:href=\"#m89a9ee04b0\" y=\"58.917411\"/>\n     <use style=\"fill:#1f77b4;stroke:#1f77b4;\" x=\"154.193314\" xlink:href=\"#m89a9ee04b0\" y=\"54.654075\"/>\n     <use style=\"fill:#1f77b4;stroke:#1f77b4;\" x=\"126.614671\" xlink:href=\"#m89a9ee04b0\" y=\"80.767534\"/>\n     <use style=\"fill:#1f77b4;stroke:#1f77b4;\" x=\"68.313424\" xlink:href=\"#m89a9ee04b0\" y=\"16.941985\"/>\n     <use style=\"fill:#1f77b4;stroke:#1f77b4;\" x=\"129.873483\" xlink:href=\"#m89a9ee04b0\" y=\"64.517589\"/>\n     <use style=\"fill:#1f77b4;stroke:#1f77b4;\" x=\"93.593542\" xlink:href=\"#m89a9ee04b0\" y=\"31.902758\"/>\n     <use style=\"fill:#1f77b4;stroke:#1f77b4;\" x=\"136.058609\" xlink:href=\"#m89a9ee04b0\" y=\"77.942043\"/>\n     <use style=\"fill:#1f77b4;stroke:#1f77b4;\" x=\"65.479185\" xlink:href=\"#m89a9ee04b0\" y=\"27.598638\"/>\n     <use style=\"fill:#1f77b4;stroke:#1f77b4;\" x=\"125.789501\" xlink:href=\"#m89a9ee04b0\" y=\"68.214914\"/>\n     <use style=\"fill:#1f77b4;stroke:#1f77b4;\" x=\"132.996824\" xlink:href=\"#m89a9ee04b0\" y=\"69.743775\"/>\n     <use style=\"fill:#1f77b4;stroke:#1f77b4;\" x=\"198.719476\" xlink:href=\"#m89a9ee04b0\" y=\"133.285179\"/>\n     <use style=\"fill:#1f77b4;stroke:#1f77b4;\" x=\"127.206364\" xlink:href=\"#m89a9ee04b0\" y=\"50.018533\"/>\n     <use style=\"fill:#1f77b4;stroke:#1f77b4;\" x=\"153.931781\" xlink:href=\"#m89a9ee04b0\" y=\"84.946073\"/>\n     <use style=\"fill:#1f77b4;stroke:#1f77b4;\" x=\"170.698731\" xlink:href=\"#m89a9ee04b0\" y=\"96.429209\"/>\n     <use style=\"fill:#1f77b4;stroke:#1f77b4;\" x=\"91.433838\" xlink:href=\"#m89a9ee04b0\" y=\"40.292331\"/>\n     <use style=\"fill:#1f77b4;stroke:#1f77b4;\" x=\"175.104871\" xlink:href=\"#m89a9ee04b0\" y=\"88.072047\"/>\n     <use style=\"fill:#1f77b4;stroke:#1f77b4;\" x=\"83.282855\" xlink:href=\"#m89a9ee04b0\" y=\"43.223836\"/>\n     <use style=\"fill:#1f77b4;stroke:#1f77b4;\" x=\"142.471732\" xlink:href=\"#m89a9ee04b0\" y=\"66.18345\"/>\n     <use style=\"fill:#1f77b4;stroke:#1f77b4;\" x=\"84.878025\" xlink:href=\"#m89a9ee04b0\" y=\"38.198617\"/>\n     <use style=\"fill:#1f77b4;stroke:#1f77b4;\" x=\"158.432546\" xlink:href=\"#m89a9ee04b0\" y=\"73.698806\"/>\n     <use style=\"fill:#1f77b4;stroke:#1f77b4;\" x=\"133.812585\" xlink:href=\"#m89a9ee04b0\" y=\"45.986758\"/>\n     <use style=\"fill:#1f77b4;stroke:#1f77b4;\" x=\"146.727694\" xlink:href=\"#m89a9ee04b0\" y=\"86.466803\"/>\n     <use style=\"fill:#1f77b4;stroke:#1f77b4;\" x=\"156.125533\" xlink:href=\"#m89a9ee04b0\" y=\"103.508668\"/>\n     <use style=\"fill:#1f77b4;stroke:#1f77b4;\" x=\"145.980972\" xlink:href=\"#m89a9ee04b0\" y=\"63.931648\"/>\n     <use style=\"fill:#1f77b4;stroke:#1f77b4;\" x=\"168.16753\" xlink:href=\"#m89a9ee04b0\" y=\"84.114222\"/>\n     <use style=\"fill:#1f77b4;stroke:#1f77b4;\" x=\"140.15476\" xlink:href=\"#m89a9ee04b0\" y=\"92.142819\"/>\n     <use style=\"fill:#1f77b4;stroke:#1f77b4;\" x=\"143.488715\" xlink:href=\"#m89a9ee04b0\" y=\"83.582437\"/>\n     <use style=\"fill:#1f77b4;stroke:#1f77b4;\" x=\"112.159999\" xlink:href=\"#m89a9ee04b0\" y=\"63.082803\"/>\n     <use style=\"fill:#1f77b4;stroke:#1f77b4;\" x=\"184.446944\" xlink:href=\"#m89a9ee04b0\" y=\"102.701647\"/>\n     <use style=\"fill:#1f77b4;stroke:#1f77b4;\" x=\"172.883216\" xlink:href=\"#m89a9ee04b0\" y=\"102.379344\"/>\n     <use style=\"fill:#1f77b4;stroke:#1f77b4;\" x=\"86.554658\" xlink:href=\"#m89a9ee04b0\" y=\"34.861511\"/>\n     <use style=\"fill:#1f77b4;stroke:#1f77b4;\" x=\"121.734344\" xlink:href=\"#m89a9ee04b0\" y=\"62.706594\"/>\n     <use style=\"fill:#1f77b4;stroke:#1f77b4;\" x=\"127.578944\" xlink:href=\"#m89a9ee04b0\" y=\"43.374422\"/>\n     <use style=\"fill:#1f77b4;stroke:#1f77b4;\" x=\"89.297767\" xlink:href=\"#m89a9ee04b0\" y=\"30.775481\"/>\n     <use style=\"fill:#1f77b4;stroke:#1f77b4;\" x=\"163.65954\" xlink:href=\"#m89a9ee04b0\" y=\"96.080364\"/>\n     <use style=\"fill:#1f77b4;stroke:#1f77b4;\" x=\"111.978451\" xlink:href=\"#m89a9ee04b0\" y=\"72.276579\"/>\n     <use style=\"fill:#1f77b4;stroke:#1f77b4;\" x=\"127.094351\" xlink:href=\"#m89a9ee04b0\" y=\"64.337444\"/>\n     <use style=\"fill:#1f77b4;stroke:#1f77b4;\" x=\"125.676817\" xlink:href=\"#m89a9ee04b0\" y=\"61.978158\"/>\n     <use style=\"fill:#1f77b4;stroke:#1f77b4;\" x=\"99.559283\" xlink:href=\"#m89a9ee04b0\" y=\"44.255741\"/>\n     <use style=\"fill:#1f77b4;stroke:#1f77b4;\" x=\"147.943643\" xlink:href=\"#m89a9ee04b0\" y=\"102.924371\"/>\n     <use style=\"fill:#1f77b4;stroke:#1f77b4;\" x=\"86.63124\" xlink:href=\"#m89a9ee04b0\" y=\"24.466223\"/>\n     <use style=\"fill:#1f77b4;stroke:#1f77b4;\" x=\"110.098118\" xlink:href=\"#m89a9ee04b0\" y=\"72.222041\"/>\n     <use style=\"fill:#1f77b4;stroke:#1f77b4;\" x=\"134.660898\" xlink:href=\"#m89a9ee04b0\" y=\"64.311264\"/>\n     <use style=\"fill:#1f77b4;stroke:#1f77b4;\" x=\"136.298787\" xlink:href=\"#m89a9ee04b0\" y=\"72.354982\"/>\n     <use style=\"fill:#1f77b4;stroke:#1f77b4;\" x=\"170.91738\" xlink:href=\"#m89a9ee04b0\" y=\"106.993841\"/>\n     <use style=\"fill:#1f77b4;stroke:#1f77b4;\" x=\"129.047392\" xlink:href=\"#m89a9ee04b0\" y=\"64.870381\"/>\n     <use style=\"fill:#1f77b4;stroke:#1f77b4;\" x=\"107.852196\" xlink:href=\"#m89a9ee04b0\" y=\"57.675039\"/>\n     <use style=\"fill:#1f77b4;stroke:#1f77b4;\" x=\"104.879272\" xlink:href=\"#m89a9ee04b0\" y=\"59.106841\"/>\n     <use style=\"fill:#1f77b4;stroke:#1f77b4;\" x=\"159.071467\" xlink:href=\"#m89a9ee04b0\" y=\"94.17598\"/>\n     <use style=\"fill:#1f77b4;stroke:#1f77b4;\" x=\"116.819662\" xlink:href=\"#m89a9ee04b0\" y=\"49.646184\"/>\n     <use style=\"fill:#1f77b4;stroke:#1f77b4;\" x=\"98.361163\" xlink:href=\"#m89a9ee04b0\" y=\"31.352634\"/>\n     <use style=\"fill:#1f77b4;stroke:#1f77b4;\" x=\"156.681457\" xlink:href=\"#m89a9ee04b0\" y=\"75.427366\"/>\n     <use style=\"fill:#1f77b4;stroke:#1f77b4;\" x=\"112.770679\" xlink:href=\"#m89a9ee04b0\" y=\"56.197764\"/>\n     <use style=\"fill:#1f77b4;stroke:#1f77b4;\" x=\"146.01493\" xlink:href=\"#m89a9ee04b0\" y=\"67.293737\"/>\n     <use style=\"fill:#1f77b4;stroke:#1f77b4;\" x=\"180.866198\" xlink:href=\"#m89a9ee04b0\" y=\"89.230781\"/>\n     <use style=\"fill:#1f77b4;stroke:#1f77b4;\" x=\"171.632695\" xlink:href=\"#m89a9ee04b0\" y=\"91.623891\"/>\n     <use style=\"fill:#1f77b4;stroke:#1f77b4;\" x=\"138.263242\" xlink:href=\"#m89a9ee04b0\" y=\"69.827428\"/>\n     <use style=\"fill:#1f77b4;stroke:#1f77b4;\" x=\"99.479199\" xlink:href=\"#m89a9ee04b0\" y=\"52.687078\"/>\n     <use style=\"fill:#1f77b4;stroke:#1f77b4;\" x=\"152.931082\" xlink:href=\"#m89a9ee04b0\" y=\"88.666143\"/>\n     <use style=\"fill:#1f77b4;stroke:#1f77b4;\" x=\"130.428592\" xlink:href=\"#m89a9ee04b0\" y=\"73.419555\"/>\n     <use style=\"fill:#1f77b4;stroke:#1f77b4;\" x=\"162.665966\" xlink:href=\"#m89a9ee04b0\" y=\"94.487991\"/>\n     <use style=\"fill:#1f77b4;stroke:#1f77b4;\" x=\"89.92157\" xlink:href=\"#m89a9ee04b0\" y=\"37.391401\"/>\n     <use style=\"fill:#1f77b4;stroke:#1f77b4;\" x=\"166.714101\" xlink:href=\"#m89a9ee04b0\" y=\"84.602022\"/>\n     <use style=\"fill:#1f77b4;stroke:#1f77b4;\" x=\"168.815007\" xlink:href=\"#m89a9ee04b0\" y=\"80.863862\"/>\n     <use style=\"fill:#1f77b4;stroke:#1f77b4;\" x=\"152.849909\" xlink:href=\"#m89a9ee04b0\" y=\"71.189282\"/>\n     <use style=\"fill:#1f77b4;stroke:#1f77b4;\" x=\"155.463229\" xlink:href=\"#m89a9ee04b0\" y=\"88.247763\"/>\n     <use style=\"fill:#1f77b4;stroke:#1f77b4;\" x=\"117.132163\" xlink:href=\"#m89a9ee04b0\" y=\"55.542863\"/>\n     <use style=\"fill:#1f77b4;stroke:#1f77b4;\" x=\"183.250932\" xlink:href=\"#m89a9ee04b0\" y=\"90.617876\"/>\n     <use style=\"fill:#1f77b4;stroke:#1f77b4;\" x=\"173.647634\" xlink:href=\"#m89a9ee04b0\" y=\"89.469772\"/>\n     <use style=\"fill:#1f77b4;stroke:#1f77b4;\" x=\"129.201721\" xlink:href=\"#m89a9ee04b0\" y=\"54.866774\"/>\n     <use style=\"fill:#1f77b4;stroke:#1f77b4;\" x=\"117.462423\" xlink:href=\"#m89a9ee04b0\" y=\"58.082278\"/>\n     <use style=\"fill:#1f77b4;stroke:#1f77b4;\" x=\"102.129236\" xlink:href=\"#m89a9ee04b0\" y=\"69.908371\"/>\n     <use style=\"fill:#1f77b4;stroke:#1f77b4;\" x=\"125.715972\" xlink:href=\"#m89a9ee04b0\" y=\"64.63097\"/>\n     <use style=\"fill:#1f77b4;stroke:#1f77b4;\" x=\"142.968292\" xlink:href=\"#m89a9ee04b0\" y=\"82.103228\"/>\n     <use style=\"fill:#1f77b4;stroke:#1f77b4;\" x=\"144.637378\" xlink:href=\"#m89a9ee04b0\" y=\"89.449877\"/>\n     <use style=\"fill:#1f77b4;stroke:#1f77b4;\" x=\"121.34221\" xlink:href=\"#m89a9ee04b0\" y=\"63.444445\"/>\n     <use style=\"fill:#1f77b4;stroke:#1f77b4;\" x=\"171.66603\" xlink:href=\"#m89a9ee04b0\" y=\"98.534204\"/>\n     <use style=\"fill:#1f77b4;stroke:#1f77b4;\" x=\"117.873336\" xlink:href=\"#m89a9ee04b0\" y=\"52.788111\"/>\n     <use style=\"fill:#1f77b4;stroke:#1f77b4;\" x=\"152.525956\" xlink:href=\"#m89a9ee04b0\" y=\"68.950811\"/>\n     <use style=\"fill:#1f77b4;stroke:#1f77b4;\" x=\"118.627677\" xlink:href=\"#m89a9ee04b0\" y=\"79.866042\"/>\n     <use style=\"fill:#1f77b4;stroke:#1f77b4;\" x=\"105.595518\" xlink:href=\"#m89a9ee04b0\" y=\"42.016557\"/>\n     <use style=\"fill:#1f77b4;stroke:#1f77b4;\" x=\"204.980874\" xlink:href=\"#m89a9ee04b0\" y=\"106.297285\"/>\n     <use style=\"fill:#1f77b4;stroke:#1f77b4;\" x=\"128.672258\" xlink:href=\"#m89a9ee04b0\" y=\"55.501637\"/>\n     <use style=\"fill:#1f77b4;stroke:#1f77b4;\" x=\"113.968165\" xlink:href=\"#m89a9ee04b0\" y=\"72.070097\"/>\n     <use style=\"fill:#1f77b4;stroke:#1f77b4;\" x=\"213.361895\" xlink:href=\"#m89a9ee04b0\" y=\"105.38056\"/>\n     <use style=\"fill:#1f77b4;stroke:#1f77b4;\" x=\"95.308175\" xlink:href=\"#m89a9ee04b0\" y=\"57.384013\"/>\n     <use style=\"fill:#1f77b4;stroke:#1f77b4;\" x=\"172.123567\" xlink:href=\"#m89a9ee04b0\" y=\"93.745814\"/>\n     <use style=\"fill:#1f77b4;stroke:#1f77b4;\" x=\"130.108799\" xlink:href=\"#m89a9ee04b0\" y=\"49.14864\"/>\n     <use style=\"fill:#1f77b4;stroke:#1f77b4;\" x=\"105.294772\" xlink:href=\"#m89a9ee04b0\" y=\"36.197282\"/>\n     <use style=\"fill:#1f77b4;stroke:#1f77b4;\" x=\"182.096296\" xlink:href=\"#m89a9ee04b0\" y=\"96.31829\"/>\n     <use style=\"fill:#1f77b4;stroke:#1f77b4;\" x=\"144.468504\" xlink:href=\"#m89a9ee04b0\" y=\"88.193313\"/>\n     <use style=\"fill:#1f77b4;stroke:#1f77b4;\" x=\"164.685771\" xlink:href=\"#m89a9ee04b0\" y=\"94.660278\"/>\n     <use style=\"fill:#1f77b4;stroke:#1f77b4;\" x=\"116.788829\" xlink:href=\"#m89a9ee04b0\" y=\"56.947551\"/>\n     <use style=\"fill:#1f77b4;stroke:#1f77b4;\" x=\"137.319128\" xlink:href=\"#m89a9ee04b0\" y=\"76.998085\"/>\n     <use style=\"fill:#1f77b4;stroke:#1f77b4;\" x=\"148.542578\" xlink:href=\"#m89a9ee04b0\" y=\"72.562177\"/>\n     <use style=\"fill:#1f77b4;stroke:#1f77b4;\" x=\"168.53566\" xlink:href=\"#m89a9ee04b0\" y=\"88.13798\"/>\n     <use style=\"fill:#1f77b4;stroke:#1f77b4;\" x=\"218.252553\" xlink:href=\"#m89a9ee04b0\" y=\"110.403489\"/>\n     <use style=\"fill:#1f77b4;stroke:#1f77b4;\" x=\"85.13491\" xlink:href=\"#m89a9ee04b0\" y=\"13.377273\"/>\n     <use style=\"fill:#1f77b4;stroke:#1f77b4;\" x=\"168.493519\" xlink:href=\"#m89a9ee04b0\" y=\"89.882943\"/>\n     <use style=\"fill:#1f77b4;stroke:#1f77b4;\" x=\"150.955771\" xlink:href=\"#m89a9ee04b0\" y=\"86.868031\"/>\n     <use style=\"fill:#1f77b4;stroke:#1f77b4;\" x=\"131.952519\" xlink:href=\"#m89a9ee04b0\" y=\"82.545683\"/>\n     <use style=\"fill:#1f77b4;stroke:#1f77b4;\" x=\"147.096345\" xlink:href=\"#m89a9ee04b0\" y=\"64.578754\"/>\n     <use style=\"fill:#1f77b4;stroke:#1f77b4;\" x=\"132.855922\" xlink:href=\"#m89a9ee04b0\" y=\"75.096465\"/>\n     <use style=\"fill:#1f77b4;stroke:#1f77b4;\" x=\"170.941284\" xlink:href=\"#m89a9ee04b0\" y=\"93.633485\"/>\n     <use style=\"fill:#1f77b4;stroke:#1f77b4;\" x=\"122.947749\" xlink:href=\"#m89a9ee04b0\" y=\"45.352462\"/>\n     <use style=\"fill:#1f77b4;stroke:#1f77b4;\" x=\"179.216901\" xlink:href=\"#m89a9ee04b0\" y=\"80.587516\"/>\n     <use style=\"fill:#1f77b4;stroke:#1f77b4;\" x=\"116.470515\" xlink:href=\"#m89a9ee04b0\" y=\"58.202492\"/>\n     <use style=\"fill:#1f77b4;stroke:#1f77b4;\" x=\"99.024627\" xlink:href=\"#m89a9ee04b0\" y=\"48.480576\"/>\n     <use style=\"fill:#1f77b4;stroke:#1f77b4;\" x=\"100.064066\" xlink:href=\"#m89a9ee04b0\" y=\"39.695842\"/>\n     <use style=\"fill:#1f77b4;stroke:#1f77b4;\" x=\"96.763687\" xlink:href=\"#m89a9ee04b0\" y=\"39.307246\"/>\n     <use style=\"fill:#1f77b4;stroke:#1f77b4;\" x=\"140.257722\" xlink:href=\"#m89a9ee04b0\" y=\"79.862999\"/>\n     <use style=\"fill:#1f77b4;stroke:#1f77b4;\" x=\"74.913456\" xlink:href=\"#m89a9ee04b0\" y=\"37.817338\"/>\n     <use style=\"fill:#1f77b4;stroke:#1f77b4;\" x=\"104.487687\" xlink:href=\"#m89a9ee04b0\" y=\"59.113718\"/>\n     <use style=\"fill:#1f77b4;stroke:#1f77b4;\" x=\"79.071252\" xlink:href=\"#m89a9ee04b0\" y=\"47.20367\"/>\n     <use style=\"fill:#1f77b4;stroke:#1f77b4;\" x=\"120.395948\" xlink:href=\"#m89a9ee04b0\" y=\"51.492233\"/>\n     <use style=\"fill:#1f77b4;stroke:#1f77b4;\" x=\"183.642414\" xlink:href=\"#m89a9ee04b0\" y=\"95.61839\"/>\n     <use style=\"fill:#1f77b4;stroke:#1f77b4;\" x=\"166.035958\" xlink:href=\"#m89a9ee04b0\" y=\"89.923164\"/>\n     <use style=\"fill:#1f77b4;stroke:#1f77b4;\" x=\"149.72818\" xlink:href=\"#m89a9ee04b0\" y=\"83.602446\"/>\n     <use style=\"fill:#1f77b4;stroke:#1f77b4;\" x=\"97.436821\" xlink:href=\"#m89a9ee04b0\" y=\"42.120806\"/>\n     <use style=\"fill:#1f77b4;stroke:#1f77b4;\" x=\"194.90466\" xlink:href=\"#m89a9ee04b0\" y=\"105.058065\"/>\n     <use style=\"fill:#1f77b4;stroke:#1f77b4;\" x=\"187.337618\" xlink:href=\"#m89a9ee04b0\" y=\"94.613548\"/>\n     <use style=\"fill:#1f77b4;stroke:#1f77b4;\" x=\"146.834967\" xlink:href=\"#m89a9ee04b0\" y=\"75.751109\"/>\n     <use style=\"fill:#1f77b4;stroke:#1f77b4;\" x=\"122.276356\" xlink:href=\"#m89a9ee04b0\" y=\"65.875856\"/>\n     <use style=\"fill:#1f77b4;stroke:#1f77b4;\" x=\"110.388057\" xlink:href=\"#m89a9ee04b0\" y=\"68.10456\"/>\n     <use style=\"fill:#1f77b4;stroke:#1f77b4;\" x=\"134.143984\" xlink:href=\"#m89a9ee04b0\" y=\"68.632404\"/>\n     <use style=\"fill:#1f77b4;stroke:#1f77b4;\" x=\"159.353592\" xlink:href=\"#m89a9ee04b0\" y=\"97.045889\"/>\n     <use style=\"fill:#1f77b4;stroke:#1f77b4;\" x=\"85.132634\" xlink:href=\"#m89a9ee04b0\" y=\"55.206917\"/>\n     <use style=\"fill:#1f77b4;stroke:#1f77b4;\" x=\"104.533284\" xlink:href=\"#m89a9ee04b0\" y=\"53.507699\"/>\n     <use style=\"fill:#1f77b4;stroke:#1f77b4;\" x=\"148.389106\" xlink:href=\"#m89a9ee04b0\" y=\"81.847551\"/>\n     <use style=\"fill:#1f77b4;stroke:#1f77b4;\" x=\"162.951285\" xlink:href=\"#m89a9ee04b0\" y=\"93.388352\"/>\n     <use style=\"fill:#1f77b4;stroke:#1f77b4;\" x=\"133.974246\" xlink:href=\"#m89a9ee04b0\" y=\"55.474407\"/>\n     <use style=\"fill:#1f77b4;stroke:#1f77b4;\" x=\"89.851439\" xlink:href=\"#m89a9ee04b0\" y=\"35.237988\"/>\n     <use style=\"fill:#1f77b4;stroke:#1f77b4;\" x=\"136.334423\" xlink:href=\"#m89a9ee04b0\" y=\"72.07977\"/>\n     <use style=\"fill:#1f77b4;stroke:#1f77b4;\" x=\"126.256439\" xlink:href=\"#m89a9ee04b0\" y=\"70.767658\"/>\n     <use style=\"fill:#1f77b4;stroke:#1f77b4;\" x=\"180.009544\" xlink:href=\"#m89a9ee04b0\" y=\"102.306183\"/>\n     <use style=\"fill:#1f77b4;stroke:#1f77b4;\" x=\"97.853234\" xlink:href=\"#m89a9ee04b0\" y=\"37.83978\"/>\n     <use style=\"fill:#1f77b4;stroke:#1f77b4;\" x=\"153.37043\" xlink:href=\"#m89a9ee04b0\" y=\"92.651952\"/>\n     <use style=\"fill:#1f77b4;stroke:#1f77b4;\" x=\"109.858678\" xlink:href=\"#m89a9ee04b0\" y=\"59.03165\"/>\n     <use style=\"fill:#1f77b4;stroke:#1f77b4;\" x=\"180.946228\" xlink:href=\"#m89a9ee04b0\" y=\"119.095261\"/>\n     <use style=\"fill:#1f77b4;stroke:#1f77b4;\" x=\"127.233853\" xlink:href=\"#m89a9ee04b0\" y=\"51.921387\"/>\n     <use style=\"fill:#1f77b4;stroke:#1f77b4;\" x=\"151.824198\" xlink:href=\"#m89a9ee04b0\" y=\"89.486306\"/>\n     <use style=\"fill:#1f77b4;stroke:#1f77b4;\" x=\"104.253361\" xlink:href=\"#m89a9ee04b0\" y=\"43.359663\"/>\n     <use style=\"fill:#1f77b4;stroke:#1f77b4;\" x=\"152.531893\" xlink:href=\"#m89a9ee04b0\" y=\"102.330695\"/>\n     <use style=\"fill:#1f77b4;stroke:#1f77b4;\" x=\"123.756111\" xlink:href=\"#m89a9ee04b0\" y=\"70.150879\"/>\n     <use style=\"fill:#1f77b4;stroke:#1f77b4;\" x=\"198.077307\" xlink:href=\"#m89a9ee04b0\" y=\"108.767459\"/>\n     <use style=\"fill:#1f77b4;stroke:#1f77b4;\" x=\"147.332947\" xlink:href=\"#m89a9ee04b0\" y=\"70.323436\"/>\n     <use style=\"fill:#1f77b4;stroke:#1f77b4;\" x=\"163.937864\" xlink:href=\"#m89a9ee04b0\" y=\"73.285289\"/>\n     <use style=\"fill:#1f77b4;stroke:#1f77b4;\" x=\"107.772238\" xlink:href=\"#m89a9ee04b0\" y=\"50.505807\"/>\n     <use style=\"fill:#1f77b4;stroke:#1f77b4;\" x=\"115.109936\" xlink:href=\"#m89a9ee04b0\" y=\"50.357255\"/>\n     <use style=\"fill:#1f77b4;stroke:#1f77b4;\" x=\"146.17461\" xlink:href=\"#m89a9ee04b0\" y=\"66.711276\"/>\n     <use style=\"fill:#1f77b4;stroke:#1f77b4;\" x=\"102.623\" xlink:href=\"#m89a9ee04b0\" y=\"68.142003\"/>\n     <use style=\"fill:#1f77b4;stroke:#1f77b4;\" x=\"155.860694\" xlink:href=\"#m89a9ee04b0\" y=\"92.382057\"/>\n     <use style=\"fill:#1f77b4;stroke:#1f77b4;\" x=\"116.906014\" xlink:href=\"#m89a9ee04b0\" y=\"45.600137\"/>\n     <use style=\"fill:#1f77b4;stroke:#1f77b4;\" x=\"143.957493\" xlink:href=\"#m89a9ee04b0\" y=\"71.542032\"/>\n     <use style=\"fill:#1f77b4;stroke:#1f77b4;\" x=\"97.309745\" xlink:href=\"#m89a9ee04b0\" y=\"48.192713\"/>\n     <use style=\"fill:#1f77b4;stroke:#1f77b4;\" x=\"192.400759\" xlink:href=\"#m89a9ee04b0\" y=\"119.39052\"/>\n     <use style=\"fill:#1f77b4;stroke:#1f77b4;\" x=\"197.576625\" xlink:href=\"#m89a9ee04b0\" y=\"103.048078\"/>\n     <use style=\"fill:#1f77b4;stroke:#1f77b4;\" x=\"100.161867\" xlink:href=\"#m89a9ee04b0\" y=\"52.121215\"/>\n     <use style=\"fill:#1f77b4;stroke:#1f77b4;\" x=\"101.141745\" xlink:href=\"#m89a9ee04b0\" y=\"60.521519\"/>\n     <use style=\"fill:#1f77b4;stroke:#1f77b4;\" x=\"172.389742\" xlink:href=\"#m89a9ee04b0\" y=\"84.818965\"/>\n     <use style=\"fill:#1f77b4;stroke:#1f77b4;\" x=\"124.030502\" xlink:href=\"#m89a9ee04b0\" y=\"58.570862\"/>\n     <use style=\"fill:#1f77b4;stroke:#1f77b4;\" x=\"172.762301\" xlink:href=\"#m89a9ee04b0\" y=\"96.70318\"/>\n     <use style=\"fill:#1f77b4;stroke:#1f77b4;\" x=\"98.36928\" xlink:href=\"#m89a9ee04b0\" y=\"64.287802\"/>\n     <use style=\"fill:#1f77b4;stroke:#1f77b4;\" x=\"119.914941\" xlink:href=\"#m89a9ee04b0\" y=\"53.22204\"/>\n     <use style=\"fill:#1f77b4;stroke:#1f77b4;\" x=\"99.609691\" xlink:href=\"#m89a9ee04b0\" y=\"53.494883\"/>\n     <use style=\"fill:#1f77b4;stroke:#1f77b4;\" x=\"155.978827\" xlink:href=\"#m89a9ee04b0\" y=\"74.874672\"/>\n     <use style=\"fill:#1f77b4;stroke:#1f77b4;\" x=\"181.662843\" xlink:href=\"#m89a9ee04b0\" y=\"79.188648\"/>\n     <use style=\"fill:#1f77b4;stroke:#1f77b4;\" x=\"145.331027\" xlink:href=\"#m89a9ee04b0\" y=\"87.510221\"/>\n     <use style=\"fill:#1f77b4;stroke:#1f77b4;\" x=\"102.630347\" xlink:href=\"#m89a9ee04b0\" y=\"68.549973\"/>\n     <use style=\"fill:#1f77b4;stroke:#1f77b4;\" x=\"203.451753\" xlink:href=\"#m89a9ee04b0\" y=\"123.923168\"/>\n     <use style=\"fill:#1f77b4;stroke:#1f77b4;\" x=\"183.525827\" xlink:href=\"#m89a9ee04b0\" y=\"100.599315\"/>\n     <use style=\"fill:#1f77b4;stroke:#1f77b4;\" x=\"60.630178\" xlink:href=\"#m89a9ee04b0\" y=\"39.85329\"/>\n     <use style=\"fill:#1f77b4;stroke:#1f77b4;\" x=\"134.406377\" xlink:href=\"#m89a9ee04b0\" y=\"64.215982\"/>\n     <use style=\"fill:#1f77b4;stroke:#1f77b4;\" x=\"138.565802\" xlink:href=\"#m89a9ee04b0\" y=\"68.9203\"/>\n     <use style=\"fill:#1f77b4;stroke:#1f77b4;\" x=\"163.207712\" xlink:href=\"#m89a9ee04b0\" y=\"90.353075\"/>\n     <use style=\"fill:#1f77b4;stroke:#1f77b4;\" x=\"132.648989\" xlink:href=\"#m89a9ee04b0\" y=\"70.836788\"/>\n     <use style=\"fill:#1f77b4;stroke:#1f77b4;\" x=\"187.181876\" xlink:href=\"#m89a9ee04b0\" y=\"117.673707\"/>\n     <use style=\"fill:#1f77b4;stroke:#1f77b4;\" x=\"148.097052\" xlink:href=\"#m89a9ee04b0\" y=\"80.792777\"/>\n     <use style=\"fill:#1f77b4;stroke:#1f77b4;\" x=\"116.336256\" xlink:href=\"#m89a9ee04b0\" y=\"65.261094\"/>\n     <use style=\"fill:#1f77b4;stroke:#1f77b4;\" x=\"148.889931\" xlink:href=\"#m89a9ee04b0\" y=\"71.712087\"/>\n     <use style=\"fill:#1f77b4;stroke:#1f77b4;\" x=\"143.585273\" xlink:href=\"#m89a9ee04b0\" y=\"82.148093\"/>\n     <use style=\"fill:#1f77b4;stroke:#1f77b4;\" x=\"167.085747\" xlink:href=\"#m89a9ee04b0\" y=\"90.569962\"/>\n     <use style=\"fill:#1f77b4;stroke:#1f77b4;\" x=\"122.993244\" xlink:href=\"#m89a9ee04b0\" y=\"58.944355\"/>\n     <use style=\"fill:#1f77b4;stroke:#1f77b4;\" x=\"151.518853\" xlink:href=\"#m89a9ee04b0\" y=\"79.562897\"/>\n     <use style=\"fill:#1f77b4;stroke:#1f77b4;\" x=\"99.307863\" xlink:href=\"#m89a9ee04b0\" y=\"53.136522\"/>\n     <use style=\"fill:#1f77b4;stroke:#1f77b4;\" x=\"123.719916\" xlink:href=\"#m89a9ee04b0\" y=\"72.024822\"/>\n     <use style=\"fill:#1f77b4;stroke:#1f77b4;\" x=\"156.514062\" xlink:href=\"#m89a9ee04b0\" y=\"80.418555\"/>\n     <use style=\"fill:#1f77b4;stroke:#1f77b4;\" x=\"153.179162\" xlink:href=\"#m89a9ee04b0\" y=\"84.190658\"/>\n     <use style=\"fill:#1f77b4;stroke:#1f77b4;\" x=\"151.389714\" xlink:href=\"#m89a9ee04b0\" y=\"83.535363\"/>\n     <use style=\"fill:#1f77b4;stroke:#1f77b4;\" x=\"139.457916\" xlink:href=\"#m89a9ee04b0\" y=\"84.855199\"/>\n     <use style=\"fill:#1f77b4;stroke:#1f77b4;\" x=\"145.062747\" xlink:href=\"#m89a9ee04b0\" y=\"75.15344\"/>\n     <use style=\"fill:#1f77b4;stroke:#1f77b4;\" x=\"139.894442\" xlink:href=\"#m89a9ee04b0\" y=\"70.922899\"/>\n     <use style=\"fill:#1f77b4;stroke:#1f77b4;\" x=\"138.63559\" xlink:href=\"#m89a9ee04b0\" y=\"77.466285\"/>\n     <use style=\"fill:#1f77b4;stroke:#1f77b4;\" x=\"56.140878\" xlink:href=\"#m89a9ee04b0\" y=\"24.492116\"/>\n     <use style=\"fill:#1f77b4;stroke:#1f77b4;\" x=\"135.326136\" xlink:href=\"#m89a9ee04b0\" y=\"51.415514\"/>\n     <use style=\"fill:#1f77b4;stroke:#1f77b4;\" x=\"121.400675\" xlink:href=\"#m89a9ee04b0\" y=\"84.324542\"/>\n     <use style=\"fill:#1f77b4;stroke:#1f77b4;\" x=\"139.612949\" xlink:href=\"#m89a9ee04b0\" y=\"76.68311\"/>\n     <use style=\"fill:#1f77b4;stroke:#1f77b4;\" x=\"121.574206\" xlink:href=\"#m89a9ee04b0\" y=\"73.462294\"/>\n     <use style=\"fill:#1f77b4;stroke:#1f77b4;\" x=\"167.82441\" xlink:href=\"#m89a9ee04b0\" y=\"104.021254\"/>\n     <use style=\"fill:#1f77b4;stroke:#1f77b4;\" x=\"124.745485\" xlink:href=\"#m89a9ee04b0\" y=\"45.407663\"/>\n     <use style=\"fill:#1f77b4;stroke:#1f77b4;\" x=\"166.128747\" xlink:href=\"#m89a9ee04b0\" y=\"92.815269\"/>\n     <use style=\"fill:#1f77b4;stroke:#1f77b4;\" x=\"135.951445\" xlink:href=\"#m89a9ee04b0\" y=\"75.658365\"/>\n     <use style=\"fill:#1f77b4;stroke:#1f77b4;\" x=\"152.659261\" xlink:href=\"#m89a9ee04b0\" y=\"79.373904\"/>\n     <use style=\"fill:#1f77b4;stroke:#1f77b4;\" x=\"145.173016\" xlink:href=\"#m89a9ee04b0\" y=\"88.262483\"/>\n     <use style=\"fill:#1f77b4;stroke:#1f77b4;\" x=\"157.641659\" xlink:href=\"#m89a9ee04b0\" y=\"66.418696\"/>\n     <use style=\"fill:#1f77b4;stroke:#1f77b4;\" x=\"101.991824\" xlink:href=\"#m89a9ee04b0\" y=\"54.253828\"/>\n     <use style=\"fill:#1f77b4;stroke:#1f77b4;\" x=\"94.967504\" xlink:href=\"#m89a9ee04b0\" y=\"52.400641\"/>\n     <use style=\"fill:#1f77b4;stroke:#1f77b4;\" x=\"114.30222\" xlink:href=\"#m89a9ee04b0\" y=\"70.447839\"/>\n     <use style=\"fill:#1f77b4;stroke:#1f77b4;\" x=\"145.566807\" xlink:href=\"#m89a9ee04b0\" y=\"87.148892\"/>\n     <use style=\"fill:#1f77b4;stroke:#1f77b4;\" x=\"129.774256\" xlink:href=\"#m89a9ee04b0\" y=\"61.475647\"/>\n     <use style=\"fill:#1f77b4;stroke:#1f77b4;\" x=\"179.334594\" xlink:href=\"#m89a9ee04b0\" y=\"82.453499\"/>\n     <use style=\"fill:#1f77b4;stroke:#1f77b4;\" x=\"133.161587\" xlink:href=\"#m89a9ee04b0\" y=\"69.184432\"/>\n     <use style=\"fill:#1f77b4;stroke:#1f77b4;\" x=\"111.821239\" xlink:href=\"#m89a9ee04b0\" y=\"59.959745\"/>\n     <use style=\"fill:#1f77b4;stroke:#1f77b4;\" x=\"156.274239\" xlink:href=\"#m89a9ee04b0\" y=\"90.593712\"/>\n     <use style=\"fill:#1f77b4;stroke:#1f77b4;\" x=\"102.09278\" xlink:href=\"#m89a9ee04b0\" y=\"40.033316\"/>\n     <use style=\"fill:#1f77b4;stroke:#1f77b4;\" x=\"103.512644\" xlink:href=\"#m89a9ee04b0\" y=\"70.059197\"/>\n     <use style=\"fill:#1f77b4;stroke:#1f77b4;\" x=\"133.468219\" xlink:href=\"#m89a9ee04b0\" y=\"81.625145\"/>\n     <use style=\"fill:#1f77b4;stroke:#1f77b4;\" x=\"125.004769\" xlink:href=\"#m89a9ee04b0\" y=\"61.603888\"/>\n     <use style=\"fill:#1f77b4;stroke:#1f77b4;\" x=\"113.170322\" xlink:href=\"#m89a9ee04b0\" y=\"51.84986\"/>\n     <use style=\"fill:#1f77b4;stroke:#1f77b4;\" x=\"154.273892\" xlink:href=\"#m89a9ee04b0\" y=\"85.08884\"/>\n     <use style=\"fill:#1f77b4;stroke:#1f77b4;\" x=\"122.54643\" xlink:href=\"#m89a9ee04b0\" y=\"70.382781\"/>\n     <use style=\"fill:#1f77b4;stroke:#1f77b4;\" x=\"107.809586\" xlink:href=\"#m89a9ee04b0\" y=\"72.819417\"/>\n     <use style=\"fill:#1f77b4;stroke:#1f77b4;\" x=\"165.93068\" xlink:href=\"#m89a9ee04b0\" y=\"91.783944\"/>\n     <use style=\"fill:#1f77b4;stroke:#1f77b4;\" x=\"119.483592\" xlink:href=\"#m89a9ee04b0\" y=\"45.820736\"/>\n     <use style=\"fill:#1f77b4;stroke:#1f77b4;\" x=\"150.143478\" xlink:href=\"#m89a9ee04b0\" y=\"91.604954\"/>\n     <use style=\"fill:#1f77b4;stroke:#1f77b4;\" x=\"117.715586\" xlink:href=\"#m89a9ee04b0\" y=\"60.628446\"/>\n     <use style=\"fill:#1f77b4;stroke:#1f77b4;\" x=\"109.638598\" xlink:href=\"#m89a9ee04b0\" y=\"64.333258\"/>\n     <use style=\"fill:#1f77b4;stroke:#1f77b4;\" x=\"129.290105\" xlink:href=\"#m89a9ee04b0\" y=\"88.731246\"/>\n     <use style=\"fill:#1f77b4;stroke:#1f77b4;\" x=\"200.981599\" xlink:href=\"#m89a9ee04b0\" y=\"110.55634\"/>\n     <use style=\"fill:#1f77b4;stroke:#1f77b4;\" x=\"111.071055\" xlink:href=\"#m89a9ee04b0\" y=\"36.909667\"/>\n     <use style=\"fill:#1f77b4;stroke:#1f77b4;\" x=\"76.559448\" xlink:href=\"#m89a9ee04b0\" y=\"57.592936\"/>\n     <use style=\"fill:#1f77b4;stroke:#1f77b4;\" x=\"100.81071\" xlink:href=\"#m89a9ee04b0\" y=\"38.301854\"/>\n     <use style=\"fill:#1f77b4;stroke:#1f77b4;\" x=\"119.705129\" xlink:href=\"#m89a9ee04b0\" y=\"55.540098\"/>\n     <use style=\"fill:#1f77b4;stroke:#1f77b4;\" x=\"135.024427\" xlink:href=\"#m89a9ee04b0\" y=\"66.344402\"/>\n     <use style=\"fill:#1f77b4;stroke:#1f77b4;\" x=\"126.135154\" xlink:href=\"#m89a9ee04b0\" y=\"49.83892\"/>\n     <use style=\"fill:#1f77b4;stroke:#1f77b4;\" x=\"100.545442\" xlink:href=\"#m89a9ee04b0\" y=\"42.046939\"/>\n     <use style=\"fill:#1f77b4;stroke:#1f77b4;\" x=\"125.668141\" xlink:href=\"#m89a9ee04b0\" y=\"76.584375\"/>\n     <use style=\"fill:#1f77b4;stroke:#1f77b4;\" x=\"127.207514\" xlink:href=\"#m89a9ee04b0\" y=\"64.022085\"/>\n     <use style=\"fill:#1f77b4;stroke:#1f77b4;\" x=\"159.247273\" xlink:href=\"#m89a9ee04b0\" y=\"79.639153\"/>\n     <use style=\"fill:#1f77b4;stroke:#1f77b4;\" x=\"122.853381\" xlink:href=\"#m89a9ee04b0\" y=\"58.841463\"/>\n     <use style=\"fill:#1f77b4;stroke:#1f77b4;\" x=\"122.118336\" xlink:href=\"#m89a9ee04b0\" y=\"59.77145\"/>\n     <use style=\"fill:#1f77b4;stroke:#1f77b4;\" x=\"186.109565\" xlink:href=\"#m89a9ee04b0\" y=\"112.529419\"/>\n     <use style=\"fill:#1f77b4;stroke:#1f77b4;\" x=\"156.338063\" xlink:href=\"#m89a9ee04b0\" y=\"82.303499\"/>\n     <use style=\"fill:#1f77b4;stroke:#1f77b4;\" x=\"149.96671\" xlink:href=\"#m89a9ee04b0\" y=\"86.223377\"/>\n     <use style=\"fill:#1f77b4;stroke:#1f77b4;\" x=\"115.78557\" xlink:href=\"#m89a9ee04b0\" y=\"64.751853\"/>\n     <use style=\"fill:#1f77b4;stroke:#1f77b4;\" x=\"130.041619\" xlink:href=\"#m89a9ee04b0\" y=\"68.270368\"/>\n     <use style=\"fill:#1f77b4;stroke:#1f77b4;\" x=\"120.595871\" xlink:href=\"#m89a9ee04b0\" y=\"57.280098\"/>\n     <use style=\"fill:#1f77b4;stroke:#1f77b4;\" x=\"122.636875\" xlink:href=\"#m89a9ee04b0\" y=\"67.162208\"/>\n     <use style=\"fill:#1f77b4;stroke:#1f77b4;\" x=\"148.694569\" xlink:href=\"#m89a9ee04b0\" y=\"80.997426\"/>\n     <use style=\"fill:#1f77b4;stroke:#1f77b4;\" x=\"121.828203\" xlink:href=\"#m89a9ee04b0\" y=\"67.033817\"/>\n     <use style=\"fill:#1f77b4;stroke:#1f77b4;\" x=\"134.240669\" xlink:href=\"#m89a9ee04b0\" y=\"53.543479\"/>\n     <use style=\"fill:#1f77b4;stroke:#1f77b4;\" x=\"118.246993\" xlink:href=\"#m89a9ee04b0\" y=\"44.162264\"/>\n     <use style=\"fill:#1f77b4;stroke:#1f77b4;\" x=\"137.487991\" xlink:href=\"#m89a9ee04b0\" y=\"78.81701\"/>\n     <use style=\"fill:#1f77b4;stroke:#1f77b4;\" x=\"155.803162\" xlink:href=\"#m89a9ee04b0\" y=\"97.822441\"/>\n     <use style=\"fill:#1f77b4;stroke:#1f77b4;\" x=\"74.103076\" xlink:href=\"#m89a9ee04b0\" y=\"43.003105\"/>\n     <use style=\"fill:#1f77b4;stroke:#1f77b4;\" x=\"156.630639\" xlink:href=\"#m89a9ee04b0\" y=\"76.187828\"/>\n     <use style=\"fill:#1f77b4;stroke:#1f77b4;\" x=\"156.96183\" xlink:href=\"#m89a9ee04b0\" y=\"86.48026\"/>\n     <use style=\"fill:#1f77b4;stroke:#1f77b4;\" x=\"105.933026\" xlink:href=\"#m89a9ee04b0\" y=\"50.768827\"/>\n     <use style=\"fill:#1f77b4;stroke:#1f77b4;\" x=\"123.370668\" xlink:href=\"#m89a9ee04b0\" y=\"61.415734\"/>\n     <use style=\"fill:#1f77b4;stroke:#1f77b4;\" x=\"128.57265\" xlink:href=\"#m89a9ee04b0\" y=\"74.31153\"/>\n     <use style=\"fill:#1f77b4;stroke:#1f77b4;\" x=\"93.282001\" xlink:href=\"#m89a9ee04b0\" y=\"46.282833\"/>\n     <use style=\"fill:#1f77b4;stroke:#1f77b4;\" x=\"141.81249\" xlink:href=\"#m89a9ee04b0\" y=\"60.347658\"/>\n     <use style=\"fill:#1f77b4;stroke:#1f77b4;\" x=\"62.031686\" xlink:href=\"#m89a9ee04b0\" y=\"37.146127\"/>\n     <use style=\"fill:#1f77b4;stroke:#1f77b4;\" x=\"147.665691\" xlink:href=\"#m89a9ee04b0\" y=\"82.738845\"/>\n     <use style=\"fill:#1f77b4;stroke:#1f77b4;\" x=\"155.347492\" xlink:href=\"#m89a9ee04b0\" y=\"88.851135\"/>\n     <use style=\"fill:#1f77b4;stroke:#1f77b4;\" x=\"139.368965\" xlink:href=\"#m89a9ee04b0\" y=\"81.586196\"/>\n     <use style=\"fill:#1f77b4;stroke:#1f77b4;\" x=\"142.200158\" xlink:href=\"#m89a9ee04b0\" y=\"80.013932\"/>\n     <use style=\"fill:#1f77b4;stroke:#1f77b4;\" x=\"122.453338\" xlink:href=\"#m89a9ee04b0\" y=\"62.794255\"/>\n     <use style=\"fill:#1f77b4;stroke:#1f77b4;\" x=\"132.369645\" xlink:href=\"#m89a9ee04b0\" y=\"54.252327\"/>\n     <use style=\"fill:#1f77b4;stroke:#1f77b4;\" x=\"93.006976\" xlink:href=\"#m89a9ee04b0\" y=\"54.806956\"/>\n     <use style=\"fill:#1f77b4;stroke:#1f77b4;\" x=\"130.254976\" xlink:href=\"#m89a9ee04b0\" y=\"67.687893\"/>\n     <use style=\"fill:#1f77b4;stroke:#1f77b4;\" x=\"107.37391\" xlink:href=\"#m89a9ee04b0\" y=\"55.654353\"/>\n     <use style=\"fill:#1f77b4;stroke:#1f77b4;\" x=\"189.510235\" xlink:href=\"#m89a9ee04b0\" y=\"94.820701\"/>\n     <use style=\"fill:#1f77b4;stroke:#1f77b4;\" x=\"131.61815\" xlink:href=\"#m89a9ee04b0\" y=\"76.959831\"/>\n     <use style=\"fill:#1f77b4;stroke:#1f77b4;\" x=\"118.857079\" xlink:href=\"#m89a9ee04b0\" y=\"55.71227\"/>\n     <use style=\"fill:#1f77b4;stroke:#1f77b4;\" x=\"127.501015\" xlink:href=\"#m89a9ee04b0\" y=\"75.707622\"/>\n     <use style=\"fill:#1f77b4;stroke:#1f77b4;\" x=\"116.957565\" xlink:href=\"#m89a9ee04b0\" y=\"55.492248\"/>\n     <use style=\"fill:#1f77b4;stroke:#1f77b4;\" x=\"146.642822\" xlink:href=\"#m89a9ee04b0\" y=\"82.132537\"/>\n     <use style=\"fill:#1f77b4;stroke:#1f77b4;\" x=\"169.126315\" xlink:href=\"#m89a9ee04b0\" y=\"82.392739\"/>\n     <use style=\"fill:#1f77b4;stroke:#1f77b4;\" x=\"140.751822\" xlink:href=\"#m89a9ee04b0\" y=\"82.756944\"/>\n     <use style=\"fill:#1f77b4;stroke:#1f77b4;\" x=\"129.962838\" xlink:href=\"#m89a9ee04b0\" y=\"66.272513\"/>\n     <use style=\"fill:#1f77b4;stroke:#1f77b4;\" x=\"123.265914\" xlink:href=\"#m89a9ee04b0\" y=\"62.267173\"/>\n     <use style=\"fill:#1f77b4;stroke:#1f77b4;\" x=\"150.559294\" xlink:href=\"#m89a9ee04b0\" y=\"85.599989\"/>\n     <use style=\"fill:#1f77b4;stroke:#1f77b4;\" x=\"112.501694\" xlink:href=\"#m89a9ee04b0\" y=\"64.412981\"/>\n     <use style=\"fill:#1f77b4;stroke:#1f77b4;\" x=\"119.667877\" xlink:href=\"#m89a9ee04b0\" y=\"64.905981\"/>\n     <use style=\"fill:#1f77b4;stroke:#1f77b4;\" x=\"165.053358\" xlink:href=\"#m89a9ee04b0\" y=\"91.739013\"/>\n     <use style=\"fill:#1f77b4;stroke:#1f77b4;\" x=\"44.18196\" xlink:href=\"#m89a9ee04b0\" y=\"28.563978\"/>\n     <use style=\"fill:#1f77b4;stroke:#1f77b4;\" x=\"146.57783\" xlink:href=\"#m89a9ee04b0\" y=\"82.039127\"/>\n     <use style=\"fill:#1f77b4;stroke:#1f77b4;\" x=\"180.171418\" xlink:href=\"#m89a9ee04b0\" y=\"86.752014\"/>\n     <use style=\"fill:#1f77b4;stroke:#1f77b4;\" x=\"82.970267\" xlink:href=\"#m89a9ee04b0\" y=\"30.704719\"/>\n     <use style=\"fill:#1f77b4;stroke:#1f77b4;\" x=\"130.993044\" xlink:href=\"#m89a9ee04b0\" y=\"62.355448\"/>\n     <use style=\"fill:#1f77b4;stroke:#1f77b4;\" x=\"137.219512\" xlink:href=\"#m89a9ee04b0\" y=\"67.821502\"/>\n     <use style=\"fill:#1f77b4;stroke:#1f77b4;\" x=\"154.323199\" xlink:href=\"#m89a9ee04b0\" y=\"86.585498\"/>\n     <use style=\"fill:#1f77b4;stroke:#1f77b4;\" x=\"126.996912\" xlink:href=\"#m89a9ee04b0\" y=\"68.0552\"/>\n     <use style=\"fill:#1f77b4;stroke:#1f77b4;\" x=\"148.842457\" xlink:href=\"#m89a9ee04b0\" y=\"68.779211\"/>\n     <use style=\"fill:#1f77b4;stroke:#1f77b4;\" x=\"157.727929\" xlink:href=\"#m89a9ee04b0\" y=\"80.190131\"/>\n     <use style=\"fill:#1f77b4;stroke:#1f77b4;\" x=\"97.06098\" xlink:href=\"#m89a9ee04b0\" y=\"45.090872\"/>\n     <use style=\"fill:#1f77b4;stroke:#1f77b4;\" x=\"119.135566\" xlink:href=\"#m89a9ee04b0\" y=\"72.836437\"/>\n     <use style=\"fill:#1f77b4;stroke:#1f77b4;\" x=\"128.395913\" xlink:href=\"#m89a9ee04b0\" y=\"73.431409\"/>\n     <use style=\"fill:#1f77b4;stroke:#1f77b4;\" x=\"88.690222\" xlink:href=\"#m89a9ee04b0\" y=\"54.082035\"/>\n     <use style=\"fill:#1f77b4;stroke:#1f77b4;\" x=\"150.291693\" xlink:href=\"#m89a9ee04b0\" y=\"77.155936\"/>\n     <use style=\"fill:#1f77b4;stroke:#1f77b4;\" x=\"157.948924\" xlink:href=\"#m89a9ee04b0\" y=\"100.375317\"/>\n     <use style=\"fill:#1f77b4;stroke:#1f77b4;\" x=\"163.103493\" xlink:href=\"#m89a9ee04b0\" y=\"86.776675\"/>\n     <use style=\"fill:#1f77b4;stroke:#1f77b4;\" x=\"170.884905\" xlink:href=\"#m89a9ee04b0\" y=\"87.888807\"/>\n     <use style=\"fill:#1f77b4;stroke:#1f77b4;\" x=\"110.868408\" xlink:href=\"#m89a9ee04b0\" y=\"64.501193\"/>\n     <use style=\"fill:#1f77b4;stroke:#1f77b4;\" x=\"129.802207\" xlink:href=\"#m89a9ee04b0\" y=\"79.070896\"/>\n     <use style=\"fill:#1f77b4;stroke:#1f77b4;\" x=\"126.795847\" xlink:href=\"#m89a9ee04b0\" y=\"65.307389\"/>\n     <use style=\"fill:#1f77b4;stroke:#1f77b4;\" x=\"110.812795\" xlink:href=\"#m89a9ee04b0\" y=\"47.018972\"/>\n     <use style=\"fill:#1f77b4;stroke:#1f77b4;\" x=\"155.17774\" xlink:href=\"#m89a9ee04b0\" y=\"66.122675\"/>\n     <use style=\"fill:#1f77b4;stroke:#1f77b4;\" x=\"198.06845\" xlink:href=\"#m89a9ee04b0\" y=\"104.675043\"/>\n     <use style=\"fill:#1f77b4;stroke:#1f77b4;\" x=\"132.751395\" xlink:href=\"#m89a9ee04b0\" y=\"72.013842\"/>\n     <use style=\"fill:#1f77b4;stroke:#1f77b4;\" x=\"100.297117\" xlink:href=\"#m89a9ee04b0\" y=\"46.838759\"/>\n     <use style=\"fill:#1f77b4;stroke:#1f77b4;\" x=\"120.937075\" xlink:href=\"#m89a9ee04b0\" y=\"58.967613\"/>\n     <use style=\"fill:#1f77b4;stroke:#1f77b4;\" x=\"150.909103\" xlink:href=\"#m89a9ee04b0\" y=\"85.940982\"/>\n     <use style=\"fill:#1f77b4;stroke:#1f77b4;\" x=\"122.282133\" xlink:href=\"#m89a9ee04b0\" y=\"49.607191\"/>\n     <use style=\"fill:#1f77b4;stroke:#1f77b4;\" x=\"129.400491\" xlink:href=\"#m89a9ee04b0\" y=\"70.878748\"/>\n     <use style=\"fill:#1f77b4;stroke:#1f77b4;\" x=\"161.544751\" xlink:href=\"#m89a9ee04b0\" y=\"94.222344\"/>\n     <use style=\"fill:#1f77b4;stroke:#1f77b4;\" x=\"120.679898\" xlink:href=\"#m89a9ee04b0\" y=\"78.79133\"/>\n     <use style=\"fill:#1f77b4;stroke:#1f77b4;\" x=\"166.581037\" xlink:href=\"#m89a9ee04b0\" y=\"85.828071\"/>\n     <use style=\"fill:#1f77b4;stroke:#1f77b4;\" x=\"170.322606\" xlink:href=\"#m89a9ee04b0\" y=\"115.471708\"/>\n     <use style=\"fill:#1f77b4;stroke:#1f77b4;\" x=\"150.283097\" xlink:href=\"#m89a9ee04b0\" y=\"86.065001\"/>\n     <use style=\"fill:#1f77b4;stroke:#1f77b4;\" x=\"120.71147\" xlink:href=\"#m89a9ee04b0\" y=\"79.929652\"/>\n     <use style=\"fill:#1f77b4;stroke:#1f77b4;\" x=\"170.155485\" xlink:href=\"#m89a9ee04b0\" y=\"106.546308\"/>\n     <use style=\"fill:#1f77b4;stroke:#1f77b4;\" x=\"162.647711\" xlink:href=\"#m89a9ee04b0\" y=\"79.740824\"/>\n     <use style=\"fill:#1f77b4;stroke:#1f77b4;\" x=\"144.780056\" xlink:href=\"#m89a9ee04b0\" y=\"69.922154\"/>\n     <use style=\"fill:#1f77b4;stroke:#1f77b4;\" x=\"141.415748\" xlink:href=\"#m89a9ee04b0\" y=\"77.508172\"/>\n     <use style=\"fill:#1f77b4;stroke:#1f77b4;\" x=\"146.326266\" xlink:href=\"#m89a9ee04b0\" y=\"96.843888\"/>\n     <use style=\"fill:#1f77b4;stroke:#1f77b4;\" x=\"173.56661\" xlink:href=\"#m89a9ee04b0\" y=\"68.346677\"/>\n     <use style=\"fill:#1f77b4;stroke:#1f77b4;\" x=\"134.395531\" xlink:href=\"#m89a9ee04b0\" y=\"70.564716\"/>\n     <use style=\"fill:#1f77b4;stroke:#1f77b4;\" x=\"170.078547\" xlink:href=\"#m89a9ee04b0\" y=\"101.079044\"/>\n     <use style=\"fill:#1f77b4;stroke:#1f77b4;\" x=\"90.327787\" xlink:href=\"#m89a9ee04b0\" y=\"38.985999\"/>\n     <use style=\"fill:#1f77b4;stroke:#1f77b4;\" x=\"79.677778\" xlink:href=\"#m89a9ee04b0\" y=\"38.066321\"/>\n     <use style=\"fill:#1f77b4;stroke:#1f77b4;\" x=\"115.351232\" xlink:href=\"#m89a9ee04b0\" y=\"59.182303\"/>\n     <use style=\"fill:#1f77b4;stroke:#1f77b4;\" x=\"114.054738\" xlink:href=\"#m89a9ee04b0\" y=\"53.875761\"/>\n     <use style=\"fill:#1f77b4;stroke:#1f77b4;\" x=\"165.664229\" xlink:href=\"#m89a9ee04b0\" y=\"84.468183\"/>\n     <use style=\"fill:#1f77b4;stroke:#1f77b4;\" x=\"101.636628\" xlink:href=\"#m89a9ee04b0\" y=\"72.765871\"/>\n     <use style=\"fill:#1f77b4;stroke:#1f77b4;\" x=\"130.54872\" xlink:href=\"#m89a9ee04b0\" y=\"72.403287\"/>\n     <use style=\"fill:#1f77b4;stroke:#1f77b4;\" x=\"119.582925\" xlink:href=\"#m89a9ee04b0\" y=\"67.830286\"/>\n     <use style=\"fill:#1f77b4;stroke:#1f77b4;\" x=\"78.591177\" xlink:href=\"#m89a9ee04b0\" y=\"40.211264\"/>\n     <use style=\"fill:#1f77b4;stroke:#1f77b4;\" x=\"145.900999\" xlink:href=\"#m89a9ee04b0\" y=\"67.843828\"/>\n     <use style=\"fill:#1f77b4;stroke:#1f77b4;\" x=\"146.723818\" xlink:href=\"#m89a9ee04b0\" y=\"78.853157\"/>\n     <use style=\"fill:#1f77b4;stroke:#1f77b4;\" x=\"123.117127\" xlink:href=\"#m89a9ee04b0\" y=\"56.790633\"/>\n     <use style=\"fill:#1f77b4;stroke:#1f77b4;\" x=\"131.203178\" xlink:href=\"#m89a9ee04b0\" y=\"83.542204\"/>\n     <use style=\"fill:#1f77b4;stroke:#1f77b4;\" x=\"174.009157\" xlink:href=\"#m89a9ee04b0\" y=\"98.972545\"/>\n     <use style=\"fill:#1f77b4;stroke:#1f77b4;\" x=\"137.579396\" xlink:href=\"#m89a9ee04b0\" y=\"74.183067\"/>\n     <use style=\"fill:#1f77b4;stroke:#1f77b4;\" x=\"135.576486\" xlink:href=\"#m89a9ee04b0\" y=\"72.767288\"/>\n     <use style=\"fill:#1f77b4;stroke:#1f77b4;\" x=\"106.485325\" xlink:href=\"#m89a9ee04b0\" y=\"58.004461\"/>\n     <use style=\"fill:#1f77b4;stroke:#1f77b4;\" x=\"79.46584\" xlink:href=\"#m89a9ee04b0\" y=\"39.067094\"/>\n     <use style=\"fill:#1f77b4;stroke:#1f77b4;\" x=\"154.924682\" xlink:href=\"#m89a9ee04b0\" y=\"66.377893\"/>\n     <use style=\"fill:#1f77b4;stroke:#1f77b4;\" x=\"147.901435\" xlink:href=\"#m89a9ee04b0\" y=\"85.089084\"/>\n     <use style=\"fill:#1f77b4;stroke:#1f77b4;\" x=\"151.389086\" xlink:href=\"#m89a9ee04b0\" y=\"80.593582\"/>\n     <use style=\"fill:#1f77b4;stroke:#1f77b4;\" x=\"132.327506\" xlink:href=\"#m89a9ee04b0\" y=\"69.641683\"/>\n     <use style=\"fill:#1f77b4;stroke:#1f77b4;\" x=\"168.339576\" xlink:href=\"#m89a9ee04b0\" y=\"80.885629\"/>\n     <use style=\"fill:#1f77b4;stroke:#1f77b4;\" x=\"93.117348\" xlink:href=\"#m89a9ee04b0\" y=\"58.509429\"/>\n     <use style=\"fill:#1f77b4;stroke:#1f77b4;\" x=\"112.649519\" xlink:href=\"#m89a9ee04b0\" y=\"42.790333\"/>\n     <use style=\"fill:#1f77b4;stroke:#1f77b4;\" x=\"138.30371\" xlink:href=\"#m89a9ee04b0\" y=\"83.973026\"/>\n     <use style=\"fill:#1f77b4;stroke:#1f77b4;\" x=\"133.927881\" xlink:href=\"#m89a9ee04b0\" y=\"64.242933\"/>\n     <use style=\"fill:#1f77b4;stroke:#1f77b4;\" x=\"107.063548\" xlink:href=\"#m89a9ee04b0\" y=\"51.430583\"/>\n     <use style=\"fill:#1f77b4;stroke:#1f77b4;\" x=\"139.641579\" xlink:href=\"#m89a9ee04b0\" y=\"81.348653\"/>\n     <use style=\"fill:#1f77b4;stroke:#1f77b4;\" x=\"139.004769\" xlink:href=\"#m89a9ee04b0\" y=\"73.629322\"/>\n     <use style=\"fill:#1f77b4;stroke:#1f77b4;\" x=\"104.805396\" xlink:href=\"#m89a9ee04b0\" y=\"61.698324\"/>\n     <use style=\"fill:#1f77b4;stroke:#1f77b4;\" x=\"117.892271\" xlink:href=\"#m89a9ee04b0\" y=\"56.915842\"/>\n     <use style=\"fill:#1f77b4;stroke:#1f77b4;\" x=\"138.297026\" xlink:href=\"#m89a9ee04b0\" y=\"76.638834\"/>\n     <use style=\"fill:#1f77b4;stroke:#1f77b4;\" x=\"173.019849\" xlink:href=\"#m89a9ee04b0\" y=\"102.445868\"/>\n     <use style=\"fill:#1f77b4;stroke:#1f77b4;\" x=\"134.508928\" xlink:href=\"#m89a9ee04b0\" y=\"67.049268\"/>\n     <use style=\"fill:#1f77b4;stroke:#1f77b4;\" x=\"138.916657\" xlink:href=\"#m89a9ee04b0\" y=\"67.958293\"/>\n     <use style=\"fill:#1f77b4;stroke:#1f77b4;\" x=\"125.142572\" xlink:href=\"#m89a9ee04b0\" y=\"75.984874\"/>\n     <use style=\"fill:#1f77b4;stroke:#1f77b4;\" x=\"129.041512\" xlink:href=\"#m89a9ee04b0\" y=\"74.183386\"/>\n     <use style=\"fill:#1f77b4;stroke:#1f77b4;\" x=\"166.721671\" xlink:href=\"#m89a9ee04b0\" y=\"91.087428\"/>\n     <use style=\"fill:#1f77b4;stroke:#1f77b4;\" x=\"156.438684\" xlink:href=\"#m89a9ee04b0\" y=\"88.241269\"/>\n     <use style=\"fill:#1f77b4;stroke:#1f77b4;\" x=\"106.145251\" xlink:href=\"#m89a9ee04b0\" y=\"56.185875\"/>\n     <use style=\"fill:#1f77b4;stroke:#1f77b4;\" x=\"142.77414\" xlink:href=\"#m89a9ee04b0\" y=\"80.260104\"/>\n     <use style=\"fill:#1f77b4;stroke:#1f77b4;\" x=\"164.676727\" xlink:href=\"#m89a9ee04b0\" y=\"93.498809\"/>\n     <use style=\"fill:#1f77b4;stroke:#1f77b4;\" x=\"140.323065\" xlink:href=\"#m89a9ee04b0\" y=\"62.841638\"/>\n     <use style=\"fill:#1f77b4;stroke:#1f77b4;\" x=\"135.833768\" xlink:href=\"#m89a9ee04b0\" y=\"73.950773\"/>\n     <use style=\"fill:#1f77b4;stroke:#1f77b4;\" x=\"109.585031\" xlink:href=\"#m89a9ee04b0\" y=\"46.224152\"/>\n     <use style=\"fill:#1f77b4;stroke:#1f77b4;\" x=\"152.531592\" xlink:href=\"#m89a9ee04b0\" y=\"95.139026\"/>\n     <use style=\"fill:#1f77b4;stroke:#1f77b4;\" x=\"118.955649\" xlink:href=\"#m89a9ee04b0\" y=\"60.083601\"/>\n     <use style=\"fill:#1f77b4;stroke:#1f77b4;\" x=\"133.485439\" xlink:href=\"#m89a9ee04b0\" y=\"64.393314\"/>\n     <use style=\"fill:#1f77b4;stroke:#1f77b4;\" x=\"110.326903\" xlink:href=\"#m89a9ee04b0\" y=\"70.314185\"/>\n     <use style=\"fill:#1f77b4;stroke:#1f77b4;\" x=\"156.250558\" xlink:href=\"#m89a9ee04b0\" y=\"92.44381\"/>\n     <use style=\"fill:#1f77b4;stroke:#1f77b4;\" x=\"131.996456\" xlink:href=\"#m89a9ee04b0\" y=\"80.477083\"/>\n     <use style=\"fill:#1f77b4;stroke:#1f77b4;\" x=\"128.863659\" xlink:href=\"#m89a9ee04b0\" y=\"75.189068\"/>\n     <use style=\"fill:#1f77b4;stroke:#1f77b4;\" x=\"221.727415\" xlink:href=\"#m89a9ee04b0\" y=\"98.214127\"/>\n     <use style=\"fill:#1f77b4;stroke:#1f77b4;\" x=\"144.742175\" xlink:href=\"#m89a9ee04b0\" y=\"86.865601\"/>\n     <use style=\"fill:#1f77b4;stroke:#1f77b4;\" x=\"184.073525\" xlink:href=\"#m89a9ee04b0\" y=\"106.936432\"/>\n     <use style=\"fill:#1f77b4;stroke:#1f77b4;\" x=\"154.973815\" xlink:href=\"#m89a9ee04b0\" y=\"74.135435\"/>\n     <use style=\"fill:#1f77b4;stroke:#1f77b4;\" x=\"115.341129\" xlink:href=\"#m89a9ee04b0\" y=\"56.243639\"/>\n     <use style=\"fill:#1f77b4;stroke:#1f77b4;\" x=\"129.149226\" xlink:href=\"#m89a9ee04b0\" y=\"83.106805\"/>\n     <use style=\"fill:#1f77b4;stroke:#1f77b4;\" x=\"142.940181\" xlink:href=\"#m89a9ee04b0\" y=\"73.5746\"/>\n     <use style=\"fill:#1f77b4;stroke:#1f77b4;\" x=\"160.701789\" xlink:href=\"#m89a9ee04b0\" y=\"90.725866\"/>\n     <use style=\"fill:#1f77b4;stroke:#1f77b4;\" x=\"100.063776\" xlink:href=\"#m89a9ee04b0\" y=\"63.087601\"/>\n     <use style=\"fill:#1f77b4;stroke:#1f77b4;\" x=\"163.48911\" xlink:href=\"#m89a9ee04b0\" y=\"91.978365\"/>\n     <use style=\"fill:#1f77b4;stroke:#1f77b4;\" x=\"139.898985\" xlink:href=\"#m89a9ee04b0\" y=\"71.459366\"/>\n     <use style=\"fill:#1f77b4;stroke:#1f77b4;\" x=\"151.565524\" xlink:href=\"#m89a9ee04b0\" y=\"77.800067\"/>\n     <use style=\"fill:#1f77b4;stroke:#1f77b4;\" x=\"131.993804\" xlink:href=\"#m89a9ee04b0\" y=\"73.837952\"/>\n     <use style=\"fill:#1f77b4;stroke:#1f77b4;\" x=\"132.634243\" xlink:href=\"#m89a9ee04b0\" y=\"68.244787\"/>\n     <use style=\"fill:#1f77b4;stroke:#1f77b4;\" x=\"118.938289\" xlink:href=\"#m89a9ee04b0\" y=\"45.88611\"/>\n     <use style=\"fill:#1f77b4;stroke:#1f77b4;\" x=\"148.028823\" xlink:href=\"#m89a9ee04b0\" y=\"72.911719\"/>\n     <use style=\"fill:#1f77b4;stroke:#1f77b4;\" x=\"150.942384\" xlink:href=\"#m89a9ee04b0\" y=\"78.380151\"/>\n     <use style=\"fill:#1f77b4;stroke:#1f77b4;\" x=\"178.044574\" xlink:href=\"#m89a9ee04b0\" y=\"101.129955\"/>\n     <use style=\"fill:#1f77b4;stroke:#1f77b4;\" x=\"119.956949\" xlink:href=\"#m89a9ee04b0\" y=\"72.195709\"/>\n     <use style=\"fill:#1f77b4;stroke:#1f77b4;\" x=\"111.487399\" xlink:href=\"#m89a9ee04b0\" y=\"46.532614\"/>\n     <use style=\"fill:#1f77b4;stroke:#1f77b4;\" x=\"107.019791\" xlink:href=\"#m89a9ee04b0\" y=\"59.971505\"/>\n     <use style=\"fill:#1f77b4;stroke:#1f77b4;\" x=\"170.950811\" xlink:href=\"#m89a9ee04b0\" y=\"97.249865\"/>\n     <use style=\"fill:#1f77b4;stroke:#1f77b4;\" x=\"96.69096\" xlink:href=\"#m89a9ee04b0\" y=\"60.884321\"/>\n     <use style=\"fill:#1f77b4;stroke:#1f77b4;\" x=\"123.076678\" xlink:href=\"#m89a9ee04b0\" y=\"58.393258\"/>\n     <use style=\"fill:#1f77b4;stroke:#1f77b4;\" x=\"87.329295\" xlink:href=\"#m89a9ee04b0\" y=\"39.583854\"/>\n     <use style=\"fill:#1f77b4;stroke:#1f77b4;\" x=\"144.391691\" xlink:href=\"#m89a9ee04b0\" y=\"74.153326\"/>\n     <use style=\"fill:#1f77b4;stroke:#1f77b4;\" x=\"131.506902\" xlink:href=\"#m89a9ee04b0\" y=\"78.195604\"/>\n     <use style=\"fill:#1f77b4;stroke:#1f77b4;\" x=\"140.32702\" xlink:href=\"#m89a9ee04b0\" y=\"78.182275\"/>\n     <use style=\"fill:#1f77b4;stroke:#1f77b4;\" x=\"139.80318\" xlink:href=\"#m89a9ee04b0\" y=\"68.884173\"/>\n     <use style=\"fill:#1f77b4;stroke:#1f77b4;\" x=\"108.289665\" xlink:href=\"#m89a9ee04b0\" y=\"62.60366\"/>\n     <use style=\"fill:#1f77b4;stroke:#1f77b4;\" x=\"165.129097\" xlink:href=\"#m89a9ee04b0\" y=\"91.87864\"/>\n     <use style=\"fill:#1f77b4;stroke:#1f77b4;\" x=\"215.326162\" xlink:href=\"#m89a9ee04b0\" y=\"118.671108\"/>\n     <use style=\"fill:#1f77b4;stroke:#1f77b4;\" x=\"164.764708\" xlink:href=\"#m89a9ee04b0\" y=\"103.734015\"/>\n     <use style=\"fill:#1f77b4;stroke:#1f77b4;\" x=\"118.964384\" xlink:href=\"#m89a9ee04b0\" y=\"47.102651\"/>\n     <use style=\"fill:#1f77b4;stroke:#1f77b4;\" x=\"155.269561\" xlink:href=\"#m89a9ee04b0\" y=\"84.11944\"/>\n     <use style=\"fill:#1f77b4;stroke:#1f77b4;\" x=\"136.354355\" xlink:href=\"#m89a9ee04b0\" y=\"77.297892\"/>\n     <use style=\"fill:#1f77b4;stroke:#1f77b4;\" x=\"156.886996\" xlink:href=\"#m89a9ee04b0\" y=\"88.828302\"/>\n     <use style=\"fill:#1f77b4;stroke:#1f77b4;\" x=\"173.432107\" xlink:href=\"#m89a9ee04b0\" y=\"101.26689\"/>\n     <use style=\"fill:#1f77b4;stroke:#1f77b4;\" x=\"115.642564\" xlink:href=\"#m89a9ee04b0\" y=\"44.527827\"/>\n     <use style=\"fill:#1f77b4;stroke:#1f77b4;\" x=\"107.463827\" xlink:href=\"#m89a9ee04b0\" y=\"69.948702\"/>\n     <use style=\"fill:#1f77b4;stroke:#1f77b4;\" x=\"105.394629\" xlink:href=\"#m89a9ee04b0\" y=\"42.313786\"/>\n     <use style=\"fill:#1f77b4;stroke:#1f77b4;\" x=\"143.586123\" xlink:href=\"#m89a9ee04b0\" y=\"97.264562\"/>\n     <use style=\"fill:#1f77b4;stroke:#1f77b4;\" x=\"144.414408\" xlink:href=\"#m89a9ee04b0\" y=\"80.029299\"/>\n     <use style=\"fill:#1f77b4;stroke:#1f77b4;\" x=\"136.905643\" xlink:href=\"#m89a9ee04b0\" y=\"82.852474\"/>\n     <use style=\"fill:#1f77b4;stroke:#1f77b4;\" x=\"130.060289\" xlink:href=\"#m89a9ee04b0\" y=\"68.112212\"/>\n     <use style=\"fill:#1f77b4;stroke:#1f77b4;\" x=\"146.170669\" xlink:href=\"#m89a9ee04b0\" y=\"81.361589\"/>\n     <use style=\"fill:#1f77b4;stroke:#1f77b4;\" x=\"153.518059\" xlink:href=\"#m89a9ee04b0\" y=\"60.692641\"/>\n     <use style=\"fill:#1f77b4;stroke:#1f77b4;\" x=\"155.467676\" xlink:href=\"#m89a9ee04b0\" y=\"75.800219\"/>\n     <use style=\"fill:#1f77b4;stroke:#1f77b4;\" x=\"167.314082\" xlink:href=\"#m89a9ee04b0\" y=\"87.042111\"/>\n     <use style=\"fill:#1f77b4;stroke:#1f77b4;\" x=\"145.035518\" xlink:href=\"#m89a9ee04b0\" y=\"79.484373\"/>\n     <use style=\"fill:#1f77b4;stroke:#1f77b4;\" x=\"110.065027\" xlink:href=\"#m89a9ee04b0\" y=\"70.252357\"/>\n     <use style=\"fill:#1f77b4;stroke:#1f77b4;\" x=\"157.920133\" xlink:href=\"#m89a9ee04b0\" y=\"81.157261\"/>\n     <use style=\"fill:#1f77b4;stroke:#1f77b4;\" x=\"161.815687\" xlink:href=\"#m89a9ee04b0\" y=\"90.298463\"/>\n     <use style=\"fill:#1f77b4;stroke:#1f77b4;\" x=\"148.057831\" xlink:href=\"#m89a9ee04b0\" y=\"70.55717\"/>\n     <use style=\"fill:#1f77b4;stroke:#1f77b4;\" x=\"134.824272\" xlink:href=\"#m89a9ee04b0\" y=\"75.975462\"/>\n     <use style=\"fill:#1f77b4;stroke:#1f77b4;\" x=\"132.26602\" xlink:href=\"#m89a9ee04b0\" y=\"62.258658\"/>\n     <use style=\"fill:#1f77b4;stroke:#1f77b4;\" x=\"197.253751\" xlink:href=\"#m89a9ee04b0\" y=\"111.001892\"/>\n     <use style=\"fill:#1f77b4;stroke:#1f77b4;\" x=\"115.209241\" xlink:href=\"#m89a9ee04b0\" y=\"74.599595\"/>\n     <use style=\"fill:#1f77b4;stroke:#1f77b4;\" x=\"188.839423\" xlink:href=\"#m89a9ee04b0\" y=\"109.628616\"/>\n     <use style=\"fill:#1f77b4;stroke:#1f77b4;\" x=\"139.637765\" xlink:href=\"#m89a9ee04b0\" y=\"85.935097\"/>\n     <use style=\"fill:#1f77b4;stroke:#1f77b4;\" x=\"166.109964\" xlink:href=\"#m89a9ee04b0\" y=\"90.237751\"/>\n     <use style=\"fill:#1f77b4;stroke:#1f77b4;\" x=\"153.054928\" xlink:href=\"#m89a9ee04b0\" y=\"84.508501\"/>\n     <use style=\"fill:#1f77b4;stroke:#1f77b4;\" x=\"175.264636\" xlink:href=\"#m89a9ee04b0\" y=\"91.001179\"/>\n     <use style=\"fill:#1f77b4;stroke:#1f77b4;\" x=\"171.307329\" xlink:href=\"#m89a9ee04b0\" y=\"87.29822\"/>\n     <use style=\"fill:#1f77b4;stroke:#1f77b4;\" x=\"127.859642\" xlink:href=\"#m89a9ee04b0\" y=\"72.329527\"/>\n     <use style=\"fill:#1f77b4;stroke:#1f77b4;\" x=\"144.103011\" xlink:href=\"#m89a9ee04b0\" y=\"80.134978\"/>\n     <use style=\"fill:#1f77b4;stroke:#1f77b4;\" x=\"122.68622\" xlink:href=\"#m89a9ee04b0\" y=\"64.160401\"/>\n     <use style=\"fill:#1f77b4;stroke:#1f77b4;\" x=\"123.741491\" xlink:href=\"#m89a9ee04b0\" y=\"61.46528\"/>\n     <use style=\"fill:#1f77b4;stroke:#1f77b4;\" x=\"116.210759\" xlink:href=\"#m89a9ee04b0\" y=\"55.572189\"/>\n     <use style=\"fill:#1f77b4;stroke:#1f77b4;\" x=\"109.514575\" xlink:href=\"#m89a9ee04b0\" y=\"57.143415\"/>\n     <use style=\"fill:#1f77b4;stroke:#1f77b4;\" x=\"108.27518\" xlink:href=\"#m89a9ee04b0\" y=\"38.22754\"/>\n     <use style=\"fill:#1f77b4;stroke:#1f77b4;\" x=\"118.264899\" xlink:href=\"#m89a9ee04b0\" y=\"74.803862\"/>\n     <use style=\"fill:#1f77b4;stroke:#1f77b4;\" x=\"176.351107\" xlink:href=\"#m89a9ee04b0\" y=\"100.840248\"/>\n     <use style=\"fill:#1f77b4;stroke:#1f77b4;\" x=\"167.324435\" xlink:href=\"#m89a9ee04b0\" y=\"86.550151\"/>\n     <use style=\"fill:#1f77b4;stroke:#1f77b4;\" x=\"98.261596\" xlink:href=\"#m89a9ee04b0\" y=\"35.254112\"/>\n     <use style=\"fill:#1f77b4;stroke:#1f77b4;\" x=\"169.577822\" xlink:href=\"#m89a9ee04b0\" y=\"82.876012\"/>\n     <use style=\"fill:#1f77b4;stroke:#1f77b4;\" x=\"137.49565\" xlink:href=\"#m89a9ee04b0\" y=\"61.652711\"/>\n     <use style=\"fill:#1f77b4;stroke:#1f77b4;\" x=\"133.270533\" xlink:href=\"#m89a9ee04b0\" y=\"62.206683\"/>\n     <use style=\"fill:#1f77b4;stroke:#1f77b4;\" x=\"159.02231\" xlink:href=\"#m89a9ee04b0\" y=\"91.609946\"/>\n     <use style=\"fill:#1f77b4;stroke:#1f77b4;\" x=\"163.072939\" xlink:href=\"#m89a9ee04b0\" y=\"85.331028\"/>\n     <use style=\"fill:#1f77b4;stroke:#1f77b4;\" x=\"127.178985\" xlink:href=\"#m89a9ee04b0\" y=\"69.815881\"/>\n     <use style=\"fill:#1f77b4;stroke:#1f77b4;\" x=\"125.48371\" xlink:href=\"#m89a9ee04b0\" y=\"72.301778\"/>\n     <use style=\"fill:#1f77b4;stroke:#1f77b4;\" x=\"122.592361\" xlink:href=\"#m89a9ee04b0\" y=\"76.995185\"/>\n     <use style=\"fill:#1f77b4;stroke:#1f77b4;\" x=\"182.01493\" xlink:href=\"#m89a9ee04b0\" y=\"113.17793\"/>\n     <use style=\"fill:#1f77b4;stroke:#1f77b4;\" x=\"148.49811\" xlink:href=\"#m89a9ee04b0\" y=\"77.134112\"/>\n     <use style=\"fill:#1f77b4;stroke:#1f77b4;\" x=\"145.344907\" xlink:href=\"#m89a9ee04b0\" y=\"60.860409\"/>\n     <use style=\"fill:#1f77b4;stroke:#1f77b4;\" x=\"122.015427\" xlink:href=\"#m89a9ee04b0\" y=\"69.685222\"/>\n     <use style=\"fill:#1f77b4;stroke:#1f77b4;\" x=\"156.800255\" xlink:href=\"#m89a9ee04b0\" y=\"90.935275\"/>\n     <use style=\"fill:#1f77b4;stroke:#1f77b4;\" x=\"157.987253\" xlink:href=\"#m89a9ee04b0\" y=\"80.071711\"/>\n     <use style=\"fill:#1f77b4;stroke:#1f77b4;\" x=\"135.183364\" xlink:href=\"#m89a9ee04b0\" y=\"74.222111\"/>\n     <use style=\"fill:#1f77b4;stroke:#1f77b4;\" x=\"152.509705\" xlink:href=\"#m89a9ee04b0\" y=\"80.327635\"/>\n     <use style=\"fill:#1f77b4;stroke:#1f77b4;\" x=\"147.109877\" xlink:href=\"#m89a9ee04b0\" y=\"86.121638\"/>\n     <use style=\"fill:#1f77b4;stroke:#1f77b4;\" x=\"116.43918\" xlink:href=\"#m89a9ee04b0\" y=\"53.829607\"/>\n     <use style=\"fill:#1f77b4;stroke:#1f77b4;\" x=\"158.955485\" xlink:href=\"#m89a9ee04b0\" y=\"84.688392\"/>\n     <use style=\"fill:#1f77b4;stroke:#1f77b4;\" x=\"105.347179\" xlink:href=\"#m89a9ee04b0\" y=\"65.524544\"/>\n     <use style=\"fill:#1f77b4;stroke:#1f77b4;\" x=\"143.153059\" xlink:href=\"#m89a9ee04b0\" y=\"74.66353\"/>\n     <use style=\"fill:#1f77b4;stroke:#1f77b4;\" x=\"140.039154\" xlink:href=\"#m89a9ee04b0\" y=\"73.624308\"/>\n     <use style=\"fill:#1f77b4;stroke:#1f77b4;\" x=\"137.658099\" xlink:href=\"#m89a9ee04b0\" y=\"64.686728\"/>\n     <use style=\"fill:#1f77b4;stroke:#1f77b4;\" x=\"116.086112\" xlink:href=\"#m89a9ee04b0\" y=\"45.417681\"/>\n     <use style=\"fill:#1f77b4;stroke:#1f77b4;\" x=\"158.215747\" xlink:href=\"#m89a9ee04b0\" y=\"90.690122\"/>\n     <use style=\"fill:#1f77b4;stroke:#1f77b4;\" x=\"138.527697\" xlink:href=\"#m89a9ee04b0\" y=\"83.738411\"/>\n     <use style=\"fill:#1f77b4;stroke:#1f77b4;\" x=\"154.482914\" xlink:href=\"#m89a9ee04b0\" y=\"80.369112\"/>\n     <use style=\"fill:#1f77b4;stroke:#1f77b4;\" x=\"140.796201\" xlink:href=\"#m89a9ee04b0\" y=\"87.349365\"/>\n     <use style=\"fill:#1f77b4;stroke:#1f77b4;\" x=\"156.415189\" xlink:href=\"#m89a9ee04b0\" y=\"82.007525\"/>\n     <use style=\"fill:#1f77b4;stroke:#1f77b4;\" x=\"153.709898\" xlink:href=\"#m89a9ee04b0\" y=\"83.186866\"/>\n     <use style=\"fill:#1f77b4;stroke:#1f77b4;\" x=\"107.151939\" xlink:href=\"#m89a9ee04b0\" y=\"60.426182\"/>\n     <use style=\"fill:#1f77b4;stroke:#1f77b4;\" x=\"203.289473\" xlink:href=\"#m89a9ee04b0\" y=\"112.797364\"/>\n     <use style=\"fill:#1f77b4;stroke:#1f77b4;\" x=\"160.399747\" xlink:href=\"#m89a9ee04b0\" y=\"73.239372\"/>\n     <use style=\"fill:#1f77b4;stroke:#1f77b4;\" x=\"189.078717\" xlink:href=\"#m89a9ee04b0\" y=\"136.922727\"/>\n     <use style=\"fill:#1f77b4;stroke:#1f77b4;\" x=\"123.404956\" xlink:href=\"#m89a9ee04b0\" y=\"52.824913\"/>\n     <use style=\"fill:#1f77b4;stroke:#1f77b4;\" x=\"95.658166\" xlink:href=\"#m89a9ee04b0\" y=\"30.817884\"/>\n     <use style=\"fill:#1f77b4;stroke:#1f77b4;\" x=\"106.437983\" xlink:href=\"#m89a9ee04b0\" y=\"56.374359\"/>\n     <use style=\"fill:#1f77b4;stroke:#1f77b4;\" x=\"119.442404\" xlink:href=\"#m89a9ee04b0\" y=\"44.504386\"/>\n     <use style=\"fill:#1f77b4;stroke:#1f77b4;\" x=\"124.588609\" xlink:href=\"#m89a9ee04b0\" y=\"79.389185\"/>\n     <use style=\"fill:#1f77b4;stroke:#1f77b4;\" x=\"113.090576\" xlink:href=\"#m89a9ee04b0\" y=\"57.08687\"/>\n     <use style=\"fill:#1f77b4;stroke:#1f77b4;\" x=\"105.842396\" xlink:href=\"#m89a9ee04b0\" y=\"64.736911\"/>\n     <use style=\"fill:#1f77b4;stroke:#1f77b4;\" x=\"141.851042\" xlink:href=\"#m89a9ee04b0\" y=\"64.164164\"/>\n     <use style=\"fill:#1f77b4;stroke:#1f77b4;\" x=\"113.685846\" xlink:href=\"#m89a9ee04b0\" y=\"54.591785\"/>\n     <use style=\"fill:#1f77b4;stroke:#1f77b4;\" x=\"137.981944\" xlink:href=\"#m89a9ee04b0\" y=\"73.817324\"/>\n     <use style=\"fill:#1f77b4;stroke:#1f77b4;\" x=\"125.963789\" xlink:href=\"#m89a9ee04b0\" y=\"78.64305\"/>\n     <use style=\"fill:#1f77b4;stroke:#1f77b4;\" x=\"77.526024\" xlink:href=\"#m89a9ee04b0\" y=\"45.326897\"/>\n     <use style=\"fill:#1f77b4;stroke:#1f77b4;\" x=\"132.476379\" xlink:href=\"#m89a9ee04b0\" y=\"57.15548\"/>\n     <use style=\"fill:#1f77b4;stroke:#1f77b4;\" x=\"155.682508\" xlink:href=\"#m89a9ee04b0\" y=\"73.063842\"/>\n     <use style=\"fill:#1f77b4;stroke:#1f77b4;\" x=\"119.001905\" xlink:href=\"#m89a9ee04b0\" y=\"57.905563\"/>\n     <use style=\"fill:#1f77b4;stroke:#1f77b4;\" x=\"138.608645\" xlink:href=\"#m89a9ee04b0\" y=\"90.9105\"/>\n     <use style=\"fill:#1f77b4;stroke:#1f77b4;\" x=\"171.672577\" xlink:href=\"#m89a9ee04b0\" y=\"102.050386\"/>\n     <use style=\"fill:#1f77b4;stroke:#1f77b4;\" x=\"144.113915\" xlink:href=\"#m89a9ee04b0\" y=\"75.377815\"/>\n     <use style=\"fill:#1f77b4;stroke:#1f77b4;\" x=\"139.459648\" xlink:href=\"#m89a9ee04b0\" y=\"66.394501\"/>\n     <use style=\"fill:#1f77b4;stroke:#1f77b4;\" x=\"128.503129\" xlink:href=\"#m89a9ee04b0\" y=\"64.913853\"/>\n     <use style=\"fill:#1f77b4;stroke:#1f77b4;\" x=\"119.168545\" xlink:href=\"#m89a9ee04b0\" y=\"58.520646\"/>\n     <use style=\"fill:#1f77b4;stroke:#1f77b4;\" x=\"161.380015\" xlink:href=\"#m89a9ee04b0\" y=\"70.034888\"/>\n     <use style=\"fill:#1f77b4;stroke:#1f77b4;\" x=\"138.822662\" xlink:href=\"#m89a9ee04b0\" y=\"63.92703\"/>\n     <use style=\"fill:#1f77b4;stroke:#1f77b4;\" x=\"140.986861\" xlink:href=\"#m89a9ee04b0\" y=\"59.019447\"/>\n     <use style=\"fill:#1f77b4;stroke:#1f77b4;\" x=\"104.130939\" xlink:href=\"#m89a9ee04b0\" y=\"48.345982\"/>\n     <use style=\"fill:#1f77b4;stroke:#1f77b4;\" x=\"138.097025\" xlink:href=\"#m89a9ee04b0\" y=\"66.388134\"/>\n     <use style=\"fill:#1f77b4;stroke:#1f77b4;\" x=\"146.727868\" xlink:href=\"#m89a9ee04b0\" y=\"86.288545\"/>\n     <use style=\"fill:#1f77b4;stroke:#1f77b4;\" x=\"144.761148\" xlink:href=\"#m89a9ee04b0\" y=\"65.721367\"/>\n     <use style=\"fill:#1f77b4;stroke:#1f77b4;\" x=\"112.425875\" xlink:href=\"#m89a9ee04b0\" y=\"67.972342\"/>\n     <use style=\"fill:#1f77b4;stroke:#1f77b4;\" x=\"133.939386\" xlink:href=\"#m89a9ee04b0\" y=\"75.769741\"/>\n     <use style=\"fill:#1f77b4;stroke:#1f77b4;\" x=\"105.803611\" xlink:href=\"#m89a9ee04b0\" y=\"50.381315\"/>\n     <use style=\"fill:#1f77b4;stroke:#1f77b4;\" x=\"110.617852\" xlink:href=\"#m89a9ee04b0\" y=\"66.054236\"/>\n     <use style=\"fill:#1f77b4;stroke:#1f77b4;\" x=\"148.341243\" xlink:href=\"#m89a9ee04b0\" y=\"89.93579\"/>\n     <use style=\"fill:#1f77b4;stroke:#1f77b4;\" x=\"103.845032\" xlink:href=\"#m89a9ee04b0\" y=\"51.757809\"/>\n     <use style=\"fill:#1f77b4;stroke:#1f77b4;\" x=\"106.632051\" xlink:href=\"#m89a9ee04b0\" y=\"59.795397\"/>\n     <use style=\"fill:#1f77b4;stroke:#1f77b4;\" x=\"84.860282\" xlink:href=\"#m89a9ee04b0\" y=\"52.748949\"/>\n     <use style=\"fill:#1f77b4;stroke:#1f77b4;\" x=\"109.941979\" xlink:href=\"#m89a9ee04b0\" y=\"65.228224\"/>\n     <use style=\"fill:#1f77b4;stroke:#1f77b4;\" x=\"149.059767\" xlink:href=\"#m89a9ee04b0\" y=\"74.002502\"/>\n     <use style=\"fill:#1f77b4;stroke:#1f77b4;\" x=\"161.244635\" xlink:href=\"#m89a9ee04b0\" y=\"73.41165\"/>\n     <use style=\"fill:#1f77b4;stroke:#1f77b4;\" x=\"135.771977\" xlink:href=\"#m89a9ee04b0\" y=\"84.798049\"/>\n     <use style=\"fill:#1f77b4;stroke:#1f77b4;\" x=\"131.807665\" xlink:href=\"#m89a9ee04b0\" y=\"74.270805\"/>\n     <use style=\"fill:#1f77b4;stroke:#1f77b4;\" x=\"125.63804\" xlink:href=\"#m89a9ee04b0\" y=\"76.437554\"/>\n     <use style=\"fill:#1f77b4;stroke:#1f77b4;\" x=\"123.271529\" xlink:href=\"#m89a9ee04b0\" y=\"64.922778\"/>\n     <use style=\"fill:#1f77b4;stroke:#1f77b4;\" x=\"183.552947\" xlink:href=\"#m89a9ee04b0\" y=\"95.119903\"/>\n     <use style=\"fill:#1f77b4;stroke:#1f77b4;\" x=\"93.853666\" xlink:href=\"#m89a9ee04b0\" y=\"61.534507\"/>\n     <use style=\"fill:#1f77b4;stroke:#1f77b4;\" x=\"153.439434\" xlink:href=\"#m89a9ee04b0\" y=\"92.296066\"/>\n     <use style=\"fill:#1f77b4;stroke:#1f77b4;\" x=\"87.399566\" xlink:href=\"#m89a9ee04b0\" y=\"30.344667\"/>\n     <use style=\"fill:#1f77b4;stroke:#1f77b4;\" x=\"85.743588\" xlink:href=\"#m89a9ee04b0\" y=\"51.424045\"/>\n     <use style=\"fill:#1f77b4;stroke:#1f77b4;\" x=\"146.998594\" xlink:href=\"#m89a9ee04b0\" y=\"74.115557\"/>\n     <use style=\"fill:#1f77b4;stroke:#1f77b4;\" x=\"81.891276\" xlink:href=\"#m89a9ee04b0\" y=\"35.6438\"/>\n     <use style=\"fill:#1f77b4;stroke:#1f77b4;\" x=\"114.756942\" xlink:href=\"#m89a9ee04b0\" y=\"77.744116\"/>\n     <use style=\"fill:#1f77b4;stroke:#1f77b4;\" x=\"119.540893\" xlink:href=\"#m89a9ee04b0\" y=\"71.226824\"/>\n     <use style=\"fill:#1f77b4;stroke:#1f77b4;\" x=\"151.902608\" xlink:href=\"#m89a9ee04b0\" y=\"89.097134\"/>\n     <use style=\"fill:#1f77b4;stroke:#1f77b4;\" x=\"117.577727\" xlink:href=\"#m89a9ee04b0\" y=\"72.597709\"/>\n     <use style=\"fill:#1f77b4;stroke:#1f77b4;\" x=\"154.779164\" xlink:href=\"#m89a9ee04b0\" y=\"78.420667\"/>\n     <use style=\"fill:#1f77b4;stroke:#1f77b4;\" x=\"181.533744\" xlink:href=\"#m89a9ee04b0\" y=\"105.147427\"/>\n     <use style=\"fill:#1f77b4;stroke:#1f77b4;\" x=\"178.469717\" xlink:href=\"#m89a9ee04b0\" y=\"95.177154\"/>\n     <use style=\"fill:#1f77b4;stroke:#1f77b4;\" x=\"160.802908\" xlink:href=\"#m89a9ee04b0\" y=\"82.838119\"/>\n     <use style=\"fill:#1f77b4;stroke:#1f77b4;\" x=\"143.758255\" xlink:href=\"#m89a9ee04b0\" y=\"79.755269\"/>\n     <use style=\"fill:#1f77b4;stroke:#1f77b4;\" x=\"127.682328\" xlink:href=\"#m89a9ee04b0\" y=\"85.15694\"/>\n     <use style=\"fill:#1f77b4;stroke:#1f77b4;\" x=\"164.152854\" xlink:href=\"#m89a9ee04b0\" y=\"70.796339\"/>\n     <use style=\"fill:#1f77b4;stroke:#1f77b4;\" x=\"101.342597\" xlink:href=\"#m89a9ee04b0\" y=\"57.99119\"/>\n     <use style=\"fill:#1f77b4;stroke:#1f77b4;\" x=\"146.054636\" xlink:href=\"#m89a9ee04b0\" y=\"79.437288\"/>\n     <use style=\"fill:#1f77b4;stroke:#1f77b4;\" x=\"133.122297\" xlink:href=\"#m89a9ee04b0\" y=\"66.615792\"/>\n     <use style=\"fill:#1f77b4;stroke:#1f77b4;\" x=\"172.146445\" xlink:href=\"#m89a9ee04b0\" y=\"115.914944\"/>\n     <use style=\"fill:#1f77b4;stroke:#1f77b4;\" x=\"141.705297\" xlink:href=\"#m89a9ee04b0\" y=\"81.72991\"/>\n     <use style=\"fill:#1f77b4;stroke:#1f77b4;\" x=\"116.54573\" xlink:href=\"#m89a9ee04b0\" y=\"60.558588\"/>\n     <use style=\"fill:#1f77b4;stroke:#1f77b4;\" x=\"142.972635\" xlink:href=\"#m89a9ee04b0\" y=\"88.570977\"/>\n     <use style=\"fill:#1f77b4;stroke:#1f77b4;\" x=\"104.086895\" xlink:href=\"#m89a9ee04b0\" y=\"49.326457\"/>\n     <use style=\"fill:#1f77b4;stroke:#1f77b4;\" x=\"49.728916\" xlink:href=\"#m89a9ee04b0\" y=\"29.623137\"/>\n     <use style=\"fill:#1f77b4;stroke:#1f77b4;\" x=\"184.897657\" xlink:href=\"#m89a9ee04b0\" y=\"105.865888\"/>\n     <use style=\"fill:#1f77b4;stroke:#1f77b4;\" x=\"86.791634\" xlink:href=\"#m89a9ee04b0\" y=\"35.852144\"/>\n     <use style=\"fill:#1f77b4;stroke:#1f77b4;\" x=\"161.923097\" xlink:href=\"#m89a9ee04b0\" y=\"68.10274\"/>\n     <use style=\"fill:#1f77b4;stroke:#1f77b4;\" x=\"189.758753\" xlink:href=\"#m89a9ee04b0\" y=\"101.020533\"/>\n     <use style=\"fill:#1f77b4;stroke:#1f77b4;\" x=\"122.127647\" xlink:href=\"#m89a9ee04b0\" y=\"72.694721\"/>\n     <use style=\"fill:#1f77b4;stroke:#1f77b4;\" x=\"130.222248\" xlink:href=\"#m89a9ee04b0\" y=\"82.068812\"/>\n     <use style=\"fill:#1f77b4;stroke:#1f77b4;\" x=\"112.993019\" xlink:href=\"#m89a9ee04b0\" y=\"36.909123\"/>\n     <use style=\"fill:#1f77b4;stroke:#1f77b4;\" x=\"176.421848\" xlink:href=\"#m89a9ee04b0\" y=\"95.813199\"/>\n     <use style=\"fill:#1f77b4;stroke:#1f77b4;\" x=\"149.013205\" xlink:href=\"#m89a9ee04b0\" y=\"74.743939\"/>\n     <use style=\"fill:#1f77b4;stroke:#1f77b4;\" x=\"177.183709\" xlink:href=\"#m89a9ee04b0\" y=\"93.384501\"/>\n     <use style=\"fill:#1f77b4;stroke:#1f77b4;\" x=\"169.121394\" xlink:href=\"#m89a9ee04b0\" y=\"82.566204\"/>\n     <use style=\"fill:#1f77b4;stroke:#1f77b4;\" x=\"165.530442\" xlink:href=\"#m89a9ee04b0\" y=\"105.339208\"/>\n     <use style=\"fill:#1f77b4;stroke:#1f77b4;\" x=\"146.222976\" xlink:href=\"#m89a9ee04b0\" y=\"62.472161\"/>\n     <use style=\"fill:#1f77b4;stroke:#1f77b4;\" x=\"144.201803\" xlink:href=\"#m89a9ee04b0\" y=\"75.048672\"/>\n     <use style=\"fill:#1f77b4;stroke:#1f77b4;\" x=\"125.967361\" xlink:href=\"#m89a9ee04b0\" y=\"57.653212\"/>\n     <use style=\"fill:#1f77b4;stroke:#1f77b4;\" x=\"117.044744\" xlink:href=\"#m89a9ee04b0\" y=\"65.233625\"/>\n     <use style=\"fill:#1f77b4;stroke:#1f77b4;\" x=\"178.972831\" xlink:href=\"#m89a9ee04b0\" y=\"91.354087\"/>\n     <use style=\"fill:#1f77b4;stroke:#1f77b4;\" x=\"127.210767\" xlink:href=\"#m89a9ee04b0\" y=\"64.497364\"/>\n     <use style=\"fill:#1f77b4;stroke:#1f77b4;\" x=\"88.989505\" xlink:href=\"#m89a9ee04b0\" y=\"56.745135\"/>\n     <use style=\"fill:#1f77b4;stroke:#1f77b4;\" x=\"163.761499\" xlink:href=\"#m89a9ee04b0\" y=\"78.869981\"/>\n     <use style=\"fill:#1f77b4;stroke:#1f77b4;\" x=\"83.937366\" xlink:href=\"#m89a9ee04b0\" y=\"21.868577\"/>\n     <use style=\"fill:#1f77b4;stroke:#1f77b4;\" x=\"125.069673\" xlink:href=\"#m89a9ee04b0\" y=\"64.835136\"/>\n     <use style=\"fill:#1f77b4;stroke:#1f77b4;\" x=\"160.126055\" xlink:href=\"#m89a9ee04b0\" y=\"99.084698\"/>\n     <use style=\"fill:#1f77b4;stroke:#1f77b4;\" x=\"158.402567\" xlink:href=\"#m89a9ee04b0\" y=\"81.389142\"/>\n     <use style=\"fill:#1f77b4;stroke:#1f77b4;\" x=\"193.725623\" xlink:href=\"#m89a9ee04b0\" y=\"98.550342\"/>\n     <use style=\"fill:#1f77b4;stroke:#1f77b4;\" x=\"52.370086\" xlink:href=\"#m89a9ee04b0\" y=\"19.440564\"/>\n     <use style=\"fill:#1f77b4;stroke:#1f77b4;\" x=\"107.422429\" xlink:href=\"#m89a9ee04b0\" y=\"39.156101\"/>\n     <use style=\"fill:#1f77b4;stroke:#1f77b4;\" x=\"101.445116\" xlink:href=\"#m89a9ee04b0\" y=\"57.206303\"/>\n     <use style=\"fill:#1f77b4;stroke:#1f77b4;\" x=\"119.028684\" xlink:href=\"#m89a9ee04b0\" y=\"58.760615\"/>\n     <use style=\"fill:#1f77b4;stroke:#1f77b4;\" x=\"139.532334\" xlink:href=\"#m89a9ee04b0\" y=\"66.655577\"/>\n     <use style=\"fill:#1f77b4;stroke:#1f77b4;\" x=\"139.360729\" xlink:href=\"#m89a9ee04b0\" y=\"68.977868\"/>\n     <use style=\"fill:#1f77b4;stroke:#1f77b4;\" x=\"104.53538\" xlink:href=\"#m89a9ee04b0\" y=\"51.352672\"/>\n     <use style=\"fill:#1f77b4;stroke:#1f77b4;\" x=\"156.012155\" xlink:href=\"#m89a9ee04b0\" y=\"92.237279\"/>\n     <use style=\"fill:#1f77b4;stroke:#1f77b4;\" x=\"100.99102\" xlink:href=\"#m89a9ee04b0\" y=\"43.606385\"/>\n     <use style=\"fill:#1f77b4;stroke:#1f77b4;\" x=\"129.696082\" xlink:href=\"#m89a9ee04b0\" y=\"67.178173\"/>\n     <use style=\"fill:#1f77b4;stroke:#1f77b4;\" x=\"64.107699\" xlink:href=\"#m89a9ee04b0\" y=\"43.816653\"/>\n     <use style=\"fill:#1f77b4;stroke:#1f77b4;\" x=\"121.295672\" xlink:href=\"#m89a9ee04b0\" y=\"58.373628\"/>\n     <use style=\"fill:#1f77b4;stroke:#1f77b4;\" x=\"168.146205\" xlink:href=\"#m89a9ee04b0\" y=\"90.943231\"/>\n     <use style=\"fill:#1f77b4;stroke:#1f77b4;\" x=\"132.623844\" xlink:href=\"#m89a9ee04b0\" y=\"70.066757\"/>\n     <use style=\"fill:#1f77b4;stroke:#1f77b4;\" x=\"123.329229\" xlink:href=\"#m89a9ee04b0\" y=\"67.614785\"/>\n     <use style=\"fill:#1f77b4;stroke:#1f77b4;\" x=\"163.173856\" xlink:href=\"#m89a9ee04b0\" y=\"77.614249\"/>\n     <use style=\"fill:#1f77b4;stroke:#1f77b4;\" x=\"126.045588\" xlink:href=\"#m89a9ee04b0\" y=\"68.541535\"/>\n     <use style=\"fill:#1f77b4;stroke:#1f77b4;\" x=\"114.026042\" xlink:href=\"#m89a9ee04b0\" y=\"66.639113\"/>\n     <use style=\"fill:#1f77b4;stroke:#1f77b4;\" x=\"105.793834\" xlink:href=\"#m89a9ee04b0\" y=\"38.378892\"/>\n     <use style=\"fill:#1f77b4;stroke:#1f77b4;\" x=\"106.315508\" xlink:href=\"#m89a9ee04b0\" y=\"63.58455\"/>\n     <use style=\"fill:#1f77b4;stroke:#1f77b4;\" x=\"136.541858\" xlink:href=\"#m89a9ee04b0\" y=\"63.683384\"/>\n     <use style=\"fill:#1f77b4;stroke:#1f77b4;\" x=\"167.967281\" xlink:href=\"#m89a9ee04b0\" y=\"81.597901\"/>\n     <use style=\"fill:#1f77b4;stroke:#1f77b4;\" x=\"150.050561\" xlink:href=\"#m89a9ee04b0\" y=\"56.817049\"/>\n     <use style=\"fill:#1f77b4;stroke:#1f77b4;\" x=\"153.545918\" xlink:href=\"#m89a9ee04b0\" y=\"85.030618\"/>\n     <use style=\"fill:#1f77b4;stroke:#1f77b4;\" x=\"128.350253\" xlink:href=\"#m89a9ee04b0\" y=\"51.185783\"/>\n     <use style=\"fill:#1f77b4;stroke:#1f77b4;\" x=\"193.662306\" xlink:href=\"#m89a9ee04b0\" y=\"77.554723\"/>\n     <use style=\"fill:#1f77b4;stroke:#1f77b4;\" x=\"134.857928\" xlink:href=\"#m89a9ee04b0\" y=\"66.049712\"/>\n     <use style=\"fill:#1f77b4;stroke:#1f77b4;\" x=\"142.336654\" xlink:href=\"#m89a9ee04b0\" y=\"76.035969\"/>\n     <use style=\"fill:#1f77b4;stroke:#1f77b4;\" x=\"147.492874\" xlink:href=\"#m89a9ee04b0\" y=\"89.631035\"/>\n     <use style=\"fill:#1f77b4;stroke:#1f77b4;\" x=\"105.915313\" xlink:href=\"#m89a9ee04b0\" y=\"52.672281\"/>\n     <use style=\"fill:#1f77b4;stroke:#1f77b4;\" x=\"148.064348\" xlink:href=\"#m89a9ee04b0\" y=\"97.107544\"/>\n     <use style=\"fill:#1f77b4;stroke:#1f77b4;\" x=\"120.707123\" xlink:href=\"#m89a9ee04b0\" y=\"84.214516\"/>\n     <use style=\"fill:#1f77b4;stroke:#1f77b4;\" x=\"184.587208\" xlink:href=\"#m89a9ee04b0\" y=\"83.520068\"/>\n     <use style=\"fill:#1f77b4;stroke:#1f77b4;\" x=\"72.54164\" xlink:href=\"#m89a9ee04b0\" y=\"33.77123\"/>\n     <use style=\"fill:#1f77b4;stroke:#1f77b4;\" x=\"106.598897\" xlink:href=\"#m89a9ee04b0\" y=\"48.014164\"/>\n     <use style=\"fill:#1f77b4;stroke:#1f77b4;\" x=\"146.997174\" xlink:href=\"#m89a9ee04b0\" y=\"79.683477\"/>\n     <use style=\"fill:#1f77b4;stroke:#1f77b4;\" x=\"116.048564\" xlink:href=\"#m89a9ee04b0\" y=\"42.48779\"/>\n     <use style=\"fill:#1f77b4;stroke:#1f77b4;\" x=\"84.541789\" xlink:href=\"#m89a9ee04b0\" y=\"60.402477\"/>\n     <use style=\"fill:#1f77b4;stroke:#1f77b4;\" x=\"114.904096\" xlink:href=\"#m89a9ee04b0\" y=\"67.335136\"/>\n     <use style=\"fill:#1f77b4;stroke:#1f77b4;\" x=\"135.131119\" xlink:href=\"#m89a9ee04b0\" y=\"79.194235\"/>\n     <use style=\"fill:#1f77b4;stroke:#1f77b4;\" x=\"147.748446\" xlink:href=\"#m89a9ee04b0\" y=\"74.366542\"/>\n     <use style=\"fill:#1f77b4;stroke:#1f77b4;\" x=\"88.224774\" xlink:href=\"#m89a9ee04b0\" y=\"51.765595\"/>\n     <use style=\"fill:#1f77b4;stroke:#1f77b4;\" x=\"165.112466\" xlink:href=\"#m89a9ee04b0\" y=\"87.877859\"/>\n     <use style=\"fill:#1f77b4;stroke:#1f77b4;\" x=\"144.870759\" xlink:href=\"#m89a9ee04b0\" y=\"82.76654\"/>\n     <use style=\"fill:#1f77b4;stroke:#1f77b4;\" x=\"154.155186\" xlink:href=\"#m89a9ee04b0\" y=\"71.310716\"/>\n     <use style=\"fill:#1f77b4;stroke:#1f77b4;\" x=\"159.460898\" xlink:href=\"#m89a9ee04b0\" y=\"89.244875\"/>\n     <use style=\"fill:#1f77b4;stroke:#1f77b4;\" x=\"145.963396\" xlink:href=\"#m89a9ee04b0\" y=\"86.523386\"/>\n     <use style=\"fill:#1f77b4;stroke:#1f77b4;\" x=\"115.826143\" xlink:href=\"#m89a9ee04b0\" y=\"38.874016\"/>\n     <use style=\"fill:#1f77b4;stroke:#1f77b4;\" x=\"116.07262\" xlink:href=\"#m89a9ee04b0\" y=\"57.491336\"/>\n     <use style=\"fill:#1f77b4;stroke:#1f77b4;\" x=\"140.469038\" xlink:href=\"#m89a9ee04b0\" y=\"67.783069\"/>\n     <use style=\"fill:#1f77b4;stroke:#1f77b4;\" x=\"145.412135\" xlink:href=\"#m89a9ee04b0\" y=\"80.647614\"/>\n     <use style=\"fill:#1f77b4;stroke:#1f77b4;\" x=\"181.151602\" xlink:href=\"#m89a9ee04b0\" y=\"103.145567\"/>\n     <use style=\"fill:#1f77b4;stroke:#1f77b4;\" x=\"123.643636\" xlink:href=\"#m89a9ee04b0\" y=\"63.540635\"/>\n     <use style=\"fill:#1f77b4;stroke:#1f77b4;\" x=\"167.131766\" xlink:href=\"#m89a9ee04b0\" y=\"94.15893\"/>\n     <use style=\"fill:#1f77b4;stroke:#1f77b4;\" x=\"144.112098\" xlink:href=\"#m89a9ee04b0\" y=\"79.482649\"/>\n     <use style=\"fill:#1f77b4;stroke:#1f77b4;\" x=\"150.484207\" xlink:href=\"#m89a9ee04b0\" y=\"75.695263\"/>\n     <use style=\"fill:#1f77b4;stroke:#1f77b4;\" x=\"151.403652\" xlink:href=\"#m89a9ee04b0\" y=\"93.936762\"/>\n     <use style=\"fill:#1f77b4;stroke:#1f77b4;\" x=\"165.14692\" xlink:href=\"#m89a9ee04b0\" y=\"90.161624\"/>\n     <use style=\"fill:#1f77b4;stroke:#1f77b4;\" x=\"122.713351\" xlink:href=\"#m89a9ee04b0\" y=\"52.924088\"/>\n     <use style=\"fill:#1f77b4;stroke:#1f77b4;\" x=\"157.065459\" xlink:href=\"#m89a9ee04b0\" y=\"105.671562\"/>\n     <use style=\"fill:#1f77b4;stroke:#1f77b4;\" x=\"98.90102\" xlink:href=\"#m89a9ee04b0\" y=\"52.734527\"/>\n     <use style=\"fill:#1f77b4;stroke:#1f77b4;\" x=\"185.108369\" xlink:href=\"#m89a9ee04b0\" y=\"104.60835\"/>\n     <use style=\"fill:#1f77b4;stroke:#1f77b4;\" x=\"161.358796\" xlink:href=\"#m89a9ee04b0\" y=\"86.20182\"/>\n     <use style=\"fill:#1f77b4;stroke:#1f77b4;\" x=\"156.990371\" xlink:href=\"#m89a9ee04b0\" y=\"84.297217\"/>\n     <use style=\"fill:#1f77b4;stroke:#1f77b4;\" x=\"150.562337\" xlink:href=\"#m89a9ee04b0\" y=\"73.347916\"/>\n     <use style=\"fill:#1f77b4;stroke:#1f77b4;\" x=\"126.212276\" xlink:href=\"#m89a9ee04b0\" y=\"70.079901\"/>\n     <use style=\"fill:#1f77b4;stroke:#1f77b4;\" x=\"159.135022\" xlink:href=\"#m89a9ee04b0\" y=\"74.627983\"/>\n     <use style=\"fill:#1f77b4;stroke:#1f77b4;\" x=\"107.262498\" xlink:href=\"#m89a9ee04b0\" y=\"58.055849\"/>\n     <use style=\"fill:#1f77b4;stroke:#1f77b4;\" x=\"111.080971\" xlink:href=\"#m89a9ee04b0\" y=\"57.400554\"/>\n     <use style=\"fill:#1f77b4;stroke:#1f77b4;\" x=\"204.277821\" xlink:href=\"#m89a9ee04b0\" y=\"115.970655\"/>\n     <use style=\"fill:#1f77b4;stroke:#1f77b4;\" x=\"142.545576\" xlink:href=\"#m89a9ee04b0\" y=\"67.732818\"/>\n     <use style=\"fill:#1f77b4;stroke:#1f77b4;\" x=\"211.856511\" xlink:href=\"#m89a9ee04b0\" y=\"133.650841\"/>\n     <use style=\"fill:#1f77b4;stroke:#1f77b4;\" x=\"86.055656\" xlink:href=\"#m89a9ee04b0\" y=\"27.895567\"/>\n     <use style=\"fill:#1f77b4;stroke:#1f77b4;\" x=\"184.028612\" xlink:href=\"#m89a9ee04b0\" y=\"99.40365\"/>\n     <use style=\"fill:#1f77b4;stroke:#1f77b4;\" x=\"156.081699\" xlink:href=\"#m89a9ee04b0\" y=\"92.67184\"/>\n     <use style=\"fill:#1f77b4;stroke:#1f77b4;\" x=\"148.211982\" xlink:href=\"#m89a9ee04b0\" y=\"83.068663\"/>\n     <use style=\"fill:#1f77b4;stroke:#1f77b4;\" x=\"123.630799\" xlink:href=\"#m89a9ee04b0\" y=\"66.390366\"/>\n     <use style=\"fill:#1f77b4;stroke:#1f77b4;\" x=\"101.52317\" xlink:href=\"#m89a9ee04b0\" y=\"38.957503\"/>\n     <use style=\"fill:#1f77b4;stroke:#1f77b4;\" x=\"159.303491\" xlink:href=\"#m89a9ee04b0\" y=\"90.535766\"/>\n     <use style=\"fill:#1f77b4;stroke:#1f77b4;\" x=\"140.597539\" xlink:href=\"#m89a9ee04b0\" y=\"67.508305\"/>\n     <use style=\"fill:#1f77b4;stroke:#1f77b4;\" x=\"150.90058\" xlink:href=\"#m89a9ee04b0\" y=\"76.773217\"/>\n     <use style=\"fill:#1f77b4;stroke:#1f77b4;\" x=\"114.582285\" xlink:href=\"#m89a9ee04b0\" y=\"63.949653\"/>\n     <use style=\"fill:#1f77b4;stroke:#1f77b4;\" x=\"131.603225\" xlink:href=\"#m89a9ee04b0\" y=\"64.584148\"/>\n     <use style=\"fill:#1f77b4;stroke:#1f77b4;\" x=\"147.255751\" xlink:href=\"#m89a9ee04b0\" y=\"74.202432\"/>\n     <use style=\"fill:#1f77b4;stroke:#1f77b4;\" x=\"174.844221\" xlink:href=\"#m89a9ee04b0\" y=\"98.917685\"/>\n     <use style=\"fill:#1f77b4;stroke:#1f77b4;\" x=\"145.378191\" xlink:href=\"#m89a9ee04b0\" y=\"69.056848\"/>\n     <use style=\"fill:#1f77b4;stroke:#1f77b4;\" x=\"159.35648\" xlink:href=\"#m89a9ee04b0\" y=\"76.535281\"/>\n     <use style=\"fill:#1f77b4;stroke:#1f77b4;\" x=\"156.896696\" xlink:href=\"#m89a9ee04b0\" y=\"67.191936\"/>\n     <use style=\"fill:#1f77b4;stroke:#1f77b4;\" x=\"101.986749\" xlink:href=\"#m89a9ee04b0\" y=\"24.532577\"/>\n     <use style=\"fill:#1f77b4;stroke:#1f77b4;\" x=\"134.307399\" xlink:href=\"#m89a9ee04b0\" y=\"62.654457\"/>\n     <use style=\"fill:#1f77b4;stroke:#1f77b4;\" x=\"130.001696\" xlink:href=\"#m89a9ee04b0\" y=\"89.619945\"/>\n     <use style=\"fill:#1f77b4;stroke:#1f77b4;\" x=\"94.101571\" xlink:href=\"#m89a9ee04b0\" y=\"41.521357\"/>\n     <use style=\"fill:#1f77b4;stroke:#1f77b4;\" x=\"156.139141\" xlink:href=\"#m89a9ee04b0\" y=\"98.027764\"/>\n     <use style=\"fill:#1f77b4;stroke:#1f77b4;\" x=\"158.37801\" xlink:href=\"#m89a9ee04b0\" y=\"82.133207\"/>\n     <use style=\"fill:#1f77b4;stroke:#1f77b4;\" x=\"149.545369\" xlink:href=\"#m89a9ee04b0\" y=\"60.26433\"/>\n     <use style=\"fill:#1f77b4;stroke:#1f77b4;\" x=\"134.738148\" xlink:href=\"#m89a9ee04b0\" y=\"63.889886\"/>\n     <use style=\"fill:#1f77b4;stroke:#1f77b4;\" x=\"156.110545\" xlink:href=\"#m89a9ee04b0\" y=\"102.369144\"/>\n     <use style=\"fill:#1f77b4;stroke:#1f77b4;\" x=\"81.2691\" xlink:href=\"#m89a9ee04b0\" y=\"44.500559\"/>\n     <use style=\"fill:#1f77b4;stroke:#1f77b4;\" x=\"89.94083\" xlink:href=\"#m89a9ee04b0\" y=\"26.422098\"/>\n     <use style=\"fill:#1f77b4;stroke:#1f77b4;\" x=\"130.641825\" xlink:href=\"#m89a9ee04b0\" y=\"47.801074\"/>\n     <use style=\"fill:#1f77b4;stroke:#1f77b4;\" x=\"115.134619\" xlink:href=\"#m89a9ee04b0\" y=\"63.626075\"/>\n     <use style=\"fill:#1f77b4;stroke:#1f77b4;\" x=\"163.285485\" xlink:href=\"#m89a9ee04b0\" y=\"81.600155\"/>\n     <use style=\"fill:#1f77b4;stroke:#1f77b4;\" x=\"87.996725\" xlink:href=\"#m89a9ee04b0\" y=\"36.932985\"/>\n     <use style=\"fill:#1f77b4;stroke:#1f77b4;\" x=\"169.47356\" xlink:href=\"#m89a9ee04b0\" y=\"116.998613\"/>\n     <use style=\"fill:#1f77b4;stroke:#1f77b4;\" x=\"108.012362\" xlink:href=\"#m89a9ee04b0\" y=\"68.350804\"/>\n     <use style=\"fill:#1f77b4;stroke:#1f77b4;\" x=\"128.052547\" xlink:href=\"#m89a9ee04b0\" y=\"68.77336\"/>\n     <use style=\"fill:#1f77b4;stroke:#1f77b4;\" x=\"149.195754\" xlink:href=\"#m89a9ee04b0\" y=\"76.05431\"/>\n     <use style=\"fill:#1f77b4;stroke:#1f77b4;\" x=\"172.338051\" xlink:href=\"#m89a9ee04b0\" y=\"100.102113\"/>\n     <use style=\"fill:#1f77b4;stroke:#1f77b4;\" x=\"162.94903\" xlink:href=\"#m89a9ee04b0\" y=\"100.214198\"/>\n     <use style=\"fill:#1f77b4;stroke:#1f77b4;\" x=\"134.840042\" xlink:href=\"#m89a9ee04b0\" y=\"71.28543\"/>\n     <use style=\"fill:#1f77b4;stroke:#1f77b4;\" x=\"132.686414\" xlink:href=\"#m89a9ee04b0\" y=\"63.434474\"/>\n     <use style=\"fill:#1f77b4;stroke:#1f77b4;\" x=\"125.07284\" xlink:href=\"#m89a9ee04b0\" y=\"71.208537\"/>\n     <use style=\"fill:#1f77b4;stroke:#1f77b4;\" x=\"152.435569\" xlink:href=\"#m89a9ee04b0\" y=\"95.483213\"/>\n     <use style=\"fill:#1f77b4;stroke:#1f77b4;\" x=\"122.792933\" xlink:href=\"#m89a9ee04b0\" y=\"65.542084\"/>\n     <use style=\"fill:#1f77b4;stroke:#1f77b4;\" x=\"160.099453\" xlink:href=\"#m89a9ee04b0\" y=\"100.027126\"/>\n     <use style=\"fill:#1f77b4;stroke:#1f77b4;\" x=\"128.124843\" xlink:href=\"#m89a9ee04b0\" y=\"56.210708\"/>\n     <use style=\"fill:#1f77b4;stroke:#1f77b4;\" x=\"144.310919\" xlink:href=\"#m89a9ee04b0\" y=\"63.616458\"/>\n     <use style=\"fill:#1f77b4;stroke:#1f77b4;\" x=\"142.599571\" xlink:href=\"#m89a9ee04b0\" y=\"65.397679\"/>\n     <use style=\"fill:#1f77b4;stroke:#1f77b4;\" x=\"174.464548\" xlink:href=\"#m89a9ee04b0\" y=\"104.536017\"/>\n     <use style=\"fill:#1f77b4;stroke:#1f77b4;\" x=\"155.92688\" xlink:href=\"#m89a9ee04b0\" y=\"78.640722\"/>\n     <use style=\"fill:#1f77b4;stroke:#1f77b4;\" x=\"140.644046\" xlink:href=\"#m89a9ee04b0\" y=\"66.8931\"/>\n     <use style=\"fill:#1f77b4;stroke:#1f77b4;\" x=\"134.874528\" xlink:href=\"#m89a9ee04b0\" y=\"82.975601\"/>\n     <use style=\"fill:#1f77b4;stroke:#1f77b4;\" x=\"125.435599\" xlink:href=\"#m89a9ee04b0\" y=\"64.256126\"/>\n     <use style=\"fill:#1f77b4;stroke:#1f77b4;\" x=\"98.392215\" xlink:href=\"#m89a9ee04b0\" y=\"52.008298\"/>\n     <use style=\"fill:#1f77b4;stroke:#1f77b4;\" x=\"172.794786\" xlink:href=\"#m89a9ee04b0\" y=\"88.919214\"/>\n     <use style=\"fill:#1f77b4;stroke:#1f77b4;\" x=\"100.633572\" xlink:href=\"#m89a9ee04b0\" y=\"55.177143\"/>\n     <use style=\"fill:#1f77b4;stroke:#1f77b4;\" x=\"123.734518\" xlink:href=\"#m89a9ee04b0\" y=\"75.188868\"/>\n     <use style=\"fill:#1f77b4;stroke:#1f77b4;\" x=\"131.951828\" xlink:href=\"#m89a9ee04b0\" y=\"68.90722\"/>\n     <use style=\"fill:#1f77b4;stroke:#1f77b4;\" x=\"143.059111\" xlink:href=\"#m89a9ee04b0\" y=\"74.677015\"/>\n     <use style=\"fill:#1f77b4;stroke:#1f77b4;\" x=\"168.340479\" xlink:href=\"#m89a9ee04b0\" y=\"100.957255\"/>\n     <use style=\"fill:#1f77b4;stroke:#1f77b4;\" x=\"91.151339\" xlink:href=\"#m89a9ee04b0\" y=\"32.023605\"/>\n     <use style=\"fill:#1f77b4;stroke:#1f77b4;\" x=\"131.20402\" xlink:href=\"#m89a9ee04b0\" y=\"63.910758\"/>\n     <use style=\"fill:#1f77b4;stroke:#1f77b4;\" x=\"139.020477\" xlink:href=\"#m89a9ee04b0\" y=\"64.762044\"/>\n     <use style=\"fill:#1f77b4;stroke:#1f77b4;\" x=\"146.036808\" xlink:href=\"#m89a9ee04b0\" y=\"60.973521\"/>\n     <use style=\"fill:#1f77b4;stroke:#1f77b4;\" x=\"112.95505\" xlink:href=\"#m89a9ee04b0\" y=\"55.715434\"/>\n     <use style=\"fill:#1f77b4;stroke:#1f77b4;\" x=\"165.839634\" xlink:href=\"#m89a9ee04b0\" y=\"93.649625\"/>\n     <use style=\"fill:#1f77b4;stroke:#1f77b4;\" x=\"84.180373\" xlink:href=\"#m89a9ee04b0\" y=\"42.264846\"/>\n     <use style=\"fill:#1f77b4;stroke:#1f77b4;\" x=\"170.630746\" xlink:href=\"#m89a9ee04b0\" y=\"102.964294\"/>\n     <use style=\"fill:#1f77b4;stroke:#1f77b4;\" x=\"163.910454\" xlink:href=\"#m89a9ee04b0\" y=\"67.839291\"/>\n     <use style=\"fill:#1f77b4;stroke:#1f77b4;\" x=\"164.023079\" xlink:href=\"#m89a9ee04b0\" y=\"78.006686\"/>\n     <use style=\"fill:#1f77b4;stroke:#1f77b4;\" x=\"127.249981\" xlink:href=\"#m89a9ee04b0\" y=\"66.958205\"/>\n     <use style=\"fill:#1f77b4;stroke:#1f77b4;\" x=\"107.375269\" xlink:href=\"#m89a9ee04b0\" y=\"59.446383\"/>\n     <use style=\"fill:#1f77b4;stroke:#1f77b4;\" x=\"146.226976\" xlink:href=\"#m89a9ee04b0\" y=\"70.675037\"/>\n     <use style=\"fill:#1f77b4;stroke:#1f77b4;\" x=\"156.919702\" xlink:href=\"#m89a9ee04b0\" y=\"68.547907\"/>\n     <use style=\"fill:#1f77b4;stroke:#1f77b4;\" x=\"148.97888\" xlink:href=\"#m89a9ee04b0\" y=\"79.893501\"/>\n     <use style=\"fill:#1f77b4;stroke:#1f77b4;\" x=\"116.84329\" xlink:href=\"#m89a9ee04b0\" y=\"73.855179\"/>\n     <use style=\"fill:#1f77b4;stroke:#1f77b4;\" x=\"101.20682\" xlink:href=\"#m89a9ee04b0\" y=\"57.390747\"/>\n     <use style=\"fill:#1f77b4;stroke:#1f77b4;\" x=\"131.034923\" xlink:href=\"#m89a9ee04b0\" y=\"76.388979\"/>\n     <use style=\"fill:#1f77b4;stroke:#1f77b4;\" x=\"119.0264\" xlink:href=\"#m89a9ee04b0\" y=\"61.2398\"/>\n     <use style=\"fill:#1f77b4;stroke:#1f77b4;\" x=\"174.783827\" xlink:href=\"#m89a9ee04b0\" y=\"83.315038\"/>\n     <use style=\"fill:#1f77b4;stroke:#1f77b4;\" x=\"145.255992\" xlink:href=\"#m89a9ee04b0\" y=\"72.125922\"/>\n     <use style=\"fill:#1f77b4;stroke:#1f77b4;\" x=\"55.099676\" xlink:href=\"#m89a9ee04b0\" y=\"18.050628\"/>\n     <use style=\"fill:#1f77b4;stroke:#1f77b4;\" x=\"175.233997\" xlink:href=\"#m89a9ee04b0\" y=\"85.058884\"/>\n     <use style=\"fill:#1f77b4;stroke:#1f77b4;\" x=\"87.877156\" xlink:href=\"#m89a9ee04b0\" y=\"21.900886\"/>\n     <use style=\"fill:#1f77b4;stroke:#1f77b4;\" x=\"183.309811\" xlink:href=\"#m89a9ee04b0\" y=\"124.463176\"/>\n     <use style=\"fill:#1f77b4;stroke:#1f77b4;\" x=\"143.904314\" xlink:href=\"#m89a9ee04b0\" y=\"72.201314\"/>\n     <use style=\"fill:#1f77b4;stroke:#1f77b4;\" x=\"82.177857\" xlink:href=\"#m89a9ee04b0\" y=\"23.493388\"/>\n     <use style=\"fill:#1f77b4;stroke:#1f77b4;\" x=\"128.59773\" xlink:href=\"#m89a9ee04b0\" y=\"66.574855\"/>\n     <use style=\"fill:#1f77b4;stroke:#1f77b4;\" x=\"150.40063\" xlink:href=\"#m89a9ee04b0\" y=\"65.008185\"/>\n     <use style=\"fill:#1f77b4;stroke:#1f77b4;\" x=\"146.39987\" xlink:href=\"#m89a9ee04b0\" y=\"84.77955\"/>\n     <use style=\"fill:#1f77b4;stroke:#1f77b4;\" x=\"140.019371\" xlink:href=\"#m89a9ee04b0\" y=\"59.76801\"/>\n     <use style=\"fill:#1f77b4;stroke:#1f77b4;\" x=\"163.761469\" xlink:href=\"#m89a9ee04b0\" y=\"83.95552\"/>\n     <use style=\"fill:#1f77b4;stroke:#1f77b4;\" x=\"216.274638\" xlink:href=\"#m89a9ee04b0\" y=\"131.363211\"/>\n     <use style=\"fill:#1f77b4;stroke:#1f77b4;\" x=\"148.443577\" xlink:href=\"#m89a9ee04b0\" y=\"95.318099\"/>\n     <use style=\"fill:#1f77b4;stroke:#1f77b4;\" x=\"122.559959\" xlink:href=\"#m89a9ee04b0\" y=\"71.989806\"/>\n     <use style=\"fill:#1f77b4;stroke:#1f77b4;\" x=\"160.535066\" xlink:href=\"#m89a9ee04b0\" y=\"98.259368\"/>\n     <use style=\"fill:#1f77b4;stroke:#1f77b4;\" x=\"147.808554\" xlink:href=\"#m89a9ee04b0\" y=\"74.199449\"/>\n     <use style=\"fill:#1f77b4;stroke:#1f77b4;\" x=\"151.012225\" xlink:href=\"#m89a9ee04b0\" y=\"85.177844\"/>\n     <use style=\"fill:#1f77b4;stroke:#1f77b4;\" x=\"74.800738\" xlink:href=\"#m89a9ee04b0\" y=\"33.017728\"/>\n     <use style=\"fill:#1f77b4;stroke:#1f77b4;\" x=\"165.724093\" xlink:href=\"#m89a9ee04b0\" y=\"69.830352\"/>\n     <use style=\"fill:#1f77b4;stroke:#1f77b4;\" x=\"140.078177\" xlink:href=\"#m89a9ee04b0\" y=\"80.806107\"/>\n     <use style=\"fill:#1f77b4;stroke:#1f77b4;\" x=\"170.363681\" xlink:href=\"#m89a9ee04b0\" y=\"96.15848\"/>\n     <use style=\"fill:#1f77b4;stroke:#1f77b4;\" x=\"86.844441\" xlink:href=\"#m89a9ee04b0\" y=\"34.663035\"/>\n     <use style=\"fill:#1f77b4;stroke:#1f77b4;\" x=\"156.827147\" xlink:href=\"#m89a9ee04b0\" y=\"85.466945\"/>\n     <use style=\"fill:#1f77b4;stroke:#1f77b4;\" x=\"157.75673\" xlink:href=\"#m89a9ee04b0\" y=\"81.199613\"/>\n     <use style=\"fill:#1f77b4;stroke:#1f77b4;\" x=\"115.176778\" xlink:href=\"#m89a9ee04b0\" y=\"58.598894\"/>\n     <use style=\"fill:#1f77b4;stroke:#1f77b4;\" x=\"139.573213\" xlink:href=\"#m89a9ee04b0\" y=\"59.172866\"/>\n     <use style=\"fill:#1f77b4;stroke:#1f77b4;\" x=\"133.010928\" xlink:href=\"#m89a9ee04b0\" y=\"71.506524\"/>\n     <use style=\"fill:#1f77b4;stroke:#1f77b4;\" x=\"165.43655\" xlink:href=\"#m89a9ee04b0\" y=\"77.24555\"/>\n     <use style=\"fill:#1f77b4;stroke:#1f77b4;\" x=\"128.147184\" xlink:href=\"#m89a9ee04b0\" y=\"70.889007\"/>\n     <use style=\"fill:#1f77b4;stroke:#1f77b4;\" x=\"137.885304\" xlink:href=\"#m89a9ee04b0\" y=\"63.297174\"/>\n     <use style=\"fill:#1f77b4;stroke:#1f77b4;\" x=\"147.557247\" xlink:href=\"#m89a9ee04b0\" y=\"79.990061\"/>\n     <use style=\"fill:#1f77b4;stroke:#1f77b4;\" x=\"118.960994\" xlink:href=\"#m89a9ee04b0\" y=\"52.37432\"/>\n     <use style=\"fill:#1f77b4;stroke:#1f77b4;\" x=\"126.88429\" xlink:href=\"#m89a9ee04b0\" y=\"60.185165\"/>\n     <use style=\"fill:#1f77b4;stroke:#1f77b4;\" x=\"131.403753\" xlink:href=\"#m89a9ee04b0\" y=\"49.828471\"/>\n     <use style=\"fill:#1f77b4;stroke:#1f77b4;\" x=\"145.157287\" xlink:href=\"#m89a9ee04b0\" y=\"79.833564\"/>\n     <use style=\"fill:#1f77b4;stroke:#1f77b4;\" x=\"118.299337\" xlink:href=\"#m89a9ee04b0\" y=\"59.77326\"/>\n     <use style=\"fill:#1f77b4;stroke:#1f77b4;\" x=\"102.114072\" xlink:href=\"#m89a9ee04b0\" y=\"53.008306\"/>\n     <use style=\"fill:#1f77b4;stroke:#1f77b4;\" x=\"138.419573\" xlink:href=\"#m89a9ee04b0\" y=\"68.585837\"/>\n     <use style=\"fill:#1f77b4;stroke:#1f77b4;\" x=\"123.977107\" xlink:href=\"#m89a9ee04b0\" y=\"68.378436\"/>\n     <use style=\"fill:#1f77b4;stroke:#1f77b4;\" x=\"121.748622\" xlink:href=\"#m89a9ee04b0\" y=\"58.822169\"/>\n     <use style=\"fill:#1f77b4;stroke:#1f77b4;\" x=\"162.728328\" xlink:href=\"#m89a9ee04b0\" y=\"84.238074\"/>\n     <use style=\"fill:#1f77b4;stroke:#1f77b4;\" x=\"107.738054\" xlink:href=\"#m89a9ee04b0\" y=\"50.855902\"/>\n     <use style=\"fill:#1f77b4;stroke:#1f77b4;\" x=\"114.103142\" xlink:href=\"#m89a9ee04b0\" y=\"64.954147\"/>\n     <use style=\"fill:#1f77b4;stroke:#1f77b4;\" x=\"108.820545\" xlink:href=\"#m89a9ee04b0\" y=\"66.288743\"/>\n     <use style=\"fill:#1f77b4;stroke:#1f77b4;\" x=\"105.385192\" xlink:href=\"#m89a9ee04b0\" y=\"32.548042\"/>\n     <use style=\"fill:#1f77b4;stroke:#1f77b4;\" x=\"174.928953\" xlink:href=\"#m89a9ee04b0\" y=\"95.684467\"/>\n     <use style=\"fill:#1f77b4;stroke:#1f77b4;\" x=\"169.31148\" xlink:href=\"#m89a9ee04b0\" y=\"113.495211\"/>\n     <use style=\"fill:#1f77b4;stroke:#1f77b4;\" x=\"85.362309\" xlink:href=\"#m89a9ee04b0\" y=\"35.089844\"/>\n     <use style=\"fill:#1f77b4;stroke:#1f77b4;\" x=\"149.154542\" xlink:href=\"#m89a9ee04b0\" y=\"86.865171\"/>\n     <use style=\"fill:#1f77b4;stroke:#1f77b4;\" x=\"162.609034\" xlink:href=\"#m89a9ee04b0\" y=\"90.523672\"/>\n     <use style=\"fill:#1f77b4;stroke:#1f77b4;\" x=\"157.936035\" xlink:href=\"#m89a9ee04b0\" y=\"54.442978\"/>\n     <use style=\"fill:#1f77b4;stroke:#1f77b4;\" x=\"115.786518\" xlink:href=\"#m89a9ee04b0\" y=\"78.478673\"/>\n     <use style=\"fill:#1f77b4;stroke:#1f77b4;\" x=\"100.752512\" xlink:href=\"#m89a9ee04b0\" y=\"50.633835\"/>\n     <use style=\"fill:#1f77b4;stroke:#1f77b4;\" x=\"135.937782\" xlink:href=\"#m89a9ee04b0\" y=\"84.506444\"/>\n     <use style=\"fill:#1f77b4;stroke:#1f77b4;\" x=\"116.950181\" xlink:href=\"#m89a9ee04b0\" y=\"63.674755\"/>\n     <use style=\"fill:#1f77b4;stroke:#1f77b4;\" x=\"195.425314\" xlink:href=\"#m89a9ee04b0\" y=\"93.071876\"/>\n     <use style=\"fill:#1f77b4;stroke:#1f77b4;\" x=\"186.172272\" xlink:href=\"#m89a9ee04b0\" y=\"131.201136\"/>\n     <use style=\"fill:#1f77b4;stroke:#1f77b4;\" x=\"129.214932\" xlink:href=\"#m89a9ee04b0\" y=\"65.179162\"/>\n     <use style=\"fill:#1f77b4;stroke:#1f77b4;\" x=\"138.573904\" xlink:href=\"#m89a9ee04b0\" y=\"74.744386\"/>\n     <use style=\"fill:#1f77b4;stroke:#1f77b4;\" x=\"115.049665\" xlink:href=\"#m89a9ee04b0\" y=\"63.587453\"/>\n     <use style=\"fill:#1f77b4;stroke:#1f77b4;\" x=\"70.701441\" xlink:href=\"#m89a9ee04b0\" y=\"36.289328\"/>\n     <use style=\"fill:#1f77b4;stroke:#1f77b4;\" x=\"129.701178\" xlink:href=\"#m89a9ee04b0\" y=\"74.985296\"/>\n     <use style=\"fill:#1f77b4;stroke:#1f77b4;\" x=\"176.838457\" xlink:href=\"#m89a9ee04b0\" y=\"110.143996\"/>\n     <use style=\"fill:#1f77b4;stroke:#1f77b4;\" x=\"143.316629\" xlink:href=\"#m89a9ee04b0\" y=\"59.454762\"/>\n     <use style=\"fill:#1f77b4;stroke:#1f77b4;\" x=\"145.122438\" xlink:href=\"#m89a9ee04b0\" y=\"74.80163\"/>\n     <use style=\"fill:#1f77b4;stroke:#1f77b4;\" x=\"130.497566\" xlink:href=\"#m89a9ee04b0\" y=\"83.725311\"/>\n     <use style=\"fill:#1f77b4;stroke:#1f77b4;\" x=\"135.248797\" xlink:href=\"#m89a9ee04b0\" y=\"66.642576\"/>\n     <use style=\"fill:#1f77b4;stroke:#1f77b4;\" x=\"151.342946\" xlink:href=\"#m89a9ee04b0\" y=\"90.083147\"/>\n     <use style=\"fill:#1f77b4;stroke:#1f77b4;\" x=\"125.882758\" xlink:href=\"#m89a9ee04b0\" y=\"50.638506\"/>\n     <use style=\"fill:#1f77b4;stroke:#1f77b4;\" x=\"133.689394\" xlink:href=\"#m89a9ee04b0\" y=\"56.853701\"/>\n     <use style=\"fill:#1f77b4;stroke:#1f77b4;\" x=\"141.681646\" xlink:href=\"#m89a9ee04b0\" y=\"75.830795\"/>\n     <use style=\"fill:#1f77b4;stroke:#1f77b4;\" x=\"151.847723\" xlink:href=\"#m89a9ee04b0\" y=\"80.54284\"/>\n    </g>\n   </g>\n   <g id=\"matplotlib.axis_1\">\n    <g id=\"xtick_1\">\n     <g id=\"line2d_1\">\n      <defs>\n       <path d=\"M 0 0 \nL 0 3.5 \n\" id=\"m6dfcc33909\" style=\"stroke:#000000;stroke-width:0.8;\"/>\n      </defs>\n      <g>\n       <use style=\"stroke:#000000;stroke-width:0.8;\" x=\"79.649792\" xlink:href=\"#m6dfcc33909\" y=\"143.1\"/>\n      </g>\n     </g>\n     <g id=\"text_1\">\n      <!-- −2 -->\n      <defs>\n       <path d=\"M 10.59375 35.5 \nL 73.1875 35.5 \nL 73.1875 27.203125 \nL 10.59375 27.203125 \nz\n\" id=\"DejaVuSans-8722\"/>\n       <path d=\"M 19.1875 8.296875 \nL 53.609375 8.296875 \nL 53.609375 0 \nL 7.328125 0 \nL 7.328125 8.296875 \nQ 12.9375 14.109375 22.625 23.890625 \nQ 32.328125 33.6875 34.8125 36.53125 \nQ 39.546875 41.84375 41.421875 45.53125 \nQ 43.3125 49.21875 43.3125 52.78125 \nQ 43.3125 58.59375 39.234375 62.25 \nQ 35.15625 65.921875 28.609375 65.921875 \nQ 23.96875 65.921875 18.8125 64.3125 \nQ 13.671875 62.703125 7.8125 59.421875 \nL 7.8125 69.390625 \nQ 13.765625 71.78125 18.9375 73 \nQ 24.125 74.21875 28.421875 74.21875 \nQ 39.75 74.21875 46.484375 68.546875 \nQ 53.21875 62.890625 53.21875 53.421875 \nQ 53.21875 48.921875 51.53125 44.890625 \nQ 49.859375 40.875 45.40625 35.40625 \nQ 44.1875 33.984375 37.640625 27.21875 \nQ 31.109375 20.453125 19.1875 8.296875 \nz\n\" id=\"DejaVuSans-50\"/>\n      </defs>\n      <g transform=\"translate(72.278698 157.698438)scale(0.1 -0.1)\">\n       <use xlink:href=\"#DejaVuSans-8722\"/>\n       <use x=\"83.789062\" xlink:href=\"#DejaVuSans-50\"/>\n      </g>\n     </g>\n    </g>\n    <g id=\"xtick_2\">\n     <g id=\"line2d_2\">\n      <g>\n       <use style=\"stroke:#000000;stroke-width:0.8;\" x=\"135.553173\" xlink:href=\"#m6dfcc33909\" y=\"143.1\"/>\n      </g>\n     </g>\n     <g id=\"text_2\">\n      <!-- 0 -->\n      <defs>\n       <path d=\"M 31.78125 66.40625 \nQ 24.171875 66.40625 20.328125 58.90625 \nQ 16.5 51.421875 16.5 36.375 \nQ 16.5 21.390625 20.328125 13.890625 \nQ 24.171875 6.390625 31.78125 6.390625 \nQ 39.453125 6.390625 43.28125 13.890625 \nQ 47.125 21.390625 47.125 36.375 \nQ 47.125 51.421875 43.28125 58.90625 \nQ 39.453125 66.40625 31.78125 66.40625 \nz\nM 31.78125 74.21875 \nQ 44.046875 74.21875 50.515625 64.515625 \nQ 56.984375 54.828125 56.984375 36.375 \nQ 56.984375 17.96875 50.515625 8.265625 \nQ 44.046875 -1.421875 31.78125 -1.421875 \nQ 19.53125 -1.421875 13.0625 8.265625 \nQ 6.59375 17.96875 6.59375 36.375 \nQ 6.59375 54.828125 13.0625 64.515625 \nQ 19.53125 74.21875 31.78125 74.21875 \nz\n\" id=\"DejaVuSans-48\"/>\n      </defs>\n      <g transform=\"translate(132.371923 157.698438)scale(0.1 -0.1)\">\n       <use xlink:href=\"#DejaVuSans-48\"/>\n      </g>\n     </g>\n    </g>\n    <g id=\"xtick_3\">\n     <g id=\"line2d_3\">\n      <g>\n       <use style=\"stroke:#000000;stroke-width:0.8;\" x=\"191.456555\" xlink:href=\"#m6dfcc33909\" y=\"143.1\"/>\n      </g>\n     </g>\n     <g id=\"text_3\">\n      <!-- 2 -->\n      <g transform=\"translate(188.275305 157.698438)scale(0.1 -0.1)\">\n       <use xlink:href=\"#DejaVuSans-50\"/>\n      </g>\n     </g>\n    </g>\n   </g>\n   <g id=\"matplotlib.axis_2\">\n    <g id=\"ytick_1\">\n     <g id=\"line2d_4\">\n      <defs>\n       <path d=\"M 0 0 \nL -3.5 0 \n\" id=\"mce422149c9\" style=\"stroke:#000000;stroke-width:0.8;\"/>\n      </defs>\n      <g>\n       <use style=\"stroke:#000000;stroke-width:0.8;\" x=\"35.304688\" xlink:href=\"#mce422149c9\" y=\"141.939152\"/>\n      </g>\n     </g>\n     <g id=\"text_4\">\n      <!-- −10 -->\n      <defs>\n       <path d=\"M 12.40625 8.296875 \nL 28.515625 8.296875 \nL 28.515625 63.921875 \nL 10.984375 60.40625 \nL 10.984375 69.390625 \nL 28.421875 72.90625 \nL 38.28125 72.90625 \nL 38.28125 8.296875 \nL 54.390625 8.296875 \nL 54.390625 0 \nL 12.40625 0 \nz\n\" id=\"DejaVuSans-49\"/>\n      </defs>\n      <g transform=\"translate(7.2 145.738371)scale(0.1 -0.1)\">\n       <use xlink:href=\"#DejaVuSans-8722\"/>\n       <use x=\"83.789062\" xlink:href=\"#DejaVuSans-49\"/>\n       <use x=\"147.412109\" xlink:href=\"#DejaVuSans-48\"/>\n      </g>\n     </g>\n    </g>\n    <g id=\"ytick_2\">\n     <g id=\"line2d_5\">\n      <g>\n       <use style=\"stroke:#000000;stroke-width:0.8;\" x=\"35.304688\" xlink:href=\"#mce422149c9\" y=\"117.349996\"/>\n      </g>\n     </g>\n     <g id=\"text_5\">\n      <!-- −5 -->\n      <defs>\n       <path d=\"M 10.796875 72.90625 \nL 49.515625 72.90625 \nL 49.515625 64.59375 \nL 19.828125 64.59375 \nL 19.828125 46.734375 \nQ 21.96875 47.46875 24.109375 47.828125 \nQ 26.265625 48.1875 28.421875 48.1875 \nQ 40.625 48.1875 47.75 41.5 \nQ 54.890625 34.8125 54.890625 23.390625 \nQ 54.890625 11.625 47.5625 5.09375 \nQ 40.234375 -1.421875 26.90625 -1.421875 \nQ 22.3125 -1.421875 17.546875 -0.640625 \nQ 12.796875 0.140625 7.71875 1.703125 \nL 7.71875 11.625 \nQ 12.109375 9.234375 16.796875 8.0625 \nQ 21.484375 6.890625 26.703125 6.890625 \nQ 35.15625 6.890625 40.078125 11.328125 \nQ 45.015625 15.765625 45.015625 23.390625 \nQ 45.015625 31 40.078125 35.4375 \nQ 35.15625 39.890625 26.703125 39.890625 \nQ 22.75 39.890625 18.8125 39.015625 \nQ 14.890625 38.140625 10.796875 36.28125 \nz\n\" id=\"DejaVuSans-53\"/>\n      </defs>\n      <g transform=\"translate(13.5625 121.149215)scale(0.1 -0.1)\">\n       <use xlink:href=\"#DejaVuSans-8722\"/>\n       <use x=\"83.789062\" xlink:href=\"#DejaVuSans-53\"/>\n      </g>\n     </g>\n    </g>\n    <g id=\"ytick_3\">\n     <g id=\"line2d_6\">\n      <g>\n       <use style=\"stroke:#000000;stroke-width:0.8;\" x=\"35.304688\" xlink:href=\"#mce422149c9\" y=\"92.76084\"/>\n      </g>\n     </g>\n     <g id=\"text_6\">\n      <!-- 0 -->\n      <g transform=\"translate(21.942187 96.560058)scale(0.1 -0.1)\">\n       <use xlink:href=\"#DejaVuSans-48\"/>\n      </g>\n     </g>\n    </g>\n    <g id=\"ytick_4\">\n     <g id=\"line2d_7\">\n      <g>\n       <use style=\"stroke:#000000;stroke-width:0.8;\" x=\"35.304688\" xlink:href=\"#mce422149c9\" y=\"68.171684\"/>\n      </g>\n     </g>\n     <g id=\"text_7\">\n      <!-- 5 -->\n      <g transform=\"translate(21.942187 71.970902)scale(0.1 -0.1)\">\n       <use xlink:href=\"#DejaVuSans-53\"/>\n      </g>\n     </g>\n    </g>\n    <g id=\"ytick_5\">\n     <g id=\"line2d_8\">\n      <g>\n       <use style=\"stroke:#000000;stroke-width:0.8;\" x=\"35.304688\" xlink:href=\"#mce422149c9\" y=\"43.582527\"/>\n      </g>\n     </g>\n     <g id=\"text_8\">\n      <!-- 10 -->\n      <g transform=\"translate(15.579687 47.381746)scale(0.1 -0.1)\">\n       <use xlink:href=\"#DejaVuSans-49\"/>\n       <use x=\"63.623047\" xlink:href=\"#DejaVuSans-48\"/>\n      </g>\n     </g>\n    </g>\n    <g id=\"ytick_6\">\n     <g id=\"line2d_9\">\n      <g>\n       <use style=\"stroke:#000000;stroke-width:0.8;\" x=\"35.304688\" xlink:href=\"#mce422149c9\" y=\"18.993371\"/>\n      </g>\n     </g>\n     <g id=\"text_9\">\n      <!-- 15 -->\n      <g transform=\"translate(15.579687 22.79259)scale(0.1 -0.1)\">\n       <use xlink:href=\"#DejaVuSans-49\"/>\n       <use x=\"63.623047\" xlink:href=\"#DejaVuSans-53\"/>\n      </g>\n     </g>\n    </g>\n   </g>\n   <g id=\"patch_3\">\n    <path d=\"M 35.304688 143.1 \nL 35.304688 7.2 \n\" style=\"fill:none;stroke:#000000;stroke-linecap:square;stroke-linejoin:miter;stroke-width:0.8;\"/>\n   </g>\n   <g id=\"patch_4\">\n    <path d=\"M 230.604688 143.1 \nL 230.604688 7.2 \n\" style=\"fill:none;stroke:#000000;stroke-linecap:square;stroke-linejoin:miter;stroke-width:0.8;\"/>\n   </g>\n   <g id=\"patch_5\">\n    <path d=\"M 35.304688 143.1 \nL 230.604688 143.1 \n\" style=\"fill:none;stroke:#000000;stroke-linecap:square;stroke-linejoin:miter;stroke-width:0.8;\"/>\n   </g>\n   <g id=\"patch_6\">\n    <path d=\"M 35.304688 7.2 \nL 230.604688 7.2 \n\" style=\"fill:none;stroke:#000000;stroke-linecap:square;stroke-linejoin:miter;stroke-width:0.8;\"/>\n   </g>\n  </g>\n </g>\n <defs>\n  <clipPath id=\"pb143fdf7d9\">\n   <rect height=\"135.9\" width=\"195.3\" x=\"35.304688\" y=\"7.2\"/>\n  </clipPath>\n </defs>\n</svg>\n"
          },
          "metadata": {
            "needs_background": "light"
          }
        }
      ],
      "source": [
        "d2l.set_figsize()\n",
        "d2l.plt.scatter(features[:, 1].detach().numpy(), labels.detach().numpy(), 1);"
      ]
    },
    {
      "cell_type": "markdown",
      "metadata": {
        "origin_pos": 12,
        "id": "AtZ0KSyaZ1ob"
      },
      "source": [
        "## 读取数据集\n",
        "\n",
        "回想一下，训练模型时要对数据集进行遍历，每次抽取一小批量样本，并使用它们来更新我们的模型。\n",
        "由于这个过程是训练机器学习算法的基础，所以有必要定义一个函数，\n",
        "该函数能打乱数据集中的样本并以小批量方式获取数据。\n",
        "\n",
        "在下面的代码中，我们[**定义一个`data_iter`函数，\n",
        "该函数接收批量大小、特征矩阵和标签向量作为输入，生成大小为`batch_size`的小批量**]。\n",
        "每个小批量包含一组特征和标签。\n"
      ]
    },
    {
      "cell_type": "code",
      "execution_count": 7,
      "metadata": {
        "origin_pos": 13,
        "tab": [
          "pytorch"
        ],
        "id": "WF2e6vNJZ1ob"
      },
      "outputs": [],
      "source": [
        "def data_iter(batch_size, features, labels):\n",
        "    num_examples = len(features)\n",
        "    indices = list(range(num_examples))\n",
        "    # 这些样本是随机读取的，没有特定的顺序\n",
        "    random.shuffle(indices)\n",
        "    for i in range(0, num_examples, batch_size):\n",
        "        batch_indices = torch.tensor(\n",
        "            indices[i: min(i + batch_size, num_examples)])\n",
        "        yield features[batch_indices], labels[batch_indices]#通过 yield，我们不再需要编写读文件的迭代类，就可以轻松实现文件读取"
      ]
    },
    {
      "cell_type": "markdown",
      "metadata": {
        "origin_pos": 15,
        "id": "aGBdDalpZ1oc"
      },
      "source": [
        "通常，我们利用GPU并行运算的优势，处理合理大小的“小批量”。\n",
        "每个样本都可以并行地进行模型计算，且每个样本损失函数的梯度也可以被并行计算。\n",
        "GPU可以在处理几百个样本时，所花费的时间不比处理一个样本时多太多。\n",
        "\n",
        "我们直观感受一下小批量运算：读取第一个小批量数据样本并打印。\n",
        "每个批量的特征维度显示批量大小和输入特征数。\n",
        "同样的，批量的标签形状与`batch_size`相等。\n"
      ]
    },
    {
      "cell_type": "code",
      "execution_count": 12,
      "metadata": {
        "origin_pos": 16,
        "tab": [
          "pytorch"
        ],
        "id": "XNtRtkOkZ1oc",
        "outputId": "01ace8e5-bf8d-4710-b5e2-14884a30ab71",
        "colab": {
          "base_uri": "https://localhost:8080/"
        }
      },
      "outputs": [
        {
          "output_type": "stream",
          "name": "stdout",
          "text": [
            "tensor([[-2.0138e+00, -5.1231e-01],\n",
            "        [-9.5633e-01,  5.7477e-01],\n",
            "        [-1.1419e+00, -2.0714e-01],\n",
            "        [-7.4654e-01, -9.7323e-01],\n",
            "        [ 2.4599e+00, -1.5378e+00],\n",
            "        [-9.6717e-01,  2.9361e-01],\n",
            "        [ 3.1156e-01, -1.4743e-03],\n",
            "        [ 1.4734e+00,  2.0655e-01],\n",
            "        [ 1.1254e+00,  2.6074e-01],\n",
            "        [ 2.1018e-01, -1.3986e-01]]) \n",
            " tensor([[ 1.9213],\n",
            "        [ 0.3533],\n",
            "        [ 2.6210],\n",
            "        [ 6.0048],\n",
            "        [14.3501],\n",
            "        [ 1.2840],\n",
            "        [ 4.8230],\n",
            "        [ 6.4643],\n",
            "        [ 5.5589],\n",
            "        [ 5.0927]])\n"
          ]
        }
      ],
      "source": [
        "batch_size = 10\n",
        "\n",
        "for X, y in data_iter(batch_size, features, labels):\n",
        "    print(X, '\\n', y)\n",
        "    break"
      ]
    },
    {
      "cell_type": "markdown",
      "metadata": {
        "origin_pos": 17,
        "id": "1L5Qij0PZ1oc"
      },
      "source": [
        "当我们运行迭代时，我们会连续地获得不同的小批量，直至遍历完整个数据集。\n",
        "上面实现的迭代对于教学来说很好，但它的执行效率很低，可能会在实际问题上陷入麻烦。\n",
        "例如，它要求我们将所有数据加载到内存中，并执行大量的随机内存访问。\n",
        "在深度学习框架中实现的内置迭代器效率要高得多，\n",
        "它可以处理存储在文件中的数据和数据流提供的数据。\n",
        "\n",
        "## 初始化模型参数\n",
        "\n",
        "[**在我们开始用小批量随机梯度下降优化我们的模型参数之前**]，\n",
        "(**我们需要先有一些参数**)。\n",
        "在下面的代码中，我们通过从均值为0、标准差为0.01的正态分布中采样随机数来初始化权重，\n",
        "并将偏置初始化为0。\n"
      ]
    },
    {
      "cell_type": "code",
      "execution_count": 13,
      "metadata": {
        "origin_pos": 19,
        "tab": [
          "pytorch"
        ],
        "id": "qQtLqlmDZ1oc"
      },
      "outputs": [],
      "source": [
        "w = torch.normal(0, 0.01, size=(2,1), requires_grad=True)\n",
        "b = torch.zeros(1, requires_grad=True)"
      ]
    },
    {
      "cell_type": "markdown",
      "metadata": {
        "origin_pos": 21,
        "id": "k8v4AwgRZ1od"
      },
      "source": [
        "在初始化参数之后，我们的任务是更新这些参数，直到这些参数足够拟合我们的数据。\n",
        "每次更新都需要计算损失函数关于模型参数的梯度。\n",
        "有了这个梯度，我们就可以向减小损失的方向更新每个参数。\n",
        "因为手动计算梯度很枯燥而且容易出错，所以没有人会手动计算梯度。\n",
        "我们使用 :numref:`sec_autograd`中引入的自动微分来计算梯度。\n",
        "\n",
        "## 定义模型\n",
        "\n",
        "接下来，我们必须[**定义模型，将模型的输入和参数同模型的输出关联起来。**]\n",
        "回想一下，要计算线性模型的输出，\n",
        "我们只需计算输入特征$\\mathbf{X}$和模型权重$\\mathbf{w}$的矩阵-向量乘法后加上偏置$b$。\n",
        "注意，上面的$\\mathbf{Xw}$是一个向量，而$b$是一个标量。\n",
        "回想一下 :numref:`subsec_broadcasting`中描述的广播机制：\n",
        "当我们用一个向量加一个标量时，标量会被加到向量的每个分量上。\n"
      ]
    },
    {
      "cell_type": "code",
      "execution_count": 14,
      "metadata": {
        "origin_pos": 22,
        "tab": [
          "pytorch"
        ],
        "id": "vVGKC7bnZ1od"
      },
      "outputs": [],
      "source": [
        "def linreg(X, w, b):  \n",
        "    \"\"\"线性回归模型\"\"\"\n",
        "    return torch.matmul(X, w) + b"
      ]
    },
    {
      "cell_type": "markdown",
      "metadata": {
        "origin_pos": 23,
        "id": "HEHpRRIlZ1od"
      },
      "source": [
        "## [**定义损失函数**]\n",
        "\n",
        "因为需要计算损失函数的梯度，所以我们应该先定义损失函数。\n",
        "这里我们使用 :numref:`sec_linear_regression`中描述的平方损失函数。\n",
        "在实现中，我们需要将真实值`y`的形状转换为和预测值`y_hat`的形状相同。\n"
      ]
    },
    {
      "cell_type": "code",
      "execution_count": 15,
      "metadata": {
        "origin_pos": 24,
        "tab": [
          "pytorch"
        ],
        "id": "xaIar08QZ1od"
      },
      "outputs": [],
      "source": [
        "def squared_loss(y_hat, y):  #@save\n",
        "    \"\"\"均方损失\"\"\"\n",
        "    return (y_hat - y.reshape(y_hat.shape)) ** 2 / 2"
      ]
    },
    {
      "cell_type": "markdown",
      "metadata": {
        "origin_pos": 25,
        "id": "HDMnWpzCZ1od"
      },
      "source": [
        "## (**定义优化算法**)\n",
        "\n",
        "正如我们在 :numref:`sec_linear_regression`中讨论的，线性回归有解析解。\n",
        "尽管线性回归有解析解，但本书中的其他模型却没有。\n",
        "这里我们介绍小批量随机梯度下降。\n",
        "\n",
        "在每一步中，使用从数据集中随机抽取的一个小批量，然后根据参数计算损失的梯度。\n",
        "接下来，朝着减少损失的方向更新我们的参数。\n",
        "下面的函数实现小批量随机梯度下降更新。\n",
        "该函数接受模型参数集合、学习速率和批量大小作为输入。每\n",
        "一步更新的大小由学习速率`lr`决定。\n",
        "因为我们计算的损失是一个批量样本的总和，所以我们用批量大小（`batch_size`）\n",
        "来规范化步长，这样步长大小就不会取决于我们对批量大小的选择。\n"
      ]
    },
    {
      "cell_type": "code",
      "execution_count": 16,
      "metadata": {
        "origin_pos": 27,
        "tab": [
          "pytorch"
        ],
        "id": "fSBhlupCZ1od"
      },
      "outputs": [],
      "source": [
        "def sgd(params, lr, batch_size):  #@save\n",
        "    \"\"\"小批量随机梯度下降\"\"\"\n",
        "    with torch.no_grad():\n",
        "        for param in params:\n",
        "            param -= lr * param.grad / batch_size#因为我们计算的损失是一个批量样本的总和，所以我们用批量大小（batch_size）来归一化步长，这样步长大小就不会取决于我们对批量大小的选择\n",
        "            param.grad.zero_()#pytorch不会自动将梯度给我们设为0，我们手动"
      ]
    },
    {
      "cell_type": "markdown",
      "metadata": {
        "origin_pos": 29,
        "id": "3tpcpC-iZ1oe"
      },
      "source": [
        "## 训练\n",
        "\n",
        "现在我们已经准备好了模型训练所有需要的要素，可以实现主要的[**训练过程**]部分了。\n",
        "理解这段代码至关重要，因为从事深度学习后，\n",
        "你会一遍又一遍地看到几乎相同的训练过程。\n",
        "在每次迭代中，我们读取一小批量训练样本，并通过我们的模型来获得一组预测。\n",
        "计算完损失后，我们开始反向传播，存储每个参数的梯度。\n",
        "最后，我们调用优化算法`sgd`来更新模型参数。\n",
        "\n",
        "概括一下，我们将执行以下循环：\n",
        "\n",
        "* 初始化参数\n",
        "* 重复以下训练，直到完成\n",
        "    * 计算梯度$\\mathbf{g} \\leftarrow \\partial_{(\\mathbf{w},b)} \\frac{1}{|\\mathcal{B}|} \\sum_{i \\in \\mathcal{B}} l(\\mathbf{x}^{(i)}, y^{(i)}, \\mathbf{w}, b)$\n",
        "    * 更新参数$(\\mathbf{w}, b) \\leftarrow (\\mathbf{w}, b) - \\eta \\mathbf{g}$\n",
        "\n",
        "在每个*迭代周期*（epoch）中，我们使用`data_iter`函数遍历整个数据集，\n",
        "并将训练数据集中所有样本都使用一次（假设样本数能够被批量大小整除）。\n",
        "这里的迭代周期个数`num_epochs`和学习率`lr`都是超参数，分别设为3和0.03。\n",
        "设置超参数很棘手，需要通过反复试验进行调整。\n",
        "我们现在忽略这些细节，以后会在 :numref:`chap_optimization`中详细介绍。\n"
      ]
    },
    {
      "cell_type": "code",
      "execution_count": 17,
      "metadata": {
        "origin_pos": 30,
        "tab": [
          "pytorch"
        ],
        "id": "03BOgvOOZ1oe"
      },
      "outputs": [],
      "source": [
        "lr = 0.03\n",
        "num_epochs = 3\n",
        "net = linreg\n",
        "loss = squared_loss"
      ]
    },
    {
      "cell_type": "code",
      "execution_count": 18,
      "metadata": {
        "origin_pos": 32,
        "tab": [
          "pytorch"
        ],
        "id": "N9rPtUPfZ1oe",
        "outputId": "673bbea5-a1d6-45be-d5e0-36c3de098c02",
        "colab": {
          "base_uri": "https://localhost:8080/"
        }
      },
      "outputs": [
        {
          "output_type": "stream",
          "name": "stdout",
          "text": [
            "epoch 1, loss 0.032300\n",
            "epoch 2, loss 0.000119\n",
            "epoch 3, loss 0.000054\n"
          ]
        }
      ],
      "source": [
        "for epoch in range(num_epochs):\n",
        "    for X, y in data_iter(batch_size, features, labels):\n",
        "        l = loss(net(X, w, b), y)  # X和y的小批量损失\n",
        "        # 因为l形状是(batch_size,1)，而不是一个标量。l中的所有元素被加到一起，\n",
        "        # 并以此计算关于[w,b]的梯度\n",
        "        l.sum().backward()\n",
        "        sgd([w, b], lr, batch_size)  # 使用参数的梯度更新参数\n",
        "    with torch.no_grad():\n",
        "        train_l = loss(net(features, w, b), labels)\n",
        "        print(f'epoch {epoch + 1}, loss {float(train_l.mean()):f}')"
      ]
    },
    {
      "cell_type": "markdown",
      "metadata": {
        "origin_pos": 34,
        "id": "aFv5mpvoZ1oe"
      },
      "source": [
        "因为我们使用的是自己合成的数据集，所以我们知道真正的参数是什么。\n",
        "因此，我们可以通过[**比较真实参数和通过训练学到的参数来评估训练的成功程度**]。\n",
        "事实上，真实参数和通过训练学到的参数确实非常接近。\n"
      ]
    },
    {
      "cell_type": "code",
      "execution_count": 19,
      "metadata": {
        "origin_pos": 35,
        "tab": [
          "pytorch"
        ],
        "id": "4TYgpr8sZ1oe",
        "outputId": "9f829c7a-1b9b-48da-c999-044a4ada3961",
        "colab": {
          "base_uri": "https://localhost:8080/"
        }
      },
      "outputs": [
        {
          "output_type": "stream",
          "name": "stdout",
          "text": [
            "w的估计误差: tensor([ 0.0003, -0.0002], grad_fn=<SubBackward0>)\n",
            "b的估计误差: tensor([1.4782e-05], grad_fn=<RsubBackward1>)\n"
          ]
        }
      ],
      "source": [
        "print(f'w的估计误差: {true_w - w.reshape(true_w.shape)}')\n",
        "print(f'b的估计误差: {true_b - b}')"
      ]
    },
    {
      "cell_type": "markdown",
      "metadata": {
        "origin_pos": 36,
        "id": "ZpURclzHZ1of"
      },
      "source": [
        "注意，我们不应该想当然地认为我们能够完美地求解参数。\n",
        "在机器学习中，我们通常不太关心恢复真正的参数，而更关心如何高度准确预测参数。\n",
        "幸运的是，即使是在复杂的优化问题上，随机梯度下降通常也能找到非常好的解。\n",
        "其中一个原因是，在深度网络中存在许多参数组合能够实现高度精确的预测。\n",
        "\n",
        "## 小结\n",
        "\n",
        "* 我们学习了深度网络是如何实现和优化的。在这一过程中只使用张量和自动微分，不需要定义层或复杂的优化器。\n",
        "* 这一节只触及到了表面知识。在下面的部分中，我们将基于刚刚介绍的概念描述其他模型，并学习如何更简洁地实现其他模型。\n",
        "\n",
        "## 练习\n",
        "\n",
        "1. 如果我们将权重初始化为零，会发生什么。算法仍然有效吗？\n",
        "1. 假设你是[乔治·西蒙·欧姆](https://en.wikipedia.org/wiki/Georg_Ohm)，试图为电压和电流的关系建立一个模型。你能使用自动微分来学习模型的参数吗?\n",
        "1. 您能基于[普朗克定律](https://en.wikipedia.org/wiki/Planck%27s_law)使用光谱能量密度来确定物体的温度吗？\n",
        "1. 如果你想计算二阶导数可能会遇到什么问题？你会如何解决这些问题？\n",
        "1. 为什么在`squared_loss`函数中需要使用`reshape`函数？\n",
        "1. 尝试使用不同的学习率，观察损失函数值下降的快慢。\n",
        "1. 如果样本个数不能被批量大小整除，`data_iter`函数的行为会有什么变化？\n"
      ]
    },
    {
      "cell_type": "markdown",
      "metadata": {
        "origin_pos": 38,
        "tab": [
          "pytorch"
        ],
        "id": "gkcyYSKwZ1of"
      },
      "source": [
        "[Discussions](https://discuss.d2l.ai/t/1778)\n"
      ]
    }
  ],
  "metadata": {
    "kernelspec": {
      "display_name": "Python 3",
      "name": "python3"
    },
    "language_info": {
      "name": "python"
    },
    "colab": {
      "name": "linear-regression-scratch.ipynb",
      "provenance": []
    }
  },
  "nbformat": 4,
  "nbformat_minor": 0
}